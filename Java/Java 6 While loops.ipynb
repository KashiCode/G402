{
 "cells": [
  {
   "cell_type": "markdown",
   "id": "823c5853-80d7-4123-8da6-53ebc2321089",
   "metadata": {},
   "source": [
    "# Short Assessed Programming Exercise 6: While loops\n",
    "\n",
    "## Maks Ostrynski\n",
    "## Student ID: 230367485\n",
    "## 03/10/2023\n",
    "## Version 1"
   ]
  },
  {
   "cell_type": "markdown",
   "id": "bf469a07-3229-491d-b43d-cb6e3bd88e88",
   "metadata": {},
   "source": [
    "## Summary of the Question\n",
    "\n",
    "Write a program that is to be used to record lap times for a runner when she trains. She runs the\r\n",
    "same forest circuit each day but runs for different lengths of time and so a different number of laps of that\r\n",
    "circuit each day. For each lap she does do in a session she wants to record the lap time in seconds and be told\r\n",
    "the total time. She is also aiming for consistency so wants to keep track of the difference in time between\r\n",
    "consecutive laps.\r\n",
    "The program should use a while loop to repeatedly ask the runner to give the lap times. The program should\r\n",
    "stop when the special code XXX is entered instead of a lap time. The program should then give the total\r\n",
    "number of laps completed and the total time in seconds. "
   ]
  },
  {
   "cell_type": "markdown",
   "id": "16c8c2f3-7cd9-4ee2-8b48-fb878bf765c7",
   "metadata": {},
   "source": [
    "## Program development\n",
    "\n",
    "In order to tackle this question i created two methods called LapCalculator and main. Below I will explain how each method functions and how it was tested to ensure its efficacy. In addition, i will provide information on how to run the entire program in jupyterLab. \n",
    "\n",
    "## <span style=\"color: blue;\">main()</span>\n",
    "\n",
    "## Functionality\n",
    "\n",
    "The function is first called by the main(); statement. It begins by defining several variables both integer and string. It then outputs a training message to the user and passeses the afformentioned variables to the Lapcalculator function. \n",
    "\n",
    "\n",
    "## Implementation\n",
    "\n",
    "he function is first called by the main(); statement. It begins by defining several variables both integer and string. It then outputs a training message to the user and passeses the afformentioned variables to the Lapcalculator function. "
   ]
  },
  {
   "cell_type": "code",
   "execution_count": null,
   "id": "cc5c25fc-d277-4e12-8b80-16a11c049075",
   "metadata": {},
   "outputs": [],
   "source": [
    "//creates a new method called Lapcalculator.\n",
    "public static void main() {\n",
    "\n",
    "//Defines several variables to be used in the While loop.\n",
    "    int lapNumber = 1;\n",
    "    int lapTime1 = 0; \n",
    "    int totalLaps = 0;\n",
    "    int totalTime = 0;\n",
    "    String input = \"\";\n",
    "\n",
    "//Prints a message to the user.\n",
    "    System.out.println(\"Training Run Data\");\n",
    "    System.out.println(\"-----------------\");\n",
    "\n",
    "//Passes variables to the LapCalculator method\n",
    "    LapCalculator(lapNumber,lapTime1,totalLaps,totalTime,input);\n",
    "\n",
    "        }\n"
   ]
  },
  {
   "cell_type": "markdown",
   "id": "3ad35bef-cca2-4869-9e1d-a8cc3cb0dd9b",
   "metadata": {},
   "source": [
    "### Testing: \n",
    "    \n",
    "In order to test the functionality of my method i called the function using the main(); statement multiple times."
   ]
  },
  {
   "cell_type": "code",
   "execution_count": 5,
   "id": "ff59f839-72c4-4788-8727-3d8151a9a7c9",
   "metadata": {},
   "outputs": [
    {
     "name": "stdout",
     "output_type": "stream",
     "text": [
      "Training Run Data\n",
      "-----------------\n",
      "What was lap time 1 (in s)? "
     ]
    },
    {
     "name": "stdin",
     "output_type": "stream",
     "text": [
      " 1243\n"
     ]
    },
    {
     "name": "stdout",
     "output_type": "stream",
     "text": [
      "What was lap time 2 (in s)? "
     ]
    },
    {
     "name": "stdin",
     "output_type": "stream",
     "text": [
      " 1245\n"
     ]
    },
    {
     "name": "stdout",
     "output_type": "stream",
     "text": [
      "Difference 2 seconds\n",
      "What was lap time 3 (in s)? "
     ]
    },
    {
     "name": "stdin",
     "output_type": "stream",
     "text": [
      " 1220\n"
     ]
    },
    {
     "name": "stdout",
     "output_type": "stream",
     "text": [
      "Difference 25 seconds\n",
      "What was lap time 4 (in s)? "
     ]
    },
    {
     "name": "stdin",
     "output_type": "stream",
     "text": [
      " 1227\n"
     ]
    },
    {
     "name": "stdout",
     "output_type": "stream",
     "text": [
      "Difference 7 seconds\n",
      "What was lap time 5 (in s)? "
     ]
    },
    {
     "name": "stdin",
     "output_type": "stream",
     "text": [
      " XXX\n"
     ]
    },
    {
     "name": "stdout",
     "output_type": "stream",
     "text": [
      "You did 3 laps. Your total time today was 4935s\n"
     ]
    }
   ],
   "source": [
    "main(); //Calls the main method."
   ]
  },
  {
   "cell_type": "markdown",
   "id": "068c7dac-b19c-4d97-84be-025fd67467bc",
   "metadata": {},
   "source": [
    "\n",
    "## <span style=\"color: blue;\">Lapcalculator()</span>\n",
    "\n",
    "#### Functionality\n",
    "\n",
    "The Lapcalculator method is a stand alone method called by the main(); statement. The method uses a while loop to increment through different laps and asks the user the enter the lap time they achieved for each lap. For every two laps these values are compared together to find the difference in time between them. This is output to the user. The totalTime of all inputs is also saved. In addition in order to exit the loop, the user must enter \"XXX\" which breaks the loop and outputs the totaltime over all entered lapnumbers. \n",
    "\n",
    "\n",
    "#### Implementation\n",
    "\n",
    "The Lapcalculator method is a stand alone method called by the main(); statement. The method begins by defining several int variables and one string variable named input. The method then creates a new scanner object and initialises a While loop with the condition that aslong as \"XXX\" is not entered the loop will continually increment indefintely. The lapnumber will increment with each pass. Once the lap number is over 1 then the comparison of the first laptime and the second laptime is carried out and the difference between them is saved to an int variable. Once the user types \"XXX\" the program stops running and outputs the totalTime over all laps.\n"
   ]
  },
  {
   "cell_type": "code",
   "execution_count": 4,
   "id": "416b2826-c958-49f1-a6a8-8a47dfbc29da",
   "metadata": {},
   "outputs": [],
   "source": [
    "public static void LapCalculator(int lapNumber, int lapTime1, int totalLaps, int totalTime, String input){\n",
    "//Creates a new scanner object to record user inputs.\n",
    "    Scanner scanner = new Scanner(System.in);\n",
    "    \n",
    "//Begins a while loop where the break condition is set to entering XXX.\n",
    "    while (!input.equals(\"XXX\")) {\n",
    "\n",
    "//Asks the user what their laptime was and records the response as the input variable. \n",
    "        System.out.print(\"What was lap time \" + lapNumber + \" (in s)? \");\n",
    "        input = scanner.next();\n",
    "\n",
    "//If the input is not equal to XXX then the laptime variable is set to the value of the input converted to an integer value.\n",
    "        if (!input.equals(\"XXX\")) {\n",
    "            int lapTime = Integer.parseInt(input);\n",
    "//Totaltime is set to the laptime added to the totaltime. \n",
    "            totalTime += lapTime;\n",
    "\n",
    "//When the Laptime is over 1 then the difference of laptime 1 and laptime is calculated. The maths.abs method ensures the output is always an absolute positive value. \n",
    "            if (lapNumber > 1) {\n",
    "                int difference = Math.abs(lapTime1 - lapTime);\n",
    "//Outputs the result of the calculation to the user. \n",
    "                System.out.println(\"Difference \" + difference + \" seconds\");\n",
    "            }\n",
    "//Increments the lapnumber and totallaps and sets laptime1 variable to the value stored in laptime. \n",
    "            lapNumber++;\n",
    "            lapTime1 = lapTime;\n",
    "            totalLaps++;\n",
    "        }\n",
    "    }\n",
    "\n",
    "//Once XXX is pressed the program outputs the total laps completed and the total time across those laps.\n",
    "    System.out.println(\"You did \" + (totalLaps) + \" laps. Your total time today was \" + totalTime + \"s\");\n",
    "    \n",
    "}\n",
    "//END LapCalculator\n"
   ]
  },
  {
   "cell_type": "markdown",
   "id": "e93f22c5-424f-455c-8f9d-da3aff5724ce",
   "metadata": {},
   "source": [
    "### Testing: \n",
    "    \n",
    "In order to test the functionality of my method i firstly ensured that the method correctly carried out integer comparison. The i also tested if both string and integer values were accepted as inputs and finally i tested if the break statement functioned correctly. "
   ]
  },
  {
   "cell_type": "code",
   "execution_count": 11,
   "id": "d1784574-9c66-45fe-a2fe-3633566fef9b",
   "metadata": {},
   "outputs": [
    {
     "name": "stdout",
     "output_type": "stream",
     "text": [
      "Training Run Data\n",
      "-----------------\n",
      "What was lap time 1 (in s)? "
     ]
    },
    {
     "name": "stdin",
     "output_type": "stream",
     "text": [
      " 1243\n"
     ]
    },
    {
     "name": "stdout",
     "output_type": "stream",
     "text": [
      "What was lap time 2 (in s)? "
     ]
    },
    {
     "name": "stdin",
     "output_type": "stream",
     "text": [
      " 1245\n"
     ]
    },
    {
     "name": "stdout",
     "output_type": "stream",
     "text": [
      "Difference 2 seconds\n",
      "What was lap time 3 (in s)? "
     ]
    },
    {
     "name": "stdin",
     "output_type": "stream",
     "text": [
      " 1220\n"
     ]
    },
    {
     "name": "stdout",
     "output_type": "stream",
     "text": [
      "Difference 25 seconds\n",
      "What was lap time 4 (in s)? "
     ]
    },
    {
     "name": "stdin",
     "output_type": "stream",
     "text": [
      " 1227\n"
     ]
    },
    {
     "name": "stdout",
     "output_type": "stream",
     "text": [
      "Difference 7 seconds\n",
      "What was lap time 5 (in s)? "
     ]
    },
    {
     "name": "stdin",
     "output_type": "stream",
     "text": [
      " XXX\n"
     ]
    },
    {
     "name": "stdout",
     "output_type": "stream",
     "text": [
      "You did 3 laps. Your total time today was 4935s\n"
     ]
    }
   ],
   "source": [
    "LapCalculator(); //Calls the Lapcalculator method"
   ]
  },
  {
   "cell_type": "markdown",
   "id": "c60e0758-780e-40fb-8ee2-27ebc59b6498",
   "metadata": {},
   "source": [
    "### Final product:\n",
    "\n",
    "For the completed program I have added additional comments using the // statement. I have also added a detailed description to my program, detailing the author, date created and a description of the entire program. \n"
   ]
  },
  {
   "cell_type": "code",
   "execution_count": 5,
   "id": "87d57c28-3917-40dd-a49d-56d90f3c6a3e",
   "metadata": {},
   "outputs": [
    {
     "name": "stdout",
     "output_type": "stream",
     "text": [
      "Training Run Data\n",
      "-----------------\n",
      "What was lap time 1 (in s)? "
     ]
    },
    {
     "name": "stdin",
     "output_type": "stream",
     "text": [
      " 1243\n"
     ]
    },
    {
     "name": "stdout",
     "output_type": "stream",
     "text": [
      "What was lap time 2 (in s)? "
     ]
    },
    {
     "name": "stdin",
     "output_type": "stream",
     "text": [
      " 1245\n"
     ]
    },
    {
     "name": "stdout",
     "output_type": "stream",
     "text": [
      "Difference 2 seconds\n",
      "What was lap time 3 (in s)? "
     ]
    },
    {
     "name": "stdin",
     "output_type": "stream",
     "text": [
      " 1220\n"
     ]
    },
    {
     "name": "stdout",
     "output_type": "stream",
     "text": [
      "Difference 25 seconds\n",
      "What was lap time 4 (in s)? "
     ]
    },
    {
     "name": "stdin",
     "output_type": "stream",
     "text": [
      " 1227\n"
     ]
    },
    {
     "name": "stdout",
     "output_type": "stream",
     "text": [
      "Difference 7 seconds\n",
      "What was lap time 5 (in s)? "
     ]
    },
    {
     "name": "stdin",
     "output_type": "stream",
     "text": [
      " XXX\n"
     ]
    },
    {
     "name": "stdout",
     "output_type": "stream",
     "text": [
      "You did 4 laps. Your total time today was 4935s\n"
     ]
    }
   ],
   "source": [
    "/* ***************************************\n",
    "  @author    Maks\n",
    "  @date      3rd October 2023\n",
    "  @version   1\n",
    "\n",
    "Lap Time: a program that is to be used to record lap times for a runner when she trains and the difference and total between laptimes.\n",
    "    \n",
    "****************************************/\n",
    "\n",
    "//creates a new method called Lapcalculator.\n",
    "public static void main() {\n",
    "\n",
    "//Defines several variables to be used in the While loop.\n",
    "    int lapNumber = 1;\n",
    "    int lapTime1 = 0; \n",
    "    int totalLaps = 0;\n",
    "    int totalTime = 0;\n",
    "    String input = \"\";\n",
    "\n",
    "//Prints a message to the user.\n",
    "    System.out.println(\"Training Run Data\");\n",
    "    System.out.println(\"-----------------\");\n",
    "\n",
    "//Passes variables to the LapCalculator method\n",
    "    LapCalculator(lapNumber,lapTime1,totalLaps,totalTime,input);\n",
    "\n",
    "        }\n",
    "\n",
    "\n",
    "public static void LapCalculator(int lapNumber, int lapTime1, int totalLaps, int totalTime, String input){\n",
    "//Creates a new scanner object to record user inputs.\n",
    "    Scanner scanner = new Scanner(System.in);\n",
    "    final String breakcondition = \"XXX\";\n",
    "    \n",
    "//Begins a while loop where the break condition is set to entering XXX.\n",
    "    while (!input.equals(breakcondition)) {\n",
    "\n",
    "//Asks the user what their laptime was and records the response as the input variable. \n",
    "        System.out.print(\"What was lap time \" + lapNumber + \" (in s)? \");\n",
    "        input = scanner.next();\n",
    "\n",
    "//If the input is not equal to XXX then the laptime variable is set to the value of the input converted to an integer value.\n",
    "        if (!input.equals(\"XXX\")) {\n",
    "            int lapTime = Integer.parseInt(input);\n",
    "//Totaltime is set to the laptime added to the totaltime. \n",
    "            totalTime += lapTime;\n",
    "\n",
    "//When the Laptime is over 1 then the difference of laptime 1 and laptime is calculated. The maths.abs method ensures the output is always an absolute positive value. \n",
    "            if (lapNumber > 1) {\n",
    "                int difference = Math.abs(lapTime1 - lapTime);\n",
    "//Outputs the result of the calculation to the user. \n",
    "                System.out.println(\"Difference \" + difference + \" seconds\");\n",
    "            }\n",
    "//Increments the lapnumber and totallaps and sets laptime1 variable to the value stored in laptime. \n",
    "            lapNumber++;\n",
    "            lapTime1 = lapTime;\n",
    "            totalLaps++;\n",
    "        }\n",
    "    }\n",
    "\n",
    "//Once XXX is pressed the program outputs the total laps completed and the total time across those laps.\n",
    "    System.out.println(\"You did \" + (totalLaps) + \" laps. Your total time today was \" + totalTime + \"s\");\n",
    "    \n",
    "}\n",
    "//END LapCalculator\n",
    "\n",
    "main(); //Calls the LapCalculator method at the start of the program. "
   ]
  },
  {
   "cell_type": "markdown",
   "id": "e3f91bff-158a-451f-a852-93b6d78c8374",
   "metadata": {},
   "source": [
    "## END OF DOCUMENT"
   ]
  }
 ],
 "metadata": {
  "kernelspec": {
   "display_name": "Java",
   "language": "java",
   "name": "java"
  },
  "language_info": {
   "codemirror_mode": "java",
   "file_extension": ".jshell",
   "mimetype": "text/x-java-source",
   "name": "Java",
   "pygments_lexer": "java",
   "version": "11.0.8+10-LTS"
  }
 },
 "nbformat": 4,
 "nbformat_minor": 5
}
