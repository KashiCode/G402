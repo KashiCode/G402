{
 "cells": [
  {
   "cell_type": "markdown",
   "id": "d38cef6e-ba9b-4e56-a69f-eb5e754433c7",
   "metadata": {},
   "source": [
    "# Lab 2\n",
    "\n",
    "Deadline: **Week 3** in your respective lab session"
   ]
  },
  {
   "cell_type": "markdown",
   "id": "3fd8d6f9-4682-450d-8faf-a4faf17daf50",
   "metadata": {},
   "source": [
    "### Name:\n",
    "### Student ID:"
   ]
  },
  {
   "cell_type": "markdown",
   "id": "acd4187d",
   "metadata": {},
   "source": [
    "***"
   ]
  },
  {
   "cell_type": "markdown",
   "id": "b6243396",
   "metadata": {},
   "source": [
    "## Question 1 [1 mark]\n",
    "\n",
    "Write a class `BankAccount`, with instance variables `accountNumber` and `balance`. The `balance` by default should be set to `0`. Apart from appropriate accessor methods and a constructor, you need to implement two instance methods: `deposit` and `withdraw`.\n",
    "\n",
    "`deposit` - should take any number as an argument, check if it is a valid number (greater than `0`), and add it to the `balance` if it is a valid number. If successful, return `true`; otherwise, return `false`.\n",
    "\n",
    "`withdraw` - should take any number as an argument, check if it is a valid number (greater than `0` and less than the `balance`) and deduct it from the balance if it is a valid number. If successful, return `true`; otherwise, return `false`.\n",
    "\n",
    "Lastly define class `Main` with the main method to test your code.\n",
    "\n",
    "The main objective of this exercise is to use an appropriate access modifier to encapsulate the data.\n",
    "\n"
   ]
  },
  {
   "cell_type": "markdown",
   "id": "a4e2a8d0",
   "metadata": {},
   "source": [
    "**Write your answer below:**"
   ]
  },
  {
   "cell_type": "code",
   "execution_count": 6,
   "id": "ce9471ee",
   "metadata": {
    "vscode": {
     "languageId": "java"
    }
   },
   "outputs": [],
   "source": [
    "\n",
    "    public class BankAccount {\n",
    "        private String accountNumber;\n",
    "        private double balance;\n",
    "\n",
    "        \n",
    "        public BankAccount(String accountNumber) {\n",
    "            this.accountNumber = accountNumber;\n",
    "            this.balance = 0;\n",
    "        }\n",
    "    \n",
    "        public String getAccountNumber() {\n",
    "            return accountNumber;\n",
    "        }\n",
    "    \n",
    "        public double getBalance() {\n",
    "            return balance;\n",
    "        }\n",
    "    \n",
    "        public boolean deposit(double amount) {\n",
    "            if (amount > 0) {\n",
    "                balance += amount;\n",
    "                return true;\n",
    "            } else {\n",
    "                return false;\n",
    "            }\n",
    "        }\n",
    "    \n",
    "        public boolean withdraw(double amount) {\n",
    "            if (amount > 0 && amount <= balance) {\n",
    "                balance -= amount;\n",
    "                return true;\n",
    "            } else {\n",
    "                return false;\n",
    "            }\n",
    "        }\n",
    "    }\n"
   ]
  },
  {
   "cell_type": "code",
   "execution_count": 7,
   "id": "fa55aaca",
   "metadata": {
    "vscode": {
     "languageId": "java"
    }
   },
   "outputs": [],
   "source": [
    "public class Main1 {\n",
    "    public static void main(String[] args) {\n",
    "        BankAccount ba = new BankAccount(\"123456789\");\n",
    "\n",
    "        System.out.println(ba.getAccountNumber());\n",
    "        System.out.println(ba.getBalance());\n",
    "\n",
    "        double depositAmount = 100;\n",
    "        System.out.println(ba.deposit(depositAmount));        // true\n",
    "\n",
    "        double invalidDepositAmount = -100;\n",
    "        System.out.println(ba.deposit(invalidDepositAmount)); // false\n",
    "\n",
    "        double withdrawAmount = 50;\n",
    "        System.out.println(ba.withdraw(withdrawAmount));      // true\n",
    "\n",
    "        double tooHighWithdrawal = 200;\n",
    "        System.out.println(ba.withdraw(tooHighWithdrawal));   // false\n",
    "\n",
    "        double tooLowWithdrawal = -200;\n",
    "        System.out.println(ba.withdraw(tooLowWithdrawal));    // false\n",
    "\n",
    "        System.out.println(ba.getAccountNumber());\n",
    "        System.out.println(ba.getBalance());\n",
    "    }\n",
    "}\n"
   ]
  },
  {
   "cell_type": "markdown",
   "id": "00706c0f",
   "metadata": {},
   "source": [
    "**Run your program:**\n"
   ]
  },
  {
   "cell_type": "code",
   "execution_count": 8,
   "id": "96419fcf",
   "metadata": {
    "vscode": {
     "languageId": "java"
    }
   },
   "outputs": [
    {
     "name": "stdout",
     "output_type": "stream",
     "text": [
      "123456789\n",
      "0.0\n",
      "true\n",
      "false\n",
      "true\n",
      "false\n",
      "false\n",
      "123456789\n",
      "50.0\n"
     ]
    }
   ],
   "source": [
    "Main1.main(null)"
   ]
  },
  {
   "cell_type": "markdown",
   "id": "4a31bb78-6117-412b-92d9-f150ba2ee053",
   "metadata": {},
   "source": [
    "***\n",
    "\n",
    "## Question 2 [1 mark]"
   ]
  },
  {
   "cell_type": "markdown",
   "id": "69e5f1d4-400d-4c56-b3e7-2cfacd1e88fb",
   "metadata": {},
   "source": [
    "Write a class `Student` with 2 instance variables, `name` and `id`. It also contains a constructor which initialises `name` and `id` to the values passed as an argument.\n",
    "\n",
    "Implement a class method (i.e. a static method) `checkDuplicates` inside the `Student` class, which takes an array of `Student` elements as an argument and checks whether there are two identical students in the array. If yes, it should return `true` and `false` otherwise.\n",
    "\n",
    "Lastly, define class `Main2` with the main method and test your code. Test at least one array with a duplicate and one without duplicates."
   ]
  },
  {
   "cell_type": "markdown",
   "id": "661ca302-591d-4686-ba0c-09b186a7b981",
   "metadata": {},
   "source": [
    "**Write your answer below:**"
   ]
  },
  {
   "cell_type": "code",
   "execution_count": 29,
   "id": "efdd1738-1564-4787-a811-fbc99e8ca644",
   "metadata": {
    "vscode": {
     "languageId": "java"
    }
   },
   "outputs": [],
   "source": [
    "public class Student {\n",
    "    private String name;\n",
    "    private int id;\n",
    "\n",
    "    public Student(String name, int id) {\n",
    "        this.name = name;\n",
    "        this.id = id;\n",
    "    }\n",
    "\n",
    "    public static boolean checkDuplicates(Student[] students) {\n",
    "        for (int i = 0; i < students.length; i++) {\n",
    "            for (int j = i + 1; j < students.length; j++) {\n",
    "                if (students[i].id == students[j].id) {\n",
    "                    return true;\n",
    "                }\n",
    "            }\n",
    "        }\n",
    "        return false; \n",
    "    }\n",
    "\n",
    "    public String getName() {\n",
    "        return this.name;\n",
    "    }\n",
    "\n",
    "    public int getId() {\n",
    "        return this.id;\n",
    "    }\n",
    "}"
   ]
  },
  {
   "cell_type": "code",
   "execution_count": 30,
   "id": "4f2fc57c-53d7-4bfb-ad37-4cb4217f8408",
   "metadata": {
    "vscode": {
     "languageId": "java"
    }
   },
   "outputs": [],
   "source": [
    "public class Main2 {\n",
    "    public static void main(String[] args) {\n",
    "\n",
    "        Student[] studentsArrayWithDuplicate = {\n",
    "                new Student(\"Alice\", 1),\n",
    "                new Student(\"Bob\", 2),\n",
    "                new Student(\"Charlie\", 3),\n",
    "                new Student(\"Alice\", 1)\n",
    "        };\n",
    "\n",
    "        Student[] studentsArrayWithoutDuplicate = {\n",
    "                new Student(\"Alice\", 1),\n",
    "                new Student(\"Bob\", 2),\n",
    "                new Student(\"Charlie\", 3),\n",
    "                new Student(\"David\", 4)\n",
    "        };\n",
    "\n",
    "        System.out.println(Student.checkDuplicates(studentsArrayWithDuplicate));\n",
    "        System.out.println(Student.checkDuplicates(studentsArrayWithoutDuplicate));\n",
    "    }\n",
    "}\n"
   ]
  },
  {
   "cell_type": "markdown",
   "id": "86678292-eaf1-4144-8540-af5a2897235f",
   "metadata": {},
   "source": [
    "**Run your program:**\n"
   ]
  },
  {
   "cell_type": "code",
   "execution_count": 14,
   "id": "0ad396b2-a91f-474c-bfc3-8c395500544a",
   "metadata": {
    "vscode": {
     "languageId": "java"
    }
   },
   "outputs": [
    {
     "name": "stdout",
     "output_type": "stream",
     "text": [
      "true\n",
      "false\n"
     ]
    }
   ],
   "source": [
    "Main2.main(null);"
   ]
  },
  {
   "cell_type": "markdown",
   "id": "f4db984e-b240-4b08-98b2-4950400706c2",
   "metadata": {},
   "source": [
    "***"
   ]
  },
  {
   "cell_type": "markdown",
   "id": "c86c6dbc",
   "metadata": {},
   "source": [
    "## Question 3 [1 mark]\n",
    "\n",
    "Write a method `sortStudents` which, given an array of `Student` elements, sorts it using the Bubble Sort algorithm by `name` in alphabetical order. If more than one student has the same `name`, sort it by `id` in ascending order. You can assume that each `id` is unique.\n",
    "\n",
    "Test your code!"
   ]
  },
  {
   "cell_type": "markdown",
   "id": "adbd95c5",
   "metadata": {},
   "source": [
    "**Write your answer below:**"
   ]
  },
  {
   "cell_type": "code",
   "execution_count": 37,
   "id": "a0838765-52f0-406c-a6f4-c4577da283a4",
   "metadata": {
    "vscode": {
     "languageId": "java"
    }
   },
   "outputs": [],
   "source": [
    "public static void sortStudents(Student[] s) {\n",
    "    int n = s.length;\n",
    "    for (int i = 0; i < n-1; i++) {\n",
    "        for (int j = 0; j < n-i-1; j++) {\n",
    "            if (s[j].getName().compareTo(s[j+1].getName()) > 0 || \n",
    "                (s[j].getName().compareTo(s[j+1].getName()) == 0 && s[j].getId() > s[j+1].getId())) {\n",
    "                Student temp = s[j];\n",
    "                s[j] = s[j+1];\n",
    "                s[j+1] = temp;\n",
    "            }\n",
    "        }\n",
    "    }\n",
    "}\n",
    "\n"
   ]
  },
  {
   "cell_type": "markdown",
   "id": "592174e5",
   "metadata": {},
   "source": [
    "**Run your program:**\n"
   ]
  },
  {
   "cell_type": "code",
   "execution_count": 39,
   "id": "3de85efc",
   "metadata": {
    "vscode": {
     "languageId": "java"
    }
   },
   "outputs": [
    {
     "name": "stdout",
     "output_type": "stream",
     "text": [
      "(Alice,2)\n",
      "(Bob,1)\n",
      "(Bob,5)\n",
      "(John,3)\n"
     ]
    }
   ],
   "source": [
    "Student[] students = {\n",
    "    new Student(\"John\", 3),\n",
    "    new Student(\"Alice\", 2),\n",
    "    new Student(\"Bob\", 1),\n",
    "    new Student(\"Bob\", 5)\n",
    "};\n",
    "\n",
    "sortStudents(students);\n",
    "\n",
    "for (Student s : students) {\n",
    "    System.out.println(\"(\" + s.getName() + \",\" + s.getId() + \")\" );\n",
    "}"
   ]
  },
  {
   "cell_type": "markdown",
   "id": "ecefc0d7-7b12-4520-a384-17d91b271621",
   "metadata": {},
   "source": [
    "***\n",
    "## Question 4 [1 mark]"
   ]
  },
  {
   "cell_type": "markdown",
   "id": "ed407701-4b56-4c52-b1fc-5f6c8686708d",
   "metadata": {},
   "source": [
    "Notice that for the `Student` class of the previous two questions, you can create two objects `s1` and `s2` which have identical `id` and `name`. In this exercise we will modify the `Student` class to make creating such two such objects impossible. It is for this reason that the constructor of the modified class `Student4` below is set to `private`. This makes it impossible to create objects of this class from outisde. Objects instead will be created by the static method `register`. \n",
    "\n",
    "Modify the static method `register` to check whether a student with this `name` and `id` was registered before. If yes, return a reference to the previously created instance of a `Student4`; if not, create a new instance of `Student4` using passed values and return its reference. You are allowed to modify the `Student4` class to achieve this.\n",
    "\n",
    "Define the `Main4` class to test your code. You should check whether the `register` function is returning the correct reference and whether it prints out the names of all registered students.\n",
    "\n",
    "You can assume that the maximum number of registered students does not exceed `30`.\n",
    "\n",
    "HINT: Keep track of the instances that have been created before by using a static array of type `Student4`."
   ]
  },
  {
   "cell_type": "markdown",
   "id": "b6a25187",
   "metadata": {},
   "source": [
    "**Write your answer below:**"
   ]
  },
  {
   "cell_type": "code",
   "execution_count": 26,
   "id": "8c892d2c",
   "metadata": {
    "vscode": {
     "languageId": "java"
    }
   },
   "outputs": [],
   "source": [
    "class Student4 {\n",
    "    String name;\n",
    "    int id;\n",
    "\n",
    "    private static final int MAX_STUDENTS = 30;\n",
    "    private static Student4[] registeredStudents = new Student4[MAX_STUDENTS];\n",
    "    private static int studentCount = 0;\n",
    "\n",
    "    private Student4(String name, int id) {\n",
    "        this.name = name;\n",
    "        this.id = id;\n",
    "    }\n",
    "\n",
    "\n",
    "    public static Student4 register(String name, int id) {\n",
    "\n",
    "        for (int i = 0; i < studentCount; i++) {\n",
    "            if (registeredStudents[i].name.equals(name) && registeredStudents[i].id == id) {\n",
    "                return registeredStudents[i]; \n",
    "            }\n",
    "        }\n",
    "        if (studentCount < MAX_STUDENTS) {\n",
    "            Student4 newStudent = new Student4(name, id);\n",
    "            registeredStudents[studentCount++] = newStudent;\n",
    "            return newStudent;\n",
    "        }\n",
    "        return null; \n",
    "    }\n",
    "    \n",
    "    public static int getStudentCount() {\n",
    "        return studentCount;\n",
    "    }\n",
    "\n",
    "    public static Student4 getRegisteredStudent(int index) {\n",
    "        if (index >= 0 && index < studentCount) {\n",
    "            return registeredStudents[index];\n",
    "        }\n",
    "        return null;\n",
    "    }\n",
    "}"
   ]
  },
  {
   "cell_type": "code",
   "execution_count": 27,
   "id": "4f701e92",
   "metadata": {
    "vscode": {
     "languageId": "java"
    }
   },
   "outputs": [],
   "source": [
    "public class Main4 {\n",
    "    public static void main(String[] args) {\n",
    "        Student4 student1 = Student4.register(\"John\", 123);\n",
    "        Student4 student2 = Student4.register(\"Jane\", 456);\n",
    "        Student4 student3 = Student4.register(\"John\", 123);\n",
    "\n",
    "        System.out.println(student1 == student3); // true\n",
    "        System.out.println(student1 == student2); // false\n",
    "\n",
    "        for (int i = 0; i < Student4.getStudentCount(); i++)\n",
    "            System.out.println(Student4.getRegisteredStudent(i).name + \" \" + Student4.getRegisteredStudent(i).id);\n",
    "    }\n",
    "}"
   ]
  },
  {
   "cell_type": "markdown",
   "id": "6d7bfd7b-fc89-4004-bb76-ee8850f9e4ed",
   "metadata": {},
   "source": [
    "**Run your program:**\n"
   ]
  },
  {
   "cell_type": "code",
   "execution_count": 28,
   "id": "06694778-e1d7-4d4a-b3ed-9cf68ee572ae",
   "metadata": {},
   "outputs": [
    {
     "name": "stdout",
     "output_type": "stream",
     "text": [
      "true\n",
      "false\n",
      "John 123\n",
      "Jane 456\n"
     ]
    }
   ],
   "source": [
    "Main4.main(null);"
   ]
  },
  {
   "cell_type": "markdown",
   "id": "2a62d568",
   "metadata": {},
   "source": [
    "***"
   ]
  },
  {
   "cell_type": "markdown",
   "id": "98780f43",
   "metadata": {},
   "source": [
    "## Question 5 [1 mark]\n",
    "\n",
    "Consider the class `Employee` below, it has two instance variables `name` of type `String` and `manager` of type `Employee`. \n",
    "\n",
    "A *district manager* is an employee that does not have any manager, i.e. its `manager` instance variable is set to `null`. Write the method `getDistrictManager()` which returns the district manager of the given employee. \n",
    "\n",
    "In other words if we have employees `jane`, `joe`, and `john`, such that `jane` is the manager of `joe` and `joe` is the manager of `john`, and moreover `jane` does not have a manager; then calling `john.getDistrictManager()` should return an object reference to `jane`. \n",
    "\n",
    "Finally test your code with the example above. "
   ]
  },
  {
   "cell_type": "markdown",
   "id": "94d2d005",
   "metadata": {},
   "source": [
    "**Write your answer below:**"
   ]
  },
  {
   "cell_type": "code",
   "execution_count": 40,
   "id": "ebbb859a",
   "metadata": {
    "vscode": {
     "languageId": "java"
    }
   },
   "outputs": [],
   "source": [
    "class Employee {\n",
    "    String name;\n",
    "    Employee manager;\n",
    "\n",
    "    Employee(String name, Employee manager) {\n",
    "        this.name = name;\n",
    "        this.manager = manager;\n",
    "    }\n",
    "\n",
    "    public Employee getDistrictManager() {\n",
    "        if (this.manager == null) {\n",
    "            return this;\n",
    "        }\n",
    "        return this.manager.getDistrictManager();\n",
    "    }\n",
    "}\n"
   ]
  },
  {
   "cell_type": "code",
   "execution_count": 41,
   "id": "7be225fb",
   "metadata": {
    "vscode": {
     "languageId": "java"
    }
   },
   "outputs": [],
   "source": [
    "class Main5 {\n",
    "    public static void main(String[] args) {\n",
    "        Employee jane = new Employee(\"jane\", null);\n",
    "        Employee joe = new Employee(\"joe\", jane);\n",
    "        Employee john = new Employee(\"john\", joe);\n",
    "\n",
    "        System.out.println(john.getDistrictManager().name); // should print jane\n",
    "        System.out.println(jane.getDistrictManager().name); // should print jane\n",
    "    }\n",
    "}"
   ]
  },
  {
   "cell_type": "markdown",
   "id": "83915bce-defb-4b0e-b072-a9074ba79743",
   "metadata": {},
   "source": [
    "**Run your program:**\n"
   ]
  },
  {
   "cell_type": "code",
   "execution_count": null,
   "id": "f7cc9dbc-f3cf-4eb5-8325-3680c0d589e2",
   "metadata": {},
   "outputs": [],
   "source": [
    "Main5.main"
   ]
  }
 ],
 "metadata": {
  "kernelspec": {
   "display_name": "Java",
   "language": "java",
   "name": "java"
  },
  "language_info": {
   "codemirror_mode": "java",
   "file_extension": ".jshell",
   "mimetype": "text/x-java-source",
   "name": "Java",
   "pygments_lexer": "java",
   "version": "11.0.8+10-LTS"
  }
 },
 "nbformat": 4,
 "nbformat_minor": 5
}
