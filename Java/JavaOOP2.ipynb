{
 "cells": [
  {
   "cell_type": "markdown",
   "id": "d38cef6e-ba9b-4e56-a69f-eb5e754433c7",
   "metadata": {},
   "source": [
    "# Lab 9\n",
    "\n",
    "Deadline: **Week 11** in your respective lab session"
   ]
  },
  {
   "cell_type": "markdown",
   "id": "3fd8d6f9-4682-450d-8faf-a4faf17daf50",
   "metadata": {},
   "source": [
    "### Name:\n",
    "### Student ID:"
   ]
  },
  {
   "cell_type": "markdown",
   "id": "687e1154-c295-42ae-aeb0-2f0446001106",
   "metadata": {},
   "source": [
    "***\n",
    "<span style=\"color: red;\">Note that this lab contains only 3 questions, but the total number of marks is still 5. The amount of marks does not correspond to the difficulty of the question but rather its importance. The higher the mark, the higher the importance.</span>"
   ]
  },
  {
   "cell_type": "markdown",
   "id": "e59f7f40-2982-4996-b01e-63212844413b",
   "metadata": {},
   "source": [
    "***\n",
    "\n",
    "## Question 1 [2 mark]"
   ]
  },
  {
   "cell_type": "markdown",
   "id": "9a329058-b307-477a-89aa-bed21e076027",
   "metadata": {},
   "source": [
    "You are given a partially implemented class `Level`. Implement the class method `loadLevel` and instance method `saveLevel`.\n",
    "\n",
    "`loadLevel` should attempt to read from `levelSave.txt` and create an instance of `Level` with the value read from the file. If an exception occurs during the reading process, `loadLevel` should create an instance of `Level` with a default value `0`.\n",
    "\n",
    "`saveLevel` should write the value stored inside the `level` attribute into `levelSave.txt`.\n",
    "\n",
    "Note that class `Level` has two constructors; you are expected to use them as appropriate.\n",
    "\n",
    "You are expected to understand how the `Level` class fits into the overall program and its expected behaviour.\n",
    "\n"
   ]
  },
  {
   "cell_type": "markdown",
   "id": "eb316635-97f3-4c19-bccf-4c6f69b18318",
   "metadata": {},
   "source": [
    "**Write your answer below:**\n"
   ]
  },
  {
   "cell_type": "code",
   "execution_count": 6,
   "id": "c9653abd-09c0-423d-b5ad-f3a50cea0361",
   "metadata": {
    "vscode": {
     "languageId": "java"
    }
   },
   "outputs": [],
   "source": [
    "import java.io.*;\n",
    "\n",
    "class Level {\n",
    "    private int level;\n",
    "\n",
    "    private Level(int level) {\n",
    "        this.level = level;\n",
    "    }\n",
    "\n",
    "    public Level() {\n",
    "        this.level = 0;\n",
    "    }\n",
    "\n",
    "    public void nextLevel() {\n",
    "        this.level++;\n",
    "    }\n",
    "\n",
    "    public int getLevel() {\n",
    "        return this.level;\n",
    "    }\n",
    "\n",
    "    public static Level loadLevel() {\n",
    "        File file = new File(\"LevelSave.txt\");\n",
    "        try (BufferedReader reader = new BufferedReader(new FileReader(file))) {\n",
    "            String line = reader.readLine();\n",
    "            int levelValue = Integer.parseInt(line);\n",
    "            return new Level(levelValue);\n",
    "        } catch (IOException | NumberFormatException e) {\n",
    "            return new Level(); // Returns a default Level object if an exception occurs\n",
    "        }\n",
    "    }\n",
    "\n",
    "    public void saveLevel() {\n",
    "        try (BufferedWriter writer = new BufferedWriter(new FileWriter(\"LevelSave.txt\"))) {\n",
    "            writer.write(String.valueOf(this.level));\n",
    "        } catch (IOException e) {\n",
    "            e.printStackTrace();\n",
    "        }\n",
    "    }\n",
    "}\n"
   ]
  },
  {
   "cell_type": "markdown",
   "id": "6fabf667-97b1-4343-96e3-86b4dd65765d",
   "metadata": {},
   "source": [
    "**Run your program:**\n"
   ]
  },
  {
   "cell_type": "code",
   "execution_count": 7,
   "id": "8aa692bb-3548-42a1-9306-11a72fcfbacd",
   "metadata": {
    "vscode": {
     "languageId": "java"
    }
   },
   "outputs": [
    {
     "name": "stdout",
     "output_type": "stream",
     "text": [
      "1) New Game\n",
      "2) Load Game\n"
     ]
    },
    {
     "name": "stdin",
     "output_type": "stream",
     "text": [
      " 1\n"
     ]
    },
    {
     "name": "stdout",
     "output_type": "stream",
     "text": [
      "Do you want to progress to the next level? y/n?\n"
     ]
    },
    {
     "name": "stdin",
     "output_type": "stream",
     "text": [
      " y\n"
     ]
    },
    {
     "name": "stdout",
     "output_type": "stream",
     "text": [
      "You are on level 1\n",
      "Do you want to progress to the next level? y/n?\n"
     ]
    },
    {
     "name": "stdin",
     "output_type": "stream",
     "text": [
      " y\n"
     ]
    },
    {
     "name": "stdout",
     "output_type": "stream",
     "text": [
      "You are on level 2\n",
      "Do you want to progress to the next level? y/n?\n"
     ]
    },
    {
     "name": "stdin",
     "output_type": "stream",
     "text": [
      " n\n"
     ]
    }
   ],
   "source": [
    "public class Main1 {\n",
    "    public static void main(String[] args) {\n",
    "        String option = inputString(\"1) New Game\\n2) Load Game\");\n",
    "\n",
    "        Level level = option.equals(\"1\") ? new Level() : loadGame();\n",
    "\n",
    "        String answer;\n",
    "        do {\n",
    "            answer = inputString(\"Do you want to progress to the next level? y/n?\");\n",
    "\n",
    "            if (answer.equals(\"y\")) {\n",
    "                level.nextLevel();\n",
    "                System.out.println(\"You are on level \" + level.getLevel());\n",
    "            }\n",
    "            else {\n",
    "                level.saveLevel();\n",
    "            }\n",
    "        } while (answer.equals(\"y\")); \n",
    "    }\n",
    "\n",
    "    public static Level loadGame() {\n",
    "        return Level.loadLevel();\n",
    "    }\n",
    "\n",
    "    public static String inputString(String message) {\n",
    "        System.out.println(message);\n",
    "        return new Scanner(System.in).nextLine();\n",
    "    }\n",
    "}\n",
    "\n",
    "Main1.main(null);\n"
   ]
  },
  {
   "cell_type": "markdown",
   "id": "4a31bb78-6117-412b-92d9-f150ba2ee053",
   "metadata": {},
   "source": [
    "***\n",
    "\n",
    "## Question 2 [2 mark]"
   ]
  },
  {
   "cell_type": "markdown",
   "id": "69e5f1d4-400d-4c56-b3e7-2cfacd1e88fb",
   "metadata": {},
   "source": [
    "Write a program that recursively parses expressions, input as strings, from the following recursively defined language and calculates and prints out the answer to the calculations.\n",
    "```\n",
    "<EXP> = + <DIGIT> <EXP> | - <DIGIT> <EXP> | * <DIGIT> <EXP> | / <DIGIT> <EXP> | ^ <DIGIT> <EXP> | % <DIGIT> <EXP> | & <EXP> | <DIGIT>  \n",
    "<DIGIT> = 0 | 1 | 2 | 3 | 4 | 5 | 6 | 7 | 8 | 9 | A | B | C | D | E | F\n",
    "\n",
    "```\n",
    "Here EXP represents expressions, where:\n",
    "- `+` represents addition.\n",
    "- `-` represents subtraction.\n",
    "- `&` represents sum up to the given number (inclusive).\n",
    "- `*` represents multiplication.\n",
    "- `/` represents division.\n",
    "- `^` represents exponentiation.\n",
    "- `%` represents modulus (remainder after division).\n",
    "\n",
    "DIGIT represents a number from 0 to 15.\n",
    "\n",
    "Legal expressions in this language involve putting the operator before its arguments (this is called Polish notation). Instead of writing 1+2, in this language you write +12. Notice only single digits are allowed, and spaces are not allowed.\n",
    "\n",
    "\n",
    "An example run of the program (characters in bold are typed in by the user):  \n",
    "`Please input the expression` **`3`**   \n",
    "`The answer is 3`\n",
    "\n",
    "\n",
    "Another example run:  \n",
    "`Please input the expression` **`B`**   \n",
    "`The answer is 11` \n",
    "\n",
    "\n",
    "Another example run:  \n",
    "`Please input the expression` **`&3`**   \n",
    "`The answer is 6`  \n",
    "\n",
    "Explanation: The & operator calculates the sum up to the given number (inclusive), so &3 sums up 1 + 2 + 3 = 6.\n",
    "\n",
    "\n",
    "Another example run:  \n",
    "`Please input the expression` **`&+23`**   \n",
    "`The answer is 15`  \n",
    "\n",
    "Explanation: Here, +23 represents addition (+) of 2 and 3, resulting in 5. Then, &5 sums up 1 + 2 + 3 + 4 + 5 = 15.\n",
    "\n",
    "\n",
    "Another example run:  \n",
    "`Please input the expression` **`^2+D9`**   \n",
    "`The answer is 4194304`  \n",
    "\n",
    "Explanation: Here, ^2+D9 calculates 2 raised to the power of the result of +D9. +D9 represents the addition of 13 (D in hexadecimal) and 9, resulting in 22. So, the expression calculates 2^22 = 4194304.\n",
    "\n",
    "\n",
    "Another example run:  \n",
    "`Please input the expression` **`&+1-82`**   \n",
    "`The answer is 28` \n",
    "\n",
    "Explanation: The expression &+1-82 is parsed as (& (+ 1 (- 8 2))). First, the expression inside the innermost parentheses is evaluated: (- 8 2) calculates the subtraction of 8 - 2, resulting in 6. Next, the expression inside the next parentheses is evaluated: (+ 1 6) calculates the addition of 1 + 6, resulting in 7.\n",
    "Then, the expression inside the outermost parentheses is evaluated: &7 calculates the sum up to the given number (inclusive), so &7 sums up 1 + 2 + 3 + 4 + 5 + 6 + 7 = 28.\n",
    "\n",
    "\n",
    "Another example run:  \n",
    "`Please input the expression` **`*2&%85`**   \n",
    "`The answer is 12` \n",
    "\n",
    "Explanation: Here, *2&%85 first calculates the result of %85, which represents the modulus of 8 by 5, resulting in 3. Then, &3 calculates the sum up to 3, which is 1 + 2 + 3 = 6. Finally, *26 calculates the multiplication of 2 and 6, resulting in 12.\n",
    "\n",
    "\n",
    "Another example run:  \n",
    "`Please input the expression` **`+C*7/A%92`**   \n",
    "`The answer is 82` \n",
    "\n",
    "Explanation: This expression involves addition, multiplication, division, and modulus. The program evaluates each operation step by step and outputs the final result as 82.\n",
    "\n",
    "\n",
    "\n",
    "Use a regular expression to check if the inputted string contains only valid characters. Additionally, if all characters are valid but the expression is illegal, throw a custom exception (you need to define it); you should not catch it.\n",
    "\n",
    "You must not use an explicit loop at all in your program.\n",
    "\n",
    "**Hint:** What base do all the digits belong to? How can you easily parse the string without writing much code?\n",
    "\n"
   ]
  },
  {
   "cell_type": "markdown",
   "id": "661ca302-591d-4686-ba0c-09b186a7b981",
   "metadata": {},
   "source": [
    "**Write your answer below:**"
   ]
  },
  {
   "cell_type": "code",
   "execution_count": 12,
   "id": "3f877e95-4541-4bb8-916b-091445080619",
   "metadata": {},
   "outputs": [],
   "source": [
    "\n",
    "class IllegalExpressionException extends Exception {\n",
    "    public IllegalExpressionException(String message) {\n",
    "        super(message);\n",
    "    }\n",
    "}"
   ]
  },
  {
   "cell_type": "code",
   "execution_count": 13,
   "id": "cfbd2d61-1991-47b0-b2ac-cc491ecc3b5a",
   "metadata": {},
   "outputs": [],
   "source": [
    "public class Main2 {\n",
    "    public static void main(String[] args) {\n",
    "        try { \n",
    "\n",
    "            // Create a new Scanner object to get user input\n",
    "            Scanner scanner = new java.util.Scanner(System.in); \n",
    "\n",
    "            // Prompt user to input the expression\n",
    "            System.out.print(\"Please input the expression: \"); \n",
    "            \n",
    "            // Get the expression entered by the user\n",
    "            String expression = scanner.nextLine(); \n",
    "            \n",
    "            /* Parse and calculate the expression ParseAndCalculate \n",
    "            function is used to translate the expression entered into an actual formula */\n",
    "            int result = evaluateExpression(expression);\n",
    "\n",
    "            // Print the result\n",
    "            System.out.println(\"The answer is \" + result); \n",
    "\n",
    "        // Catch IllegalExpressionException which is thrown when the expression is illegal    \n",
    "        } catch (IllegalExpressionException e) { \n",
    "\n",
    "            // Print the error message\n",
    "            System.out.println(\"Error: \" + e.getMessage());\n",
    "        }\n",
    "    }\n",
    "    \n",
    "\n",
    "    // Method to evaluate the expression by recursively calling itself \n",
    "    public static int evaluateExpression(String expression) throws IllegalExpressionException {\n",
    "\n",
    "        //Checks if the expression is empty\n",
    "        if (expression.length() == 0) { \n",
    "\n",
    "            // Throws IllegalExpressionException if the expression is empty\n",
    "            throw new IllegalExpressionException(\"Empty expression\");\n",
    "        }\n",
    "\n",
    "        //Checks if the expression has only one character\n",
    "        if (expression.length() == 1) { \n",
    "\n",
    "            // Return the value of the character\n",
    "            int result = Character.digit(expression.charAt(0), 16);\n",
    "\n",
    "            // Return the result\n",
    "            return result; \n",
    "        }\n",
    "\n",
    "        // Gets the operator which is the first character of the expression\n",
    "        char operator = expression.charAt(0);\n",
    "        \n",
    "        //Checks if the operator is one of the arithmetic operators\n",
    "        if (\"+-*/%^\".indexOf(operator) != -1) {\n",
    "\n",
    "            // Gets the first operand (character at index 1) and converts it from hex to denary using .digit\n",
    "            int firstoperand = Character.digit(expression.charAt(1), 16); \n",
    "\n",
    "            // Gets the remaining expression past the second character (inclusive of the third character)\n",
    "            String remainingExpr = expression.substring(2);\n",
    "\n",
    "            // Evaluates the remaining expression recursively and stores it as an integer\n",
    "\n",
    "            /*The way this works is by basically sending the remaining expression there each time\n",
    "            and then the remaining expression is evaluated and the result is returned to the previous call\n",
    "            and then the result is used to calculate the final result. This is done until the expression is fully evaluated.*/\n",
    "            int operand2AndRemaining = evaluateExpression(remainingExpr);\n",
    "\n",
    "            // Gets the second operand by taking the first element of the array of remaining expression\n",
    "            int operand2 = operand2AndRemaining;\n",
    "\n",
    "            // Gets the part of the expression remaining after this by converting the integer array to a string\n",
    "            remainingExpr = String.valueOf(operand2AndRemaining); \n",
    "\n",
    "\n",
    "            if (operator == '+') {     \n",
    "                return (firstoperand + operand2);\n",
    "            } \n",
    "            \n",
    "            else if (operator == '-') {\n",
    "                return (firstoperand - operand2);\n",
    "            } \n",
    "            \n",
    "            else if (operator == '*') {\n",
    "                return (firstoperand * operand2);\n",
    "            } \n",
    "            \n",
    "            else if (operator == '/') {\n",
    "                return (firstoperand / operand2);\n",
    "            } \n",
    "            \n",
    "            else if (operator == '^') {\n",
    "                return ((int) Math.pow(firstoperand, operand2));\n",
    "            } \n",
    "            \n",
    "            else if (operator == '%') {\n",
    "                return (firstoperand % operand2);\n",
    "            }\n",
    "        } \n",
    "        \n",
    "        else if (operator == '&') { \n",
    "            \n",
    "\n",
    "            String remainingExpr = expression.substring(1); \n",
    "       \n",
    "            int operandAndRemaining = evaluateExpression(remainingExpr); \n",
    "\n",
    "      \n",
    "            int operand = operandAndRemaining; \n",
    "         \n",
    "            remainingExpr = String.valueOf(operandAndRemaining); \n",
    "\n",
    "            int sum = 0; \n",
    "\n",
    "            for (int i = 1; i <= operand; i++) { \n",
    "                \n",
    "                sum += i; // \n",
    "            }\n",
    "\n",
    "            return (sum); \n",
    "        }\n",
    "\n",
    "        throw new IllegalExpressionException(\"Invalid operator\"); \n",
    "    }\n",
    "\n",
    "    public static String intArrayToString(int[] arr) { \n",
    "\n",
    "        StringBuilder sb = new StringBuilder(); \n",
    "\n",
    "        for (int num : arr) { \n",
    "\n",
    "            sb.append(num);\n",
    "        }\n",
    "\n",
    "        return sb.toString(); \n",
    "    }\n",
    "}"
   ]
  },
  {
   "cell_type": "markdown",
   "id": "86678292-eaf1-4144-8540-af5a2897235f",
   "metadata": {},
   "source": [
    "**Run your program:**\n"
   ]
  },
  {
   "cell_type": "code",
   "execution_count": 14,
   "id": "0ad396b2-a91f-474c-bfc3-8c395500544a",
   "metadata": {
    "vscode": {
     "languageId": "java"
    }
   },
   "outputs": [
    {
     "name": "stdout",
     "output_type": "stream",
     "text": [
      "Please input the expression: "
     ]
    },
    {
     "name": "stdin",
     "output_type": "stream",
     "text": [
      " +C*7/A%92\n"
     ]
    },
    {
     "name": "stdout",
     "output_type": "stream",
     "text": [
      "The answer is 82\n"
     ]
    }
   ],
   "source": [
    "Main2.main(null);"
   ]
  },
  {
   "cell_type": "markdown",
   "id": "f7d78bc4-91d6-4599-9b1b-92f54ad04024",
   "metadata": {},
   "source": [
    "***\n",
    "## Question 3 [1 mark]"
   ]
  },
  {
   "cell_type": "markdown",
   "id": "3c8c2842-016a-4fc3-a860-08725ed30efd",
   "metadata": {},
   "source": [
    "Consider the triangle below, where the maximum total from top to bottom is demonstrated:\n",
    "<p style=\"font-family: monospace; text-align: center;\">\n",
    "  <b><span style=\"color: red;\">3</span></b><br>\n",
    "  <b><span style=\"color: red;\">7</span></b> 4<br>\n",
    "  2 <b><span style=\"color: red;\">4</span></b> 6<br>\n",
    "  8 5 <b><span style=\"color: red;\">9</span></b> 3\n",
    "</p>\n",
    "\n",
    "The maximum total, obtained by summing the highlighted numbers ($3 + 7 + 4 + 9 = 23$), is $23$.\n",
    "\n",
    "Now, your task is to find the maximum total from top to bottom of a larger triangle, represented below:\n",
    "\n",
    "<p style=\"font-family: monospace; text-align: center;\">\n",
    "  75<br>\n",
    "  95 64<br>\n",
    "  17 47 82<br>\n",
    "  18 35 87 10<br>\n",
    "  20 04 82 47 65<br>\n",
    "  19 01 23 75 03 34<br>\n",
    "  88 02 77 73 07 63 67<br>\n",
    "  99 65 04 28 06 16 70 92<br>\n",
    "  41 41 26 56 83 40 80 70 33<br>\n",
    "  41 48 72 33 47 32 37 16 94 29<br>\n",
    "  53 71 44 65 25 43 91 52 97 51 14<br>\n",
    "  70 11 33 28 77 73 17 78 39 68 17 57<br>\n",
    "  91 71 52 38 17 14 91 43 58 50 27 29 48<br>\n",
    "  63 66 04 68 89 53 67 30 73 16 69 87 40 31<br>\n",
    "  04 62 98 27 23 09 70 98 73 93 38 53 60 04 23\n",
    "</p>\n",
    "\n",
    "Start by running the `save` method below, which will save the above triangle into a text file called `triangle.txt`. Allow it a few seconds to appear in your current directory.\n",
    "\n",
    "Then, your objective is to implement the `load` method, which should load the data from the `\"triangle.txt\"` file and return a 2D integer array representing the triangle above.\n",
    "\n",
    "Using the 2D array, solve the problem stated above (the maximum total from top to bottom of the triangle).\n",
    "\n",
    "**Hint:** Start from the bottom of the triangle.\n"
   ]
  },
  {
   "cell_type": "markdown",
   "id": "c5fe0fd0-036e-485c-911a-437f103e1e2f",
   "metadata": {},
   "source": [
    "**Write your answer below:**"
   ]
  },
  {
   "cell_type": "code",
   "execution_count": 24,
   "id": "33bb4a83-7ba7-49ae-9587-ddf0009ffdd3",
   "metadata": {
    "vscode": {
     "languageId": "java"
    }
   },
   "outputs": [],
   "source": [
    "import java.io.FileWriter;\n",
    "import java.io.IOException;\n",
    "\n",
    "public static void save() {\n",
    "        String data = \"75\\n\" +\n",
    "                    \"95 64\\n\" +\n",
    "                    \"17 47 82\\n\" +\n",
    "                    \"18 35 87 10\\n\" +\n",
    "                    \"20 04 82 47 65\\n\" +\n",
    "                    \"19 01 23 75 03 34\\n\" +\n",
    "                    \"88 02 77 73 07 63 67\\n\" +\n",
    "                    \"99 65 04 28 06 16 70 92\\n\" +\n",
    "                    \"41 41 26 56 83 40 80 70 33\\n\" +\n",
    "                    \"41 48 72 33 47 32 37 16 94 29\\n\" +\n",
    "                    \"53 71 44 65 25 43 91 52 97 51 14\\n\" +\n",
    "                    \"70 11 33 28 77 73 17 78 39 68 17 57\\n\" +\n",
    "                    \"91 71 52 38 17 14 91 43 58 50 27 29 48\\n\" +\n",
    "                    \"63 66 04 68 89 53 67 30 73 16 69 87 40 31\\n\" +\n",
    "                    \"04 62 98 27 23 09 70 98 73 93 38 53 60 04 23\";\n",
    "    try {\n",
    "        FileWriter writer = new FileWriter(\"triangle.txt\");\n",
    "        writer.write(data);\n",
    "        writer.close();\n",
    "    } \n",
    "    \n",
    "    catch (IOException e) {\n",
    "        e.printStackTrace();\n",
    "    }\n",
    "}\n",
    "\n",
    "save();"
   ]
  },
  {
   "cell_type": "code",
   "execution_count": 25,
   "id": "0a7ae164-6b99-4173-a65a-219cc1a1d2ff",
   "metadata": {},
   "outputs": [],
   "source": [
    "\n",
    "public static int[][] load() {\n",
    "\n",
    "   \n",
    "    try(BufferedReader reader = new BufferedReader(new FileReader(\"triangle.txt\"))) {\n",
    "\n",
    "      \n",
    "        ArrayList<int[]> lines = new ArrayList<>();\n",
    "\n",
    "        \n",
    "        String line;\n",
    "\n",
    "        while ((line = reader.readLine()) != null) {\n",
    "            String[] numbers = line.split(\" \");\n",
    "\n",
    "            \n",
    "            int[] row = new int[numbers.length];\n",
    "\n",
    "           \n",
    "            for (int i = 0; i < numbers.length; i++) {\n",
    "\n",
    "                \n",
    "                row[i] = Integer.parseInt(numbers[i]);\n",
    "            }\n",
    "\n",
    "            lines.add(row);\n",
    "        }\n",
    "\n",
    "        int[][] triangleArray = new int[lines.size()][];\n",
    "\n",
    "    \n",
    "        for (int i = 0; i < lines.size(); i++) {\n",
    "            triangleArray[i] = lines.get(i);\n",
    "        }\n",
    "\n",
    "        //Returns the 2D array\n",
    "        return triangleArray;\n",
    "    }\n",
    "\n",
    "    catch (IOException e) {\n",
    "        e.printStackTrace();\n",
    "        return null;\n",
    "    }\n",
    "\n",
    "}"
   ]
  },
  {
   "cell_type": "code",
   "execution_count": 26,
   "id": "f765cc02-b3ea-49c6-b3d3-f73526086582",
   "metadata": {
    "vscode": {
     "languageId": "java"
    }
   },
   "outputs": [],
   "source": [
    "public static void solvePuzzle(int[][] triangleArray) {\n",
    "\n",
    "    for (int i = triangleArray.length - 2; i >= 0; i--) {\n",
    "        for (int j = 0; j < triangleArray[i].length; j++) {\n",
    "            triangleArray[i][j] += Math.max(triangleArray[i + 1][j], triangleArray[i + 1][j + 1]);\n",
    "        }\n",
    "    }\n",
    "    \n",
    "    //Prints the maximum sum\n",
    "    System.out.println(triangleArray[0][0]);\n",
    "}"
   ]
  },
  {
   "cell_type": "markdown",
   "id": "cbf3c460-6088-4e9f-aced-e51555d57b4e",
   "metadata": {},
   "source": [
    "**Run your program:**\n"
   ]
  },
  {
   "cell_type": "code",
   "execution_count": 27,
   "id": "ac33953a-bc70-4107-924e-511d71686f12",
   "metadata": {
    "vscode": {
     "languageId": "java"
    }
   },
   "outputs": [
    {
     "name": "stdout",
     "output_type": "stream",
     "text": [
      "1074\n"
     ]
    }
   ],
   "source": [
    "solvePuzzle(load());\n"
   ]
  },
  {
   "cell_type": "code",
   "execution_count": null,
   "id": "f993c3b8-2fc0-4b0a-9225-2c8c05681a43",
   "metadata": {},
   "outputs": [],
   "source": []
  }
 ],
 "metadata": {
  "kernelspec": {
   "display_name": "Java",
   "language": "java",
   "name": "java"
  },
  "language_info": {
   "codemirror_mode": "java",
   "file_extension": ".jshell",
   "mimetype": "text/x-java-source",
   "name": "Java",
   "pygments_lexer": "java",
   "version": "11.0.8+10-LTS"
  }
 },
 "nbformat": 4,
 "nbformat_minor": 5
}
