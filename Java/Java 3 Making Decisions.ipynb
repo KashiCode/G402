{
 "cells": [
  {
   "cell_type": "markdown",
   "id": "be2c7dbb-7156-49dd-9152-fe37553205f2",
   "metadata": {},
   "source": [
    "# Short Assessed Programming Exercise 3: Making Decisions\n",
    "\n",
    "## Maks Ostrynski\n",
    "## Student ID: 230367485\n",
    "## 27/09/2023\n",
    "## Version 1"
   ]
  },
  {
   "cell_type": "markdown",
   "id": "f1b45460-a91c-4c72-867d-97ae2133260b",
   "metadata": {},
   "source": [
    "## Summary of the Question\n",
    "\n",
    "Write a program which asks a student their first and second individually achieved exam grades for theory, dry run and programming. Then taking these values the highest grade for each exam are displayed for each module at the end of the program."
   ]
  },
  {
   "cell_type": "markdown",
   "id": "0d0641b6-fdcf-4ea5-80ef-fcae31585f4f",
   "metadata": {},
   "source": [
    "## Program development\n",
    "\n",
    "In order to tackle this question i created three interconnected methods: ExamQuestion, GradeComparison and CalculateGrade. For each individual method I will explain how the method functions and how it was tested to ensure its efficacy. In addition, i will provide information on how to run the entire program in jupyterLab. \n",
    "\n",
    "## <span style=\"color: blue;\">ExamQuestion()</span>\n",
    "\n",
    "#### Functionality\n",
    "This method is called by the ExamQuestion(); statement. The program ask the user to input their three individual module grades across two seperate examinations. It will then pass these grades to the CalculateGrade method and return a String value which corresponds to the grade achieved before outputting this variable to the user. The method will also pass these variables to the GradeComparison function which will determine, across the two examinations, which grade was better than the other. The method will recieve this value and using the CalculateGrade method call it will convert this value to its String value and output the highest grades achieved across the two exams to the user for each module. \n",
    "\n",
    "#### Implementation\n",
    "This method is called by the ExamQuestion(); statement. The method firstly creates a new scanner object which will be used to scan and record user inputs to variables. The method then asks the user to input their theory, dry run and programming grades for both the first exam and their second exam in order. The entered inputs are stored as variables and are passed individually to the CalculateGrade method which works would which grade the student has earned according to the entered integer values. The method then outputs to the user the grades earned for their initial examination and the second examination. Then the method passes values to the GradeComparison method which works out if one grade is better than another. The better grade is returned and converted from an integer value into a string by the CalculateGrade method before being stored in a seperate variable. The program then outputs the three highest grades achieved across both exams for each module.   \n"
   ]
  },
  {
   "cell_type": "code",
   "execution_count": 22,
   "id": "cb0006fa-9d2d-42d5-bc6b-04db555220d0",
   "metadata": {},
   "outputs": [],
   "source": [
    "//defines a method called ExamQuestion.\n",
    "public static void ExamQuestion() {\n",
    "\n",
    "    //creates and defines a new scanner object. \n",
    "        Scanner scanner = new Scanner(System.in);\n",
    "\n",
    "    //Outputs a message asking the user for their theory grade.\n",
    "        System.out.println(\"Test 1: What is your 1st theory grade? 1)A+ 2)A 3)B 4)C 5)D 6)F 7)G \");\n",
    "    //Records the response using the scanner as an integer variable.\n",
    "        int theory = scanner.nextInt();\n",
    "    //Passes the integer value to the CalculateGrade method and assigns the returned result to a String variable. \n",
    "        String new_theory = CalculateGrade(theory);\n",
    "\n",
    "     //Outputs a message asking the user for their dry run grade.\n",
    "        System.out.println(\"Test 1: What is your 1st dry run grade? 1)A+ 2)A 3)B 4)C 5)D 6)F 7)G \");\n",
    "    //Records the response using the scanner as an integer variable.\n",
    "        int DryRun = scanner.nextInt();\n",
    "    //Passes the integer value to the CalculateGrade method and assigns the returned result to a String variable. \n",
    "        String new_DryRun = CalculateGrade(DryRun);\n",
    "\n",
    "     //Outputs a message asking the user for their program grade.\n",
    "        System.out.println(\"Test 1: What is your 1st program grade? 1)A+ 2)A 3)B 4)C 5)D 6)F 7)G \");\n",
    "\n",
    "    //Records the response using the scanner as an integer variable.\n",
    "        int ProgramGrade = scanner.nextInt();\n",
    "    //Passes the integer value to the CalculateGrade method and assigns the returned result to a String variable. \n",
    "        String new_PG = CalculateGrade(ProgramGrade);\n",
    "\n",
    "     //Outputs an empty line. \n",
    "        System.out.println(\"                                                                \");\n",
    "    //Outputs a statement showing what the grades for the initial exam are to the user.\n",
    "        System.out.println(\"Your grades are: \" + new_theory + \" \" + new_DryRun + \" \" + new_PG);\n",
    "     //Outputs an empty line. \n",
    "        System.out.println(\"                                                                \");\n",
    "\n",
    "\n",
    "     //Outputs a message asking the user for their 2nd theory grade.\n",
    "        System.out.println(\"Test 2: What is your 2nd theory grade? 1)A+ 2)A 3)B 4)C 5)D 6)F 7)G \");\n",
    "    //Records the response using the scanner as an integer variable.\n",
    "        int theory2 = scanner.nextInt();\n",
    "    //Passes the integer value to the CalculateGrade method and assigns the returned result to a String variable. \n",
    "        String new_theory2 = CalculateGrade(theory2);\n",
    "\n",
    "    //Outputs a message asking the user for their 2nd dry run grade.\n",
    "        System.out.println(\"Test 2: What is your 2nd dry run grade? 1)A+ 2)A 3)B 4)C 5)D 6)F 7)G \");\n",
    "    //Records the response using the scanner as an integer variable.\n",
    "        int DryRun2 = scanner.nextInt();\n",
    "    //Passes the integer value to the CalculateGrade method and assigns the returned result to a String variable. \n",
    "        String new_DryRun2 = CalculateGrade(DryRun2);\n",
    "\n",
    "    //Outputs a message asking the user for their 2nd program grade.\n",
    "        System.out.println(\"Test 2: What is your 2nd program grade? 1)A+ 2)A 3)B 4)C 5)D 6)F 7)G \");\n",
    "\n",
    "    //Records the response using the scanner as an integer variable.\n",
    "        int ProgramGrade2 = scanner.nextInt();\n",
    "    //Passes the integer value to the CalculateGrade method and assigns the returned result to a String variable. \n",
    "        String new_PG2 = CalculateGrade(ProgramGrade2);\n",
    "\n",
    "    //Outputs an empty line.\n",
    "        System.out.println(\"                                                                \");\n",
    "    //Outputs a statement showing what the grades for the second exam are to the user.\n",
    "        System.out.println(\"Your grades are: \" + new_theory2 + \" \" + new_DryRun2 + \" \" + new_PG2);\n",
    "    //Outputs an empty line.\n",
    "        System.out.println(\"                                                                \");\n",
    "   \n",
    "\n",
    "    //Passes the integer grades for the intial and second assessment to the GradeComparison function and stores the returned value as an integer variable. \n",
    "        int Highest_theory = GradeComparison(theory, theory2);\n",
    "    //Passes the integer grades for the intial and second assessment to the GradeComparison function and stores the returned value as an integer variable. \n",
    "        int Highest_dryrun = GradeComparison(DryRun, DryRun2);\n",
    "    //Passes the integer grades for the intial and second assessment to the GradeComparison function and stores the returned value as an integer variable. \n",
    "        int Highest_PG = GradeComparison(ProgramGrade, ProgramGrade2);\n",
    "\n",
    "\n",
    "    //Passes the integer values from the GradeComparison operation to the CalculateGrade method and stores the returned value as a String variable. \n",
    "        String Final1 = CalculateGrade(Highest_theory);\n",
    "    //Passes the integer values from the GradeComparison operation to the CalculateGrade method and stores the returned value as a String variable. \n",
    "        String Final2 = CalculateGrade(Highest_dryrun);\n",
    "    //Passes the integer values from the GradeComparison operation to the CalculateGrade method and stores the returned value as a String variable. \n",
    "        String Final3 = CalculateGrade(Highest_PG);\n",
    "\n",
    "\n",
    "    //Outputs to the User the highest grades (in string format) across both the examinations and across all three modules.  \n",
    "        System.out.println(\"Your final three test grades are Theory:\" + Final1 + \" Dry Run:\" + Final2 + \" Program:\" + Final3 );\n",
    "    }\n",
    "// END ExamQuesion. \n"
   ]
  },
  {
   "cell_type": "markdown",
   "id": "3694e2db-3e0e-4ea5-90ea-2efa09997a7f",
   "metadata": {},
   "source": [
    "### Testing:\n",
    "\n",
    "In order to test the functionality of the method I called the method multiple times using the ExamQuestion(); statement. In addition I also tested the method by entering values that were not recognised as grades on the program. \n",
    "\n"
   ]
  },
  {
   "cell_type": "code",
   "execution_count": 23,
   "id": "adbc5f46-a169-4ecf-a35b-48eb3a01259b",
   "metadata": {},
   "outputs": [
    {
     "name": "stdout",
     "output_type": "stream",
     "text": [
      "Test 1: What is your 1st theory grade? 1)A+ 2)A 3)B 4)C 5)D 6)F 7)G \n"
     ]
    },
    {
     "name": "stdin",
     "output_type": "stream",
     "text": [
      " 1\n"
     ]
    },
    {
     "name": "stdout",
     "output_type": "stream",
     "text": [
      "Test 1: What is your 1st dry run grade? 1)A+ 2)A 3)B 4)C 5)D 6)F 7)G \n"
     ]
    },
    {
     "name": "stdin",
     "output_type": "stream",
     "text": [
      " 2\n"
     ]
    },
    {
     "name": "stdout",
     "output_type": "stream",
     "text": [
      "Test 1: What is your 1st program grade? 1)A+ 2)A 3)B 4)C 5)D 6)F 7)G \n"
     ]
    },
    {
     "name": "stdin",
     "output_type": "stream",
     "text": [
      " 3\n"
     ]
    },
    {
     "name": "stdout",
     "output_type": "stream",
     "text": [
      "                                                                \n",
      "Your grades are: A+ A B\n",
      "                                                                \n",
      "Test 2: What is your 2nd theory grade? 1)A+ 2)A 3)B 4)C 5)D 6)F 7)G \n"
     ]
    },
    {
     "name": "stdin",
     "output_type": "stream",
     "text": [
      " 3\n"
     ]
    },
    {
     "name": "stdout",
     "output_type": "stream",
     "text": [
      "Test 2: What is your 2nd dry run grade? 1)A+ 2)A 3)B 4)C 5)D 6)F 7)G \n"
     ]
    },
    {
     "name": "stdin",
     "output_type": "stream",
     "text": [
      " 2\n"
     ]
    },
    {
     "name": "stdout",
     "output_type": "stream",
     "text": [
      "Test 2: What is your 2nd program grade? 1)A+ 2)A 3)B 4)C 5)D 6)F 7)G \n"
     ]
    },
    {
     "name": "stdin",
     "output_type": "stream",
     "text": [
      " 1\n"
     ]
    },
    {
     "name": "stdout",
     "output_type": "stream",
     "text": [
      "                                                                \n",
      "Your grades are: B A A+\n",
      "                                                                \n",
      "Your final three test grades are Theory:A+ Dry Run:A Program:A+\n"
     ]
    }
   ],
   "source": [
    "ExamQuestion(); //calls the ExamQuestion method (normal run)"
   ]
  },
  {
   "cell_type": "code",
   "execution_count": 24,
   "id": "ea25c321-0f62-46c0-94ad-6ff82e2daba0",
   "metadata": {},
   "outputs": [
    {
     "name": "stdout",
     "output_type": "stream",
     "text": [
      "Test 1: What is your 1st theory grade? 1)A+ 2)A 3)B 4)C 5)D 6)F 7)G \n"
     ]
    },
    {
     "name": "stdin",
     "output_type": "stream",
     "text": [
      " 8\n"
     ]
    },
    {
     "name": "stdout",
     "output_type": "stream",
     "text": [
      "Test 1: What is your 1st dry run grade? 1)A+ 2)A 3)B 4)C 5)D 6)F 7)G \n"
     ]
    },
    {
     "name": "stdin",
     "output_type": "stream",
     "text": [
      " 8\n"
     ]
    },
    {
     "name": "stdout",
     "output_type": "stream",
     "text": [
      "Test 1: What is your 1st program grade? 1)A+ 2)A 3)B 4)C 5)D 6)F 7)G \n"
     ]
    },
    {
     "name": "stdin",
     "output_type": "stream",
     "text": [
      " 8\n"
     ]
    },
    {
     "name": "stdout",
     "output_type": "stream",
     "text": [
      "                                                                \n",
      "Your grades are: Invalid grade Invalid grade Invalid grade\n",
      "                                                                \n",
      "Test 2: What is your 2nd theory grade? 1)A+ 2)A 3)B 4)C 5)D 6)F 7)G \n"
     ]
    },
    {
     "name": "stdin",
     "output_type": "stream",
     "text": [
      " 8\n"
     ]
    },
    {
     "name": "stdout",
     "output_type": "stream",
     "text": [
      "Test 2: What is your 2nd dry run grade? 1)A+ 2)A 3)B 4)C 5)D 6)F 7)G \n"
     ]
    },
    {
     "name": "stdin",
     "output_type": "stream",
     "text": [
      " 8\n"
     ]
    },
    {
     "name": "stdout",
     "output_type": "stream",
     "text": [
      "Test 2: What is your 2nd program grade? 1)A+ 2)A 3)B 4)C 5)D 6)F 7)G \n"
     ]
    },
    {
     "name": "stdin",
     "output_type": "stream",
     "text": [
      " 8\n"
     ]
    },
    {
     "name": "stdout",
     "output_type": "stream",
     "text": [
      "                                                                \n",
      "Your grades are: Invalid grade Invalid grade Invalid grade\n",
      "                                                                \n",
      "Your final three test grades are Theory:Invalid grade Dry Run:Invalid grade Program:Invalid grade\n"
     ]
    }
   ],
   "source": [
    "ExamQuestion(); //calls the ExamQuestion method (run with unrecognised values)"
   ]
  },
  {
   "cell_type": "markdown",
   "id": "db675e43-377b-4ba3-9ada-da15baa1ad2d",
   "metadata": {},
   "source": [
    "### Important Note:\n",
    "\n",
    "It should be noted that the user should avoid entering non integer values into the program as there are currently no arguments or defensive techniques to prevent a user from accidently entering non intger values which could cause the program to crash. In addition the user should avoid entering a zero into each field as this, despite being an integer, will lead to the program crashing. "
   ]
  },
  {
   "cell_type": "markdown",
   "id": "ede2ee7c-bf35-48cd-9923-747909cdd728",
   "metadata": {},
   "source": [
    "## <span style=\"color: blue;\">CalculateGrade()</span>\n",
    "\n",
    "#### Functionality\n",
    "This method is called within the ExamQuestion() method. The method works by taking an integer value, that is passed to it as a parameter and calculating the equivalent String value. This value will then be returned to the previous method as a String rather than an Integer. \n",
    "\n",
    "#### Implementation\n",
    "This method is called within the ExamQuestion() method. The method starts by recieving an integer value. This integer value is then compared to digits from 1 to 7 which are navigated using IF ELSE statements to match the integer value to the correct String grade Value. This value is then returned to the method and passed to the original method that called the method. If an integer value cannot be found then a statement \"invalid grade\" is assigned."
   ]
  },
  {
   "cell_type": "code",
   "execution_count": 25,
   "id": "d242d5de-a69e-4d7f-a77f-a24ca00ccb59",
   "metadata": {},
   "outputs": [],
   "source": [
    "//Defines a method which takes an integer parameter from another method and returns a String value to the method which has called it.  \n",
    "    public static String CalculateGrade(int numericGrade) {\n",
    "\n",
    "    //if the Grade is equal to 1 then return \"A+\"\n",
    "          if (numericGrade == 1) {\n",
    "            return \"A+\";\n",
    "    //if the Grade is equal to 2 then return \"A\"\n",
    "        } else if (numericGrade == 2) {\n",
    "            return \"A\";\n",
    "    //if the Grade is equal to 3 then return \"B\"\n",
    "        } else if (numericGrade == 3) {\n",
    "            return \"B\";\n",
    "    //if the Grade is equal to 4 then return \"C\"\n",
    "        } else if (numericGrade == 4) {\n",
    "            return \"C\";\n",
    "    //if the Grade is equal to 5 then return \"D\"\n",
    "        } else if (numericGrade == 5) {\n",
    "            return \"D\";\n",
    "    //if the Grade is equal to 6 then return \"F\"\n",
    "        } else if (numericGrade == 6) {\n",
    "            return \"F\";\n",
    "    //if the Grade is equal to 7 then return \"G\"\n",
    "        } else if (numericGrade == 7) {\n",
    "            return \"G\";\n",
    "    //if the Grade is not equal to any of the above integer values then output \"invalid grade\".\n",
    "        } else {\n",
    "            return \"Invalid grade\";\n",
    "        }\n",
    "    }\n",
    "//END CalculateGrade. \n"
   ]
  },
  {
   "cell_type": "markdown",
   "id": "a0529c26-3538-4ec0-bb5c-dc15039d892e",
   "metadata": {},
   "source": [
    "### Testing:\n",
    "\n",
    "In order to test the functionality of the method I called the method multiple times using the CalculateGrade(); statement. Within this statement i assigned an integer value to pass to the method.\n"
   ]
  },
  {
   "cell_type": "code",
   "execution_count": 26,
   "id": "b2aa0d1b-dcdd-4c9c-aae7-e5a0bc564995",
   "metadata": {},
   "outputs": [
    {
     "data": {
      "text/plain": [
       "D"
      ]
     },
     "execution_count": 26,
     "metadata": {},
     "output_type": "execute_result"
    }
   ],
   "source": [
    "CalculateGrade(5); //calls the CalculateGrade method and passes a parameter of 5 to it. "
   ]
  },
  {
   "cell_type": "markdown",
   "id": "cdfcf3a0-3a07-411b-bf42-e78fc606249b",
   "metadata": {},
   "source": [
    "## <span style=\"color: blue;\">GradeComparison()</span>\n",
    "\n",
    "#### Functionality\n",
    "This method is called within the ExamQuestion() method. The purpose of this method is to return the highest grade which is conversely the lowest integer of the pair.  The method works by taking two integer values, that are passed to it as parameters. The method then outputs the lowest value of both int values and returns this to the ExamQuestion() method. \n",
    "\n",
    "#### Implementation\n",
    "This method is called within the ExamQuestion() method. The method works by taking two integer values, that are passed to it as parameters. The method then uses an IF and Else statements to compare if the first value is larger than the second. If the value is larger than the second value then the second value is returned. However IF the second value is larger than the first value the first value is returned. Otherwise the program assumes that the grades are the same and returns the first value. The returned variable is passed back to the ExamQuestion() method. "
   ]
  },
  {
   "cell_type": "code",
   "execution_count": 27,
   "id": "150ffb7a-57c7-403b-b8ad-c4581896ae85",
   "metadata": {},
   "outputs": [],
   "source": [
    "\n",
    "//Defines a method called GradeComparison which takes two integer variables as parameteres. \n",
    "    public static int GradeComparison(int FirstExam, int SecondExam) {\n",
    "\n",
    "    //Uses if statement to compare if the firstexam is larger than the second. \n",
    "        if (FirstExam > SecondExam) {\n",
    "    //If above is TRUE then it will return the secondexams value to the method which has called this method. \n",
    "            return SecondExam;\n",
    "\n",
    "    //Uses else if statement to compare if the first exam is smaller than the second exam. \n",
    "        } else if (FirstExam < SecondExam) {\n",
    "    //If the above is TRUE then it will return the first exam value to the method which has called this method. \n",
    "            return FirstExam;\n",
    "\n",
    "    //Uses else statement to check if first exam is equal to the second exam.\n",
    "        } else {\n",
    "    //IF first exam is equal to the second exam then the method will return the first exam value to the method which has called this method. \n",
    "            return FirstExam;\n",
    "        }\n",
    "    }\n",
    "//END GradeComparison. \n"
   ]
  },
  {
   "cell_type": "markdown",
   "id": "15705875-6b92-402a-a5ee-bcbe51bfea94",
   "metadata": {},
   "source": [
    "### Testing:\n",
    "\n",
    "In order to test the functionality of the method I called the method multiple times using the GradeComparison(); statement. Within this statement i assigned two integer value to pass to the method.\n"
   ]
  },
  {
   "cell_type": "code",
   "execution_count": 28,
   "id": "61b38eae-ca78-4ce5-a3c3-bee80b16ea1e",
   "metadata": {},
   "outputs": [
    {
     "data": {
      "text/plain": [
       "1"
      ]
     },
     "execution_count": 28,
     "metadata": {},
     "output_type": "execute_result"
    }
   ],
   "source": [
    "GradeComparison(2,1); //Calls the gradecomparison method and passes two integers to it. "
   ]
  },
  {
   "cell_type": "markdown",
   "id": "499ce30e-775e-499c-ad76-6698d4e02b71",
   "metadata": {},
   "source": [
    "### Final product:\n",
    "\n",
    "For the completed program I have added additional comments using the // statement. I have also added a detailed description to my program, detailing the author, date created and a description of the entire program. \n"
   ]
  },
  {
   "cell_type": "code",
   "execution_count": 18,
   "id": "60dc0666-a0bf-46d6-bcee-735b0235390b",
   "metadata": {},
   "outputs": [
    {
     "name": "stdout",
     "output_type": "stream",
     "text": [
      "Test 1: What is your 1st theory grade? 1)A+ 2)A 3)B 4)C 5)D 6)F 7)G \n"
     ]
    },
    {
     "name": "stdin",
     "output_type": "stream",
     "text": [
      " 1\n"
     ]
    },
    {
     "name": "stdout",
     "output_type": "stream",
     "text": [
      "Test 1: What is your 1st dry run grade? 1)A+ 2)A 3)B 4)C 5)D 6)F 7)G \n"
     ]
    },
    {
     "name": "stdin",
     "output_type": "stream",
     "text": [
      " 4\n"
     ]
    },
    {
     "name": "stdout",
     "output_type": "stream",
     "text": [
      "Test 1: What is your 1st program grade? 1)A+ 2)A 3)B 4)C 5)D 6)F 7)G \n"
     ]
    },
    {
     "name": "stdin",
     "output_type": "stream",
     "text": [
      " 5\n"
     ]
    },
    {
     "name": "stdout",
     "output_type": "stream",
     "text": [
      "                                                                \n",
      "Your grades are: A+ C D\n",
      "                                                                \n",
      "Test 2: What is your 2nd theory grade? 1)A+ 2)A 3)B 4)C 5)D 6)F 7)G \n"
     ]
    },
    {
     "name": "stdin",
     "output_type": "stream",
     "text": [
      " 1\n"
     ]
    },
    {
     "name": "stdout",
     "output_type": "stream",
     "text": [
      "Test 2: What is your 2nd dry run grade? 1)A+ 2)A 3)B 4)C 5)D 6)F 7)G \n"
     ]
    },
    {
     "name": "stdin",
     "output_type": "stream",
     "text": [
      " 2\n"
     ]
    },
    {
     "name": "stdout",
     "output_type": "stream",
     "text": [
      "Test 2: What is your 2nd program grade? 1)A+ 2)A 3)B 4)C 5)D 6)F 7)G \n"
     ]
    },
    {
     "name": "stdin",
     "output_type": "stream",
     "text": [
      " 2\n"
     ]
    },
    {
     "name": "stdout",
     "output_type": "stream",
     "text": [
      "                                                                \n",
      "Your grades are: A+ A A\n",
      "                                                                \n",
      "Your final three test grades are Theory:A+ Dry Run:A Program:A\n"
     ]
    }
   ],
   "source": [
    "/* ***************************************\n",
    "  @author    Maks\n",
    "  @date      27 september 2023\n",
    "  @version   1\n",
    "\n",
    "Best Test Grades: a program which asks a student their first and second individually achieved exam grades for theory, dry run and programming. Then taking these values the highest grade for each exam are displayed for each module at the end of the program.\n",
    "    \n",
    "****************************************/\n",
    "\n",
    "\n",
    "//defines a method called ExamQuestion.\n",
    "public static void ExamQuestion() {\n",
    "\n",
    "    //creates and defines a new scanner object. \n",
    "        Scanner scanner = new Scanner(System.in);\n",
    "\n",
    "    //Outputs a message asking the user for their theory grade.\n",
    "        System.out.println(\"Test 1: What is your 1st theory grade? 1)A+ 2)A 3)B 4)C 5)D 6)F 7)G \");\n",
    "    //Records the response using the scanner as an integer variable.\n",
    "        int theory = scanner.nextInt();\n",
    "    //Passes the integer value to the CalculateGrade method and assigns the returned result to a String variable. \n",
    "        String new_theory = CalculateGrade(theory);\n",
    "\n",
    "     //Outputs a message asking the user for their dry run grade.\n",
    "        System.out.println(\"Test 1: What is your 1st dry run grade? 1)A+ 2)A 3)B 4)C 5)D 6)F 7)G \");\n",
    "    //Records the response using the scanner as an integer variable.\n",
    "        int DryRun = scanner.nextInt();\n",
    "    //Passes the integer value to the CalculateGrade method and assigns the returned result to a String variable. \n",
    "        String new_DryRun = CalculateGrade(DryRun);\n",
    "\n",
    "     //Outputs a message asking the user for their program grade.\n",
    "        System.out.println(\"Test 1: What is your 1st program grade? 1)A+ 2)A 3)B 4)C 5)D 6)F 7)G \");\n",
    "\n",
    "    //Records the response using the scanner as an integer variable.\n",
    "        int ProgramGrade = scanner.nextInt();\n",
    "    //Passes the integer value to the CalculateGrade method and assigns the returned result to a String variable. \n",
    "        String new_PG = CalculateGrade(ProgramGrade);\n",
    "\n",
    "     //Outputs an empty line. \n",
    "        System.out.println(\"                                                                \");\n",
    "    //Outputs a statement showing what the grades for the initial exam are to the user.\n",
    "        System.out.println(\"Your grades are: \" + new_theory + \" \" + new_DryRun + \" \" + new_PG);\n",
    "     //Outputs an empty line. \n",
    "        System.out.println(\"                                                                \");\n",
    "\n",
    "\n",
    "     //Outputs a message asking the user for their 2nd theory grade.\n",
    "        System.out.println(\"Test 2: What is your 2nd theory grade? 1)A+ 2)A 3)B 4)C 5)D 6)F 7)G \");\n",
    "    //Records the response using the scanner as an integer variable.\n",
    "        int theory2 = scanner.nextInt();\n",
    "    //Passes the integer value to the CalculateGrade method and assigns the returned result to a String variable. \n",
    "        String new_theory2 = CalculateGrade(theory2);\n",
    "\n",
    "    //Outputs a message asking the user for their 2nd dry run grade.\n",
    "        System.out.println(\"Test 2: What is your 2nd dry run grade? 1)A+ 2)A 3)B 4)C 5)D 6)F 7)G \");\n",
    "    //Records the response using the scanner as an integer variable.\n",
    "        int DryRun2 = scanner.nextInt();\n",
    "    //Passes the integer value to the CalculateGrade method and assigns the returned result to a String variable. \n",
    "        String new_DryRun2 = CalculateGrade(DryRun2);\n",
    "\n",
    "    //Outputs a message asking the user for their 2nd program grade.\n",
    "        System.out.println(\"Test 2: What is your 2nd program grade? 1)A+ 2)A 3)B 4)C 5)D 6)F 7)G \");\n",
    "\n",
    "    //Records the response using the scanner as an integer variable.\n",
    "        int ProgramGrade2 = scanner.nextInt();\n",
    "    //Passes the integer value to the CalculateGrade method and assigns the returned result to a String variable. \n",
    "        String new_PG2 = CalculateGrade(ProgramGrade2);\n",
    "\n",
    "    //Outputs an empty line.\n",
    "        System.out.println(\"                                                                \");\n",
    "    //Outputs a statement showing what the grades for the second exam are to the user.\n",
    "        System.out.println(\"Your grades are: \" + new_theory2 + \" \" + new_DryRun2 + \" \" + new_PG2);\n",
    "    //Outputs an empty line.\n",
    "        System.out.println(\"                                                                \");\n",
    "   \n",
    "\n",
    "    //Passes the integer grades for the intial and second assessment to the GradeComparison function and stores the returned value as an integer variable. \n",
    "        int Highest_theory = GradeComparison(theory, theory2);\n",
    "    //Passes the integer grades for the intial and second assessment to the GradeComparison function and stores the returned value as an integer variable. \n",
    "        int Highest_dryrun = GradeComparison(DryRun, DryRun2);\n",
    "    //Passes the integer grades for the intial and second assessment to the GradeComparison function and stores the returned value as an integer variable. \n",
    "        int Highest_PG = GradeComparison(ProgramGrade, ProgramGrade2);\n",
    "\n",
    "\n",
    "    //Passes the integer values from the GradeComparison operation to the CalculateGrade method and stores the returned value as a String variable. \n",
    "        String Final1 = CalculateGrade(Highest_theory);\n",
    "    //Passes the integer values from the GradeComparison operation to the CalculateGrade method and stores the returned value as a String variable. \n",
    "        String Final2 = CalculateGrade(Highest_dryrun);\n",
    "    //Passes the integer values from the GradeComparison operation to the CalculateGrade method and stores the returned value as a String variable. \n",
    "        String Final3 = CalculateGrade(Highest_PG);\n",
    "\n",
    "\n",
    "    //Outputs to the User the highest grades (in string format) across both the examinations and across all three modules.  \n",
    "        System.out.println(\"Your final three test grades are Theory:\" + Final1 + \" Dry Run:\" + Final2 + \" Program:\" + Final3 );\n",
    "    }\n",
    "// END ExamQuesion. \n",
    "\n",
    "\n",
    "\n",
    "//Defines a method called GradeComparison which takes two integer variables as parameteres. \n",
    "    public static int GradeComparison(int FirstExam, int SecondExam) {\n",
    "\n",
    "    //Uses if statement to compare if the firstexam is larger than the second. \n",
    "        if (FirstExam > SecondExam) {\n",
    "    //If above is TRUE then it will return the secondexams value to the method which has called this method. \n",
    "            return SecondExam;\n",
    "\n",
    "    //Uses else if statement to compare if the first exam is smaller than the second exam. \n",
    "        } else if (FirstExam < SecondExam) {\n",
    "    //If the above is TRUE then it will return the first exam value to the method which has called this method. \n",
    "            return FirstExam;\n",
    "\n",
    "    //Uses else statement to check if first exam is equal to the second exam.\n",
    "        } else {\n",
    "    //IF first exam is equal to the second exam then the method will return the first exam value to the method which has called this method. \n",
    "            return FirstExam;\n",
    "        }\n",
    "    }\n",
    "//END GradeComparison. \n",
    "\n",
    "\n",
    "//Defines a method which takes an integer parameter from another method and returns a String value to the method which has called it.  \n",
    "    public static String CalculateGrade(int numericGrade) {\n",
    "\n",
    "    //if the Grade is equal to 1 then return \"A+\"\n",
    "          if (numericGrade == 1) {\n",
    "            return \"A+\";\n",
    "    //if the Grade is equal to 2 then return \"A\"\n",
    "        } else if (numericGrade == 2) {\n",
    "            return \"A\";\n",
    "    //if the Grade is equal to 3 then return \"B\"\n",
    "        } else if (numericGrade == 3) {\n",
    "            return \"B\";\n",
    "    //if the Grade is equal to 4 then return \"C\"\n",
    "        } else if (numericGrade == 4) {\n",
    "            return \"C\";\n",
    "    //if the Grade is equal to 5 then return \"D\"\n",
    "        } else if (numericGrade == 5) {\n",
    "            return \"D\";\n",
    "    //if the Grade is equal to 6 then return \"F\"\n",
    "        } else if (numericGrade == 6) {\n",
    "            return \"F\";\n",
    "    //if the Grade is equal to 7 then return \"G\"\n",
    "        } else if (numericGrade == 7) {\n",
    "            return \"G\";\n",
    "    //if the Grade is not equal to any of the above integer values then output \"invalid grade\".\n",
    "        } else {\n",
    "            return \"Invalid grade\";\n",
    "        }\n",
    "    }\n",
    "//END CalculateGrade. \n",
    "\n",
    "\n",
    "\n",
    "ExamQuestion(); //Calls the ExamQuestion method at the start of the program. \n"
   ]
  }
 ],
 "metadata": {
  "kernelspec": {
   "display_name": "Java",
   "language": "java",
   "name": "java"
  },
  "language_info": {
   "codemirror_mode": "java",
   "file_extension": ".jshell",
   "mimetype": "text/x-java-source",
   "name": "Java",
   "pygments_lexer": "java",
   "version": "11.0.8+10-LTS"
  }
 },
 "nbformat": 4,
 "nbformat_minor": 5
}
