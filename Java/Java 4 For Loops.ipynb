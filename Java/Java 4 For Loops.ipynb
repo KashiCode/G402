{
 "cells": [
  {
   "cell_type": "markdown",
   "id": "d90dec9b-8f92-4733-9b8e-2dc4229571a2",
   "metadata": {},
   "source": [
    "# Short Assessed Programming Exercise 4: For Loops\n",
    "\n",
    "## Maks Ostrynski\n",
    "## Student ID: 230367485\n",
    "## 29/09/2023\n",
    "## Version 1"
   ]
  },
  {
   "cell_type": "markdown",
   "id": "4129c200-0a3d-4067-a008-e5cfd6fd8f09",
   "metadata": {},
   "source": [
    "## Summary of the Question\n",
    "\n",
    "Write a program that collects information about the level of pollution in rivers. This is done by the monitor taking 5 samples at different times during the day measured as a whole number of “colony forming units of bacteria” (CFU) per 100 ml of water. The program should use a for loop to ask for the 5 values as a whole number and then report the highest of those values and the average. Based on the highest value it should then indicate whether this is GOOD water quality, SUFFICIENT water quality or POOR water quality."
   ]
  },
  {
   "cell_type": "markdown",
   "id": "d0d774eb-0aef-4845-a456-473a31406f94",
   "metadata": {
    "editable": true,
    "slideshow": {
     "slide_type": ""
    },
    "tags": []
   },
   "source": [
    "## Program development\n",
    "\n",
    "In order to tackle this question i created two interconnected methods: WaterQuality and AverageCalculation . For each individual method I will explain how the method functions and how it was tested to ensure its efficacy. In addition, i will provide information on how to run the entire program in jupyterLab. \n",
    "\n",
    "## <span style=\"color: blue;\">WaterQuality()</span>\n",
    "\n",
    "#### Functionality\n",
    "This method is called by the WaterQuality(); statement. The method uses a For Loop to ask the user the quality of the River across 5 different samples. It then takes these values and outputs the worst and average water quality alongside indicating if the overall waterquality is satisfactory or poor.   \n",
    "\n",
    "#### Implementation\n",
    "This method is called by the WaterQuality(); statement. The method begins by defining a scanner object to read the user inputs. The method also declares several variables including SampleSize, WorstQuality and totalValue to keep track of the measurements. The method then uses a For loop which iterates 5 times and asks the user the quality of water for 5 samples. The worst quality is calculated by using the Math.max() function which calculates the highest value of the sample inputs and assigns the value to a int variable. The method also calculates the total value of all samples by adding each For loop sample to one another. The method then calls the AverageCalculation method and passes the total waterquality and sample size to it, storing the returned value as an integer. The method then uses IF and ELSE statements to deliberate whether the water quality status is good, sufficient or poor. It will then use print statements to output the worst water quality, average water quality and the status of the water to the user.\n"
   ]
  },
  {
   "cell_type": "code",
   "execution_count": 3,
   "id": "aa93e78b-f94b-4044-b85c-f98d360b4448",
   "metadata": {
    "editable": true,
    "slideshow": {
     "slide_type": ""
    },
    "tags": []
   },
   "outputs": [],
   "source": [
    "//Defines a method called WaterQuality:\n",
    "public static void WaterQuality() {\n",
    "\n",
    "\n",
    "    //Defines and creates a new scanner to read user inputs. \n",
    "    Scanner scanner = new Scanner(System.in);\n",
    "\n",
    "\n",
    "    //Defines a final variable to serve as the sample size (5 = 5 seperate samples). Final means it wont change and stays constant. \n",
    "        final int SampleSize = 5;\n",
    "\n",
    "    //Defines an integer variable and sets it to 0. The worstquality variable will be used to measure the worst water pollution value. \n",
    "        int WorstQuality = 0;\n",
    "    //Defines an integer variable and sets it to 0. The totalvalue variable will be used to measure the total water pollution value. \n",
    "        int totalValue = 0;\n",
    "\n",
    "\n",
    "    //START FOR LOOP. The loop iterates according to the value stored in the samplesize variable. \n",
    "        for (int i = 1; i <= SampleSize; i++) {\n",
    "\n",
    "    //Asks the user to enter the water quality measurement for each sample. \n",
    "            System.out.print(\"Sample \" + i + \": What was the water quality measurement in CFU/ml? \");\n",
    "\n",
    "    //Stores each water measurement user response as an integer. \n",
    "            int Water_measurement = scanner.nextInt();\n",
    "\n",
    "    //With each Loop the value stored in TotalValue is added to the value entered by the user. \n",
    "            totalValue += Water_measurement;\n",
    "\n",
    "    //With each loop the user entered value is compared to the current worst pollution value. If the user value is higher then the WorstQuality value is updated with the one entered by the user. \n",
    "            WorstQuality = Math.max(WorstQuality, Water_measurement);\n",
    "        }\n",
    "    //END FOR LOOP.\n",
    "\n",
    "    //Calls the AverageCalculation method and passes the total pollution value and the sample size. It then saves the returned result as an integer variable. \n",
    "        int AverageQuality = AverageCalculation(totalValue, SampleSize);\n",
    "\n",
    "    //Outputs the worst water quality and the average water quality to the user. \n",
    "        System.out.println(\"The worst water quality today was \" + WorstQuality + \" CFU/ml. \\n The average water quality today was \" + AverageQuality + \" CFU/ml.\");\n",
    "\n",
    "    //Uses if statement to see the water quality rating. If the quality is less than or equal to 200 it outputs to the user that the waterquality is good.\n",
    "        if (WorstQuality <= 200) { \n",
    "            System.out.println(\"The water quality is GOOD today.\");\n",
    "            \n",
    "        //Uses if statement to see the water quality rating. If the quality is less than or equal to 400 it outputs to the user that the waterquality is Sufficient.\n",
    "        } else if (WorstQuality <= 400) {   \n",
    "            System.out.println(\"The water quality is SUFFICIENT today.\");\n",
    "            \n",
    "        // If the quality of the water is above 400 then it outputs to the user that the waterquality is Poor. \n",
    "        } else {\n",
    "            System.out.println(\"The water quality is POOR today.\");\n",
    "        }\n",
    "\n",
    "}\n",
    "//END WaterQuality."
   ]
  },
  {
   "cell_type": "markdown",
   "id": "342f532c-0b8c-4cca-a235-437aa90ca0a7",
   "metadata": {
    "editable": true,
    "slideshow": {
     "slide_type": ""
    },
    "tags": []
   },
   "source": [
    "### Testing:\n",
    "\n",
    "In order to test the functionality of the method I called the method multiple times using the WaterQuality(); statement.\n"
   ]
  },
  {
   "cell_type": "code",
   "execution_count": 6,
   "id": "eb9db658-72ca-460d-beb3-6d2e0aa36a85",
   "metadata": {
    "editable": true,
    "slideshow": {
     "slide_type": ""
    },
    "tags": []
   },
   "outputs": [
    {
     "name": "stdout",
     "output_type": "stream",
     "text": [
      "Sample 1: What was the water quality measurement in CFU/ml? "
     ]
    },
    {
     "name": "stdin",
     "output_type": "stream",
     "text": [
      " 130\n"
     ]
    },
    {
     "name": "stdout",
     "output_type": "stream",
     "text": [
      "Sample 2: What was the water quality measurement in CFU/ml? "
     ]
    },
    {
     "name": "stdin",
     "output_type": "stream",
     "text": [
      " 225\n"
     ]
    },
    {
     "name": "stdout",
     "output_type": "stream",
     "text": [
      "Sample 3: What was the water quality measurement in CFU/ml? "
     ]
    },
    {
     "name": "stdin",
     "output_type": "stream",
     "text": [
      " 330\n"
     ]
    },
    {
     "name": "stdout",
     "output_type": "stream",
     "text": [
      "Sample 4: What was the water quality measurement in CFU/ml? "
     ]
    },
    {
     "name": "stdin",
     "output_type": "stream",
     "text": [
      " 111\n"
     ]
    },
    {
     "name": "stdout",
     "output_type": "stream",
     "text": [
      "Sample 5: What was the water quality measurement in CFU/ml? "
     ]
    },
    {
     "name": "stdin",
     "output_type": "stream",
     "text": [
      " 92\n"
     ]
    },
    {
     "name": "stdout",
     "output_type": "stream",
     "text": [
      "The worst water quality today was 330 CFU/ml. \n",
      " The average water quality today was 177 CFU/ml.\n",
      "The water quality is SUFFICIENT today.\n"
     ]
    }
   ],
   "source": [
    "WaterQuality(); //calls the WaterQuality method. "
   ]
  },
  {
   "cell_type": "markdown",
   "id": "afc3fcb0-e86b-4801-8069-b424a281ceb5",
   "metadata": {},
   "source": [
    "## <span style=\"color: blue;\">AverageCalculation()</span>\n",
    "\n",
    "#### Functionality\n",
    "This method is called within the WaterQuality() method. The method accepts two integer parameteres. These integer parameteres are the sample size and the total value of all 5 sample water quality values entered by the user. The method works by working out the average water quality over 5 samples.    \n",
    "\n",
    "#### Implementation\n",
    "This method is called within the WaterQuality() method. The method accepts two integer parameteres. These integer parameteres are the sample size and the total value of all 5 sample water quality values entered by the user. The method works by dividing the total water quality by the sample size. The method then uses the Math.round() function which rounds the value to the nearest integer. The value is then passed as an integer back to the method which originally called this method.\n"
   ]
  },
  {
   "cell_type": "code",
   "execution_count": 7,
   "id": "5d11d15d-495b-44d6-8742-b8fc0013348c",
   "metadata": {},
   "outputs": [],
   "source": [
    "//Defines a method called AverageCalculation which recieves two parameters and returns an integer value to the method which called it. \n",
    "public static int AverageCalculation(int totalValue, int SampleSize) {\n",
    "\n",
    "    //The totalvalue of all waterquality samples is divided by the total sample size. The Math.round() method then rounds the result to the nearest integer. \n",
    "        return Math.round(totalValue / SampleSize);\n",
    "    }\n",
    "//END AverageCalculation."
   ]
  },
  {
   "cell_type": "markdown",
   "id": "29be6b13-5bc4-4d43-8cab-8f0ff7bcc170",
   "metadata": {},
   "source": [
    "### Testing:\n",
    "\n",
    "In order to test the functionality of the method I called the method multiple times using the AverageCalculation(); statement and passing two integer variables to it.\n"
   ]
  },
  {
   "cell_type": "code",
   "execution_count": 8,
   "id": "b0cec978-e758-432e-9fb6-8fedfd7b190c",
   "metadata": {
    "editable": true,
    "slideshow": {
     "slide_type": ""
    },
    "tags": []
   },
   "outputs": [
    {
     "data": {
      "text/plain": [
       "290"
      ]
     },
     "execution_count": 8,
     "metadata": {},
     "output_type": "execute_result"
    }
   ],
   "source": [
    "AverageCalculation(1450, 5); //Calls the AverageCalculation method and passes two integer variables to it. "
   ]
  },
  {
   "cell_type": "markdown",
   "id": "420529d1-2a34-4c08-8eb1-a303a9cd27a4",
   "metadata": {},
   "source": [
    "### Final product:\n",
    "\n",
    "For the completed program I have added additional comments using the // statement. I have also added a detailed description to my program, detailing the author, date created and a description of the entire program. \n"
   ]
  },
  {
   "cell_type": "code",
   "execution_count": null,
   "id": "7906a6b3-9646-4991-9fa9-26355e173139",
   "metadata": {
    "editable": true,
    "slideshow": {
     "slide_type": ""
    },
    "tags": []
   },
   "outputs": [],
   "source": [
    "/* ***************************************\n",
    "  @author    Maks\n",
    "  @date      29 september 2023\n",
    "  @version   1\n",
    "\n",
    "River Pollution count: Program that records 5 samples of Water pollution in a river and returns the worst sample quality overall, the average of all samples entered and whether or not the water is sufficient, good or poor.     \n",
    "****************************************/\n",
    "\n",
    "\n",
    "//Defines a method called WaterQuality:\n",
    "public static void WaterQuality() {\n",
    "\n",
    "\n",
    "    //Defines and creates a new scanner to read user inputs. \n",
    "    Scanner scanner = new Scanner(System.in);\n",
    "\n",
    "\n",
    "    //Defines a final variable to serve as the sample size (5 = 5 seperate samples). Final means it wont change and stays constant. \n",
    "        final int SampleSize = 5;\n",
    "\n",
    "    //Defines an integer variable and sets it to 0. The worstquality variable will be used to measure the worst water pollution value. \n",
    "        int WorstQuality = 0;\n",
    "    //Defines an integer variable and sets it to 0. The totalvalue variable will be used to measure the total water pollution value. \n",
    "        int totalValue = 0;\n",
    "\n",
    "\n",
    "    //START FOR LOOP. The loop iterates according to the value stored in the samplesize variable. \n",
    "        for (int i = 1; i <= SampleSize; i++) {\n",
    "\n",
    "    //Asks the user to enter the water quality measurement for each sample. \n",
    "            System.out.print(\"Sample \" + i + \": What was the water quality measurement in CFU/ml? \");\n",
    "\n",
    "    //Stores each water measurement user response as an integer. \n",
    "            int Water_measurement = scanner.nextInt();\n",
    "\n",
    "    //With each Loop the value stored in TotalValue is added to the value entered by the user. \n",
    "            totalValue += Water_measurement;\n",
    "\n",
    "    //With each loop the user entered value is compared to the current worst pollution value. If the user value is higher then the WorstQuality value is updated with the one entered by the user. \n",
    "            WorstQuality = Math.max(WorstQuality, Water_measurement);\n",
    "        }\n",
    "    //END FOR LOOP.\n",
    "\n",
    "    //Calls the AverageCalculation method and passes the total pollution value and the sample size. It then saves the returned result as an integer variable. \n",
    "        int AverageQuality = AverageCalculation(totalValue, SampleSize);\n",
    "\n",
    "    //Outputs the worst water quality and the average water quality to the user. \n",
    "        System.out.println(\"The worst water quality today was \" + WorstQuality + \" CFU/ml. \\n The average water quality today was \" + AverageQuality + \" CFU/ml.\");\n",
    "\n",
    "    //Uses if statement to see the water quality rating. If the quality is less than or equal to 200 it outputs to the user that the waterquality is good.\n",
    "        if (WorstQuality <= 200) { \n",
    "            System.out.println(\"The water quality is GOOD today.\");\n",
    "            \n",
    "        //Uses if statement to see the water quality rating. If the quality is less than or equal to 400 it outputs to the user that the waterquality is Sufficient.\n",
    "        } else if (WorstQuality <= 400) {   \n",
    "            System.out.println(\"The water quality is SUFFICIENT today.\");\n",
    "            \n",
    "        // If the quality of the water is above 400 then it outputs to the user that the waterquality is Poor. \n",
    "        } else {\n",
    "            System.out.println(\"The water quality is POOR today.\");\n",
    "        }\n",
    "\n",
    "}\n",
    "//END WaterQuality.\n",
    "\n",
    "\n",
    "\n",
    "//Defines a method called AverageCalculation which recieves two parameters and returns an integer value to the method which called it. \n",
    "public static int AverageCalculation(int totalValue, int SampleSize) {\n",
    "\n",
    "    //The totalvalue of all waterquality samples is divided by the total sample size. The Math.round() method then rounds the result to the nearest integer. \n",
    "        return Math.round(totalValue / SampleSize);\n",
    "    }\n",
    "//END AverageCalculation.\n",
    "\n",
    "\n",
    "WaterQuality(); //Calls the WaterQuality method at the start of the program. "
   ]
  },
  {
   "cell_type": "markdown",
   "id": "9fdb66aa-905f-4f51-acc9-69b1b4cee0dc",
   "metadata": {},
   "source": [
    "### END OF DOCUMENT."
   ]
  }
 ],
 "metadata": {
  "kernelspec": {
   "display_name": "Java",
   "language": "java",
   "name": "java"
  },
  "language_info": {
   "codemirror_mode": "java",
   "file_extension": ".jshell",
   "mimetype": "text/x-java-source",
   "name": "Java",
   "pygments_lexer": "java",
   "version": "11.0.8+10-LTS"
  }
 },
 "nbformat": 4,
 "nbformat_minor": 5
}
