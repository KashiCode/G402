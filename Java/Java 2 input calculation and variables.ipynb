{
 "cells": [
  {
   "cell_type": "markdown",
   "id": "f82d5343-222d-4809-958e-7ed209fd18b9",
   "metadata": {},
   "source": [
    "# Short Assessed Programming Exercise 2: Input,Calculation and Variables\n",
    "\n",
    "## Maks Ostrynski\n",
    "## Student ID: 230367485\n",
    "## 26/09/2023\n",
    "## Version 1\n"
   ]
  },
  {
   "cell_type": "markdown",
   "id": "5e74d9f1-e3f8-4c4a-8b39-6094c0b29d5a",
   "metadata": {},
   "source": [
    "## Summary of the Question\n",
    "\n",
    "Write a program that works out the statistics for the womens world cup. The program should calculate and display the average goals scored across each match and the average minutes per goal across each match. The program must also accept two inputs from the user, these include total goals and total matches played. In addition the program must be structured as a series of methods where the first method calls a series of others in turn. In addition the number of minutes in a match (90) MUST be stored in the program as a local final variable.next method."
   ]
  },
  {
   "cell_type": "markdown",
   "id": "d1ad76c6-352e-4d8c-bbeb-77d7c84be673",
   "metadata": {},
   "source": [
    "## Program development\n",
    "\n",
    "In order to tackle this question i created three interconnected methods: AskQuestion, GoalsCalculation and MinutesCalculation. For each individual method I will explain how the method functions and how it was tested to ensure its efficacy. In addition, i will provide information on how to run the entire program in jupyterLab. \n",
    "\n",
    "## <span style=\"color: blue;\">AskQuestion()</span>\n",
    "\n",
    "#### Functionality\n",
    "This method is called by the AskQuestion(); statement. The method firstly creates a new scanner object which will be used to scan and record user inputs to variables. The method then asks the User two questions, one about the total matches and one about the total goals. The scanner then saves the user input as a integer value to match and goal variables. The method will then call two functions in order, it will firstly call the GoalsCalculation method and pass matches and goals as parameters. After it will call the MinutesCalculation and pass the same parameteres. \n",
    "\n",
    "#### Implementation\n",
    "The method is called by the AskQuestion procedure. It creates a scanner object and asks the user to input the total goals and matches before recording these as variables and passing them to two seperate methods as parameteres. \n"
   ]
  },
  {
   "cell_type": "code",
   "execution_count": 13,
   "id": "42137254-2ced-4697-86e3-5b361dc6f144",
   "metadata": {},
   "outputs": [],
   "source": [
    "\n",
    "//defines a method called AskQuestion()\n",
    "public static void AskQuestion() {\n",
    "\n",
    "     //Creates a new scanner object. \n",
    "        Scanner scanner = new Scanner(System.in);\n",
    "\n",
    "     //displays a message asking the user how many matches have been played.\n",
    "\n",
    "        System.out.print(\"How many matches have been played? \");\n",
    "\n",
    "     //records the value entered by the user to an integer variable.\n",
    "     \n",
    "        int matches = scanner.nextInt();\n",
    "\n",
    "     //displays a message asking the user how many matches have been played.\n",
    "        System.out.print(\"How many goals have been scored? \");\n",
    "\n",
    "     //records the value entered by the user to an integer variable.\n",
    "        int goals = scanner.nextInt();\n",
    "\n",
    "        //passes variables matches and goals to another method in order\n",
    "\n",
    "        GoalsCalculation(matches, goals);     \n",
    "        MinutesCalculation(matches, goals);\n",
    "    }\n",
    "\n",
    "//END AskQuestion"
   ]
  },
  {
   "cell_type": "markdown",
   "id": "f03aeb80-7c78-49b3-973e-c1d3df31173c",
   "metadata": {},
   "source": [
    "### Testing:\n",
    "\n",
    "In order to test the functionality of the method I called the method multiple times using the AskQuestion(); statement. "
   ]
  },
  {
   "cell_type": "code",
   "execution_count": 15,
   "id": "fd48e58d-608c-4be2-a2c7-6635c1ba3e07",
   "metadata": {},
   "outputs": [
    {
     "name": "stdout",
     "output_type": "stream",
     "text": [
      "How many matches have been played? "
     ]
    },
    {
     "name": "stdin",
     "output_type": "stream",
     "text": [
      " 6\n"
     ]
    },
    {
     "name": "stdout",
     "output_type": "stream",
     "text": [
      "How many goals have been scored? "
     ]
    },
    {
     "name": "stdin",
     "output_type": "stream",
     "text": [
      " 6\n"
     ]
    },
    {
     "name": "stdout",
     "output_type": "stream",
     "text": [
      "Goals per match = 1\n",
      "Minutes per goal = 90.0\n",
      "Minutes per goal (rounded to the nearest integer value) = 90.0"
     ]
    }
   ],
   "source": [
    "AskQuestion(); //Calls the AskQuestion method. "
   ]
  },
  {
   "cell_type": "markdown",
   "id": "517bad0b-d682-4a49-9426-0f999f3bdadc",
   "metadata": {},
   "source": [
    "### Important Note:\n",
    "\n",
    "It should be noted that the user should avoid entering non integer values into the program as there are currently no arguments or defensive techniques to prevent a user from accidently entering non intger values which could cause the program to crash. In addition the user should avoid entering a double zero into each field as this, despite being an integer, will lead to the program crashing. "
   ]
  },
  {
   "cell_type": "markdown",
   "id": "bccfaf24-5201-48f2-9f9b-30e519f9a595",
   "metadata": {},
   "source": [
    "## <span style=\"color: blue;\">GoalsCalculation()</span>\n",
    "\n",
    "#### Functionality\n",
    "The GoalsCalculation method is called by the AskQuestion() method. This method recieves two parameters which are integer value. The function takes these values are divides the goals by the matches and prints the result to the user.\n",
    "\n",
    "#### Implementation\n",
    "The method is called by the AskQuestion() method. The method calculates the total goals per match by dividing the total goals by the total matches before assigning the value to an integer variable called GoalsPerMatch. The method then uses System.out.println() to print the results of this calculation."
   ]
  },
  {
   "cell_type": "code",
   "execution_count": 14,
   "id": "d5486b06-a773-417e-a2f6-b6f61af6aa36",
   "metadata": {},
   "outputs": [],
   "source": [
    "\n",
    "//defines a method called GoalsCalculation that accepts two integer values as parameters.\n",
    "public static void GoalsCalculation(int matches, int goals) {\n",
    "\n",
    "    //Divides the total goals by the total matches and assigns these to an integer variable called goalsPerMatch. \n",
    "        int goalsPerMatch = goals / matches;\n",
    "    //The program will then print the value of the variable goalsPerMatch. \n",
    "        System.out.println(\"Goals per match = \" + goalsPerMatch);\n",
    "\n",
    "    } \n",
    "\n",
    "//END GoalsCalculation. "
   ]
  },
  {
   "cell_type": "markdown",
   "id": "1f604fce-1a26-43c7-8d00-b24c1015d5d0",
   "metadata": {},
   "source": [
    "### Testing:\n",
    "\n",
    "In order to test the functionality of the method I called the method multiple times using the GoalsCalculation(); statement and passed various variables through the method. "
   ]
  },
  {
   "cell_type": "code",
   "execution_count": 16,
   "id": "08099676-ec22-4fa4-8463-5012c3d6be00",
   "metadata": {},
   "outputs": [
    {
     "name": "stdout",
     "output_type": "stream",
     "text": [
      "Goals per match = 3\n"
     ]
    }
   ],
   "source": [
    "GoalsCalculation(6,19); //calls the function GoalsCalculation and passes matches and goals in order to it. "
   ]
  },
  {
   "cell_type": "markdown",
   "id": "f1033a87-36a1-423c-8905-d49e0d2b785b",
   "metadata": {},
   "source": [
    "## <span style=\"color: blue;\">MinutesCalculation()</span>\n",
    "\n",
    "#### Functionality\n",
    "The MinutesCalculation is called last of all by the AskQuestion() method. The method recieves two integer variables from the AskQuestion method. The method firstly calculates the minutes per goal value to one decimal place and also rounded down to the nearest whole integer. \n",
    "\n",
    "#### Implementation\n",
    "The method is called by the AskQuestion() method. The method firstly declares a final variable called Match_Length which is set to 90. The method then calculates the who integer value for minutes per goal by times matches by Match_length and then dividing the result by the total goals. The function then repeats this step but instead calculates the remainder of the previous division. Both results are saved to floating point variables. Then the method adds the remainder and the whole number together to create a complete floating point value which is saved in the variable called final_value. The method then uses the Math.round technique to round the final_value variable to the nearest integer before storing the value in a seperate variable. The method then formats the final_value to one decimal place by removing the additional remainder values before printing this value to the user. The method will also then print the entire rounded whole number value to the user. The program will now end. "
   ]
  },
  {
   "cell_type": "code",
   "execution_count": 19,
   "id": "a36ed326-9e2c-4a32-a8c2-22c29dd123cf",
   "metadata": {},
   "outputs": [],
   "source": [
    "\n",
    "//Defines a method called MinutesCalculation that takes two integer values as parameters.\n",
    "public static void MinutesCalculation(int matches, int goals) {\n",
    "\n",
    "    //Declares a final unchanging variable called Match_length which is set to 90.\n",
    "        final int Match_Length = 90;\n",
    "\n",
    "    //double sets the variables that calculations will be saved to as floating point. \n",
    "    //minutesPerGoal calculates the whole number integer value (no remainders) of how many minutes per goal by multiplying matches by 90 and dividing them by goals. \n",
    "    //The calculation is then saved to a variable called minutesPerGoals.  \n",
    "        double minutesPerGoal = (matches * Match_Length) / goals;\n",
    "    \n",
    "    //minutesPerGoalDecimal calculates the remainder value of how many minutes per goal by multiplying matches by 90 and dividing them by goals.\n",
    "    //The calculation is then saved to a variable called minutesPerGoalDecimal\n",
    "        double minutesPerGoalDecimal = (matches * Match_Length) % goals;\n",
    "    \n",
    "    //final_value adds the minutesPerGoal to minutesPerGoalDecimal before dividing them by the total goals. In this case the whole number integer is added to the decimal remainder to create a complete floating point value. \n",
    "    //The calculation is then saved to a variable called final_value.\n",
    "        double final_value = minutesPerGoal + (minutesPerGoalDecimal / goals);\n",
    "    \n",
    "\n",
    "    //rounded uses the Math.round technique to round a value to the nearest whole number value by multiplying the final_value by 10 and dividing it by 10. \n",
    "    //The calculation is then saved to a variable called rounded. \n",
    "        double rounded = Math.round(final_value * 10) / 10;\n",
    "        \n",
    "\n",
    "    // %.1f and the string.format method formats the value of final_value to only display the remainder value to 1 decimal place. It then saves the results to a variable called decimalplace. \n",
    "        String decimalplace = String.format(\"%.1f\", final_value);\n",
    "\n",
    "    //Prints to the user the minutes per goal to 1 decimal place. \n",
    "        System.out.println(\"Minutes per goal = \" + decimalplace);\n",
    "    //Prints to the user the minutes per goal rounder to the nearest integer value. \n",
    "        System.out.printf(\"Minutes per goal (rounded to the nearest whole integer value) = \" + rounded );\n",
    "\n",
    "     }\n",
    "//END MinutesCalculation"
   ]
  },
  {
   "cell_type": "markdown",
   "id": "15d7e4a2-4335-4980-8ca9-5a8b45f0edbd",
   "metadata": {},
   "source": [
    "### Testing:\n",
    "\n",
    "In order to test the functionality of the method I called the method multiple times using the MinutesCalculation(); statement and passed various variables through the method. "
   ]
  },
  {
   "cell_type": "code",
   "execution_count": 20,
   "id": "482c6d0d-5cc2-47f4-9e8a-5c9b2b1b0f5a",
   "metadata": {},
   "outputs": [
    {
     "name": "stdout",
     "output_type": "stream",
     "text": [
      "Minutes per goal = 28.4\n",
      "Minutes per goal (rounded to the nearest whole integer value) = 28.0"
     ]
    }
   ],
   "source": [
    "MinutesCalculation(6,19); //Calls the function MinutesCalculation and passes matches and goals in order to it. "
   ]
  },
  {
   "cell_type": "markdown",
   "id": "c3e8b3a6-497c-46eb-9649-0de0334a9f23",
   "metadata": {},
   "source": [
    "### Final product:\n",
    "\n",
    "For the completed program I have added additional comments using the // statement. I have also added a detailed description to my program, detailing the author, date created and a description of the entire program. \n"
   ]
  },
  {
   "cell_type": "code",
   "execution_count": 21,
   "id": "e04399d6-56cf-4bcc-b602-c917291dc3f0",
   "metadata": {},
   "outputs": [
    {
     "name": "stdout",
     "output_type": "stream",
     "text": [
      "How many matches have been played? "
     ]
    },
    {
     "name": "stdin",
     "output_type": "stream",
     "text": [
      " 6\n"
     ]
    },
    {
     "name": "stdout",
     "output_type": "stream",
     "text": [
      "How many goals have been scored? "
     ]
    },
    {
     "name": "stdin",
     "output_type": "stream",
     "text": [
      " 19\n"
     ]
    },
    {
     "name": "stdout",
     "output_type": "stream",
     "text": [
      "Goals per match = 3\n",
      "Minutes per goal = 28.4\n",
      "Minutes per goal (rounded to the nearest whole integer value) = 28.0"
     ]
    }
   ],
   "source": [
    "/* ***************************************\n",
    "  @author    Maks\n",
    "  @date      26 september 2023\n",
    "  @version   1\n",
    "\n",
    "Women’s World Cup Statistics: a program that works out the statistics for the womens world cup. The program calculates and display the average goals scored across each match and the average minutes per goal across each match.\n",
    "    \n",
    "****************************************/\n",
    "\n",
    "\n",
    "//defines a method called AskQuestion()\n",
    "public static void AskQuestion() {\n",
    "\n",
    "     //Creates a new scanner object. \n",
    "        Scanner scanner = new Scanner(System.in);\n",
    "\n",
    "     //displays a message asking the user how many matches have been played.\n",
    "\n",
    "        System.out.print(\"How many matches have been played? \");\n",
    "\n",
    "     //records the value entered by the user to an integer variable.\n",
    "     \n",
    "        int matches = scanner.nextInt();\n",
    "\n",
    "     //displays a message asking the user how many matches have been played.\n",
    "        System.out.print(\"How many goals have been scored? \");\n",
    "\n",
    "     //records the value entered by the user to an integer variable.\n",
    "        int goals = scanner.nextInt();\n",
    "\n",
    "        //passes variables matches and goals to another method in order\n",
    "\n",
    "        GoalsCalculation(matches, goals);     \n",
    "        MinutesCalculation(matches, goals);\n",
    "    }\n",
    "\n",
    "//END AskQuestion\n",
    "\n",
    "\n",
    "//defines a method called GoalsCalculation that accepts two integer values as parameters.\n",
    "public static void GoalsCalculation(int matches, int goals) {\n",
    "\n",
    "    //Divides the total goals by the total matches and assigns these to an integer variable called goalsPerMatch. \n",
    "        int goalsPerMatch = goals / matches;\n",
    "    //The program will then print the value of the variable goalsPerMatch. \n",
    "        System.out.println(\"Goals per match = \" + goalsPerMatch);\n",
    "\n",
    "    } \n",
    "\n",
    "//END GoalsCalculation. \n",
    "\n",
    "\n",
    "//Defines a method called MinutesCalculation that takes two integer values as parameters.\n",
    "public static void MinutesCalculation(int matches, int goals) {\n",
    "\n",
    "    //Declares a final unchanging variable called Match_length which is set to 90.\n",
    "        final int Match_Length = 90;\n",
    "\n",
    "    //double sets the variables that calculations will be saved to as floating point. \n",
    "    //minutesPerGoal calculates the whole number integer value (no remainders) of how many minutes per goal by multiplying matches by 90 and dividing them by goals. \n",
    "    //The calculation is then saved to a variable called minutesPerGoals.  \n",
    "        double minutesPerGoal = (matches * Match_Length) / goals;\n",
    "    \n",
    "    //minutesPerGoalDecimal calculates the remainder value of how many minutes per goal by multiplying matches by 90 and dividing them by goals.\n",
    "    //The calculation is then saved to a variable called minutesPerGoalDecimal\n",
    "        double minutesPerGoalDecimal = (matches * Match_Length) % goals;\n",
    "    \n",
    "    //final_value adds the minutesPerGoal to minutesPerGoalDecimal before dividing them by the total goals. In this case the whole number integer is added to the decimal remainder to create a complete floating point value. \n",
    "    //The calculation is then saved to a variable called final_value.\n",
    "        double final_value = minutesPerGoal + (minutesPerGoalDecimal / goals);\n",
    "    \n",
    "\n",
    "    //rounded uses the Math.round technique to round a value to the nearest whole number value by multiplying the final_value by 10 and dividing it by 10. \n",
    "    //The calculation is then saved to a variable called rounded. \n",
    "        double rounded = Math.round(final_value * 10) / 10;\n",
    "        \n",
    "\n",
    "    // %.1f and the string.format method formats the value of final_value to only display the remainder value to 1 decimal place. It then saves the results to a variable called decimalplace. \n",
    "        String decimalplace = String.format(\"%.1f\", final_value);\n",
    "\n",
    "    //Prints to the user the minutes per goal to 1 decimal place. \n",
    "        System.out.println(\"Minutes per goal = \" + decimalplace);\n",
    "    //Prints to the user the minutes per goal rounder to the nearest integer value. \n",
    "        System.out.printf(\"Minutes per goal (rounded to the nearest whole integer value) = \" + rounded );\n",
    "\n",
    "     }\n",
    "//END MinutesCalculation\n",
    "\n",
    "AskQuestion(); //Calls the AskQuestion method at the start of the program. \n",
    "\n",
    "\n"
   ]
  },
  {
   "cell_type": "markdown",
   "id": "bb0b33b6-0ad8-4e46-a66b-9c4092481fde",
   "metadata": {},
   "source": [
    "### END OF DOCUMENT"
   ]
  }
 ],
 "metadata": {
  "kernelspec": {
   "display_name": "Java",
   "language": "java",
   "name": "java"
  },
  "language_info": {
   "codemirror_mode": "java",
   "file_extension": ".jshell",
   "mimetype": "text/x-java-source",
   "name": "Java",
   "pygments_lexer": "java",
   "version": "11.0.8+10-LTS"
  }
 },
 "nbformat": 4,
 "nbformat_minor": 5
}
