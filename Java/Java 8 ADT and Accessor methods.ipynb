{
 "cells": [
  {
   "cell_type": "markdown",
   "id": "b9e7c1ac-1d4d-4a16-8d28-bb211e180168",
   "metadata": {},
   "source": [
    "# Short Assessed Programming Exercise 8: ADTs and Accessor Methods\n",
    "## Maks Ostrynski\n",
    "## Student ID: 230367485\n",
    "## 20/11/2023\n",
    "## Version 1"
   ]
  },
  {
   "cell_type": "markdown",
   "id": "be57510e-f999-4c7a-9e52-ae01aef9bebb",
   "metadata": {},
   "source": [
    "## Question Summary:\n",
    "\n",
    "Create a program that rates the disability access of restaurants. A score between 1 to 3 is allocated between three different accessibility measures; step free access, disabled toilet access and disabled parking.."
   ]
  },
  {
   "cell_type": "markdown",
   "id": "07432101-dfb7-4995-9be2-cc89271e357f",
   "metadata": {},
   "source": [
    "## Program development\n",
    "\n",
    "In order to tackle this question i created one record called Restaurant and 7 methods named setStepFreeAccess, toString, setDisabledToilets, setDisabledParking,DisabilityScore, createRestaurant and main. Below I will explain how each method functions and how it was tested to ensure its efficacy. In addition, i will provide information on how to run the entire program in jupyterLab. \n"
   ]
  },
  {
   "cell_type": "markdown",
   "id": "cc69a104-1e1e-4589-8c26-aec0aeb49614",
   "metadata": {},
   "source": [
    "## <span style=\"color: blue;\"> Main()</span>\n",
    "\n",
    "## Functionality & Implementation\n",
    "\n",
    "The main method is run at the start of the program. This method uses a do while loop in order to loop through the three different disability score categories which prompting the user for their score for each category. This data is then passed to a create method. The method allows the user to infinitely loop through different restaurants and receive the total disability rating for each one. The program ends when \"y\" is not selected. "
   ]
  },
  {
   "cell_type": "code",
   "execution_count": null,
   "id": "8523349b-206a-4c42-b42f-6892377ae1fb",
   "metadata": {},
   "outputs": [],
   "source": [
    "    //Main part of the program which runs initially.\n",
    "    public static void main(String[] args) {\n",
    "        Scanner scanner = new Scanner(System.in);\n",
    "        String input;\n",
    "\n",
    "        do {\n",
    "          // Asks the user for the name and scores, and then creates a new Restaurant instance with all the data.\n",
    "          System.out.print(\"What is the name of the restaurant? \");\n",
    "          String name = scanner.nextLine();\n",
    "\n",
    "          System.out.print(\"What is the score for step-free access? \");\n",
    "          int stepFreeAccessScore = scanner.nextInt();\n",
    "\n",
    "          System.out.print(\"What is the score for disabled toilets? \");\n",
    "          int disabledToiletsScore = scanner.nextInt();\n",
    "\n",
    "          System.out.print(\"What is the score for disabled parking? \");\n",
    "          int disabledParkingScore = scanner.nextInt();\n",
    "          scanner.nextLine(); // Consume the newline left-over\n",
    "\n",
    "          // Call the create method to create a new Restaurant record object through the accessor methods. \n",
    "          Restaurant restaurant = Restaurant.createRestaurant(name, stepFreeAccessScore, disabledToiletsScore, disabledParkingScore);\n",
    "\n",
    "            System.out.println(restaurant);\n",
    "\n",
    "            System.out.print(\"Another (y/n)? \");\n",
    "            input = scanner.nextLine();\n",
    "            //Loop continues from the do statement until the user selects \"n\". \n",
    "        } while (input.equalsIgnoreCase(\"y\"));\n",
    "\n",
    "        scanner.close();\n",
    "    } \n",
    "\n",
    "} \n",
    "//END MAIN. "
   ]
  },
  {
   "cell_type": "markdown",
   "id": "d41d9716-1d35-495a-aa4d-67698628932a",
   "metadata": {},
   "source": [
    "## <span style=\"color: blue;\"> createRestaurant()</span>\n",
    "\n",
    "## Functionality & Implementation\n",
    "\n",
    "This is a create method which is called by the main method. The create function recieves all the individual scores for each disability category and passes them to their respective set methods. The method then returns the new record object created. "
   ]
  },
  {
   "cell_type": "code",
   "execution_count": null,
   "id": "ef1e427b-b5f3-48b7-b88e-5f3f27673814",
   "metadata": {},
   "outputs": [],
   "source": [
    "        //Defines a create method to constuct a record instance. \n",
    "        public static Restaurant createRestaurant(String name, int stepFreeAccess, int disabledToilets, int disabledParking) {\n",
    "    Restaurant newRestaurant = new Restaurant(name);\n",
    "        // Uses the accessor method to set the score for each disability category.  \n",
    "    newRestaurant.setStepFreeAccessScore(stepFreeAccess); \n",
    "    newRestaurant.setDisabledToiletsScore(disabledToilets); \n",
    "    newRestaurant.setDisabledParkingScore(disabledParking); \n",
    "    return newRestaurant;\n",
    "}\n",
    "// END createRestaurant"
   ]
  },
  {
   "cell_type": "markdown",
   "id": "ddf0b9ff-0c16-4161-b44c-5a945108e745",
   "metadata": {},
   "source": [
    "## <span style=\"color: blue;\"> Restaurant Record()</span>\n",
    "\n",
    "## Functionality & Implementation\n",
    "\n",
    "This record is called by the main method and it begins by setting four private variables which include name, stepfreeacess,disabledtoilets and disabled parking. This definition is followed by a constructor method which assigns a value to each one of the attributes of the record. Most are set to zero because the restaurant has not yet been rated. When called this record will create a new instance of a restaurant. "
   ]
  },
  {
   "cell_type": "code",
   "execution_count": null,
   "id": "69782ea1-ebb7-46fe-9218-961a5d012e0f",
   "metadata": {},
   "outputs": [],
   "source": [
    "public class Main {\n",
    "//Defines a new private record named Main. \n",
    "    private static class Restaurant {\n",
    "        private String name;\n",
    "        private int stepFreeAccess;\n",
    "        private int disabledToilets;\n",
    "        private int disabledParking;\n",
    "\n",
    "        //Constructor method which sets the attribute values for the record. They are set to zero because the resturant has not been rated. \n",
    "        public Restaurant(String name) {\n",
    "            this.name = name;\n",
    "            this.stepFreeAccess = 0;\n",
    "            this.disabledToilets = 0;\n",
    "            this.disabledParking = 0;\n",
    "        }\n",
    "//END Resturant Record. "
   ]
  },
  {
   "cell_type": "markdown",
   "id": "3af53762-c415-4c7f-b707-b62e5bf4b02f",
   "metadata": {},
   "source": [
    "## <span style=\"color: blue;\"> toString()</span>\n",
    "\n",
    "## Functionality & Implementation\n",
    "\n",
    "This function is a specialised method that allows for the string representation of an object. If the toString() method was not present the default toString method inherited from the object class would be used leading to the resturant rating being output as hashcode in hexadecimal. Rather this function ensures that the Rating is only output as a String value to the user. "
   ]
  },
  {
   "cell_type": "code",
   "execution_count": null,
   "id": "965b06cb-cb46-4015-9fa5-015f05d228c2",
   "metadata": {},
   "outputs": [],
   "source": [
    "        //Specialised function called toString in java which is used to provide a string representation of an object. \n",
    "        public String toString() {\n",
    "            //returns the name and disability rating of the resturant. \n",
    "            return name + \" has a disability rating of \" + getDisabilityScore() + \".\";\n",
    "        }\n",
    "    }\n",
    "\n",
    "//END toString()"
   ]
  },
  {
   "cell_type": "markdown",
   "id": "2cd8f40a-bda6-44db-bdb5-f7913fa21de0",
   "metadata": {},
   "source": [
    "## <span style=\"color: blue;\"> setStepFreeAccess()</span>\n",
    "\n",
    "## Functionality & Implementation\n",
    "\n",
    "This method is called by the create method. The setStepFreeAccess method gets the private attribute of the restaurant class by the same name and sets it to the users input. This is an accessor method. "
   ]
  },
  {
   "cell_type": "code",
   "execution_count": null,
   "id": "8f0024cc-22a4-41d3-b98d-0d5e0f8e6bdf",
   "metadata": {},
   "outputs": [],
   "source": [
    "        //Defines a new get accesor method named setStepFreeAccess.\n",
    "        public void setStepFreeAccess(int score) {\n",
    "            //Sets the stepfreeaccess value to the user input score. \n",
    "            this.stepFreeAccess = score;\n",
    "        }\n",
    "\n",
    "//END setStepFreeAccess"
   ]
  },
  {
   "cell_type": "markdown",
   "id": "6b7903d2-bccf-43d9-ba26-8b33d27dc5d4",
   "metadata": {},
   "source": [
    "## <span style=\"color: blue;\"> setDisabledToilets()</span>\n",
    "\n",
    "## Functionality & Implementation\n",
    "\n",
    "This method is called by the create method. The setDisabledToilets method gets the private attribute of the restaurant class by the same name and sets it to the users input. This is an accessor method. "
   ]
  },
  {
   "cell_type": "code",
   "execution_count": null,
   "id": "9567db61-f299-457e-92e1-94d8d0244e1f",
   "metadata": {},
   "outputs": [],
   "source": [
    "        //Defines a new get accesor method named setDisabledtoilets. \n",
    "        public void setDisabledToilets(int score) {\n",
    "            //Sets the disabledtoilets value to the user input score. \n",
    "            this.disabledToilets = score;\n",
    "        }\n",
    "//END setDisabledtoilets"
   ]
  },
  {
   "cell_type": "markdown",
   "id": "cced9bf5-1db7-402f-a2ff-3305e3bfa0b8",
   "metadata": {},
   "source": [
    "## <span style=\"color: blue;\"> setDisabledParking()</span>\n",
    "\n",
    "## Functionality & Implementation\n",
    "\n",
    "This method is called by the crea method. The setDisabledParking method gets the private attribute of the restaurant class by the same name and sets it to the users input. This is an accessor method. "
   ]
  },
  {
   "cell_type": "code",
   "execution_count": null,
   "id": "61cb6a58-c7f3-44ac-9a23-628e68692bac",
   "metadata": {},
   "outputs": [],
   "source": [
    "        //Defines a new get accesor method named setDisabledparking.\n",
    "        public void setDisabledParking(int score) {\n",
    "            //Sets the disabledparking value to teh user input score. \n",
    "            this.disabledParking = score;\n",
    "        }\n",
    "\n",
    "//END setDisabledparking"
   ]
  },
  {
   "cell_type": "markdown",
   "id": "d0cdc8d3-b2f0-4cb3-a49c-7cd133ded9f9",
   "metadata": {},
   "source": [
    "## <span style=\"color: blue;\">DisabilityScore()</span>\n",
    "\n",
    "## Functionality & Implementation\n",
    "\n",
    "This method is called by the toString() method once the main method has called the output of the restaurant record. The method first defines a new variable and adds all of the user inputs up. Then the method uses IF ELSE statements to find out whether the disability rating is good,excellent or poor. It returns this value as as String to be output to the user. "
   ]
  },
  {
   "cell_type": "code",
   "execution_count": null,
   "id": "1d67224d-f3b0-4e2f-bd00-b48d82f1b95d",
   "metadata": {},
   "outputs": [],
   "source": [
    "       // Method that calculates the total score and returns the disability rating.\n",
    "        public String DisabilityScore() {\n",
    "            //Creates a new variable called totalscore and adds all of the attribute scores together. \n",
    "            int totalScore = stepFreeAccess + disabledToilets + disabledParking;\n",
    "\n",
    "            //If the total score is above 9 then the disability rating of the resturant is set to outstanding. \n",
    "            if (totalScore >= 9) {\n",
    "                return \"OUTSTANDING\";\n",
    "                //Otherwise if its above 5 but less than 9 then its set to GOOD. \n",
    "            } else if (totalScore > 5) {\n",
    "                return \"GOOD\";\n",
    "                //Otherwise the disability rating is set to poor.\n",
    "            } else {\n",
    "                return \"POOR\";\n",
    "            }\n",
    "        }\n",
    "\n",
    "    //END getDisabilityScore"
   ]
  },
  {
   "cell_type": "markdown",
   "id": "5a421e12-affb-4e57-8f28-c292aec72e3c",
   "metadata": {},
   "source": [
    "## Final code:"
   ]
  },
  {
   "cell_type": "code",
   "execution_count": 5,
   "id": "5c916f52-ec9f-420c-bff3-1d7681172a97",
   "metadata": {},
   "outputs": [],
   "source": [
    "import java.util.Scanner; //Imports the scanner functionality.\n",
    "\n",
    "public class Main {\n",
    "//Defines a new private record named Main. \n",
    "    private static class Restaurant {\n",
    "        private String name;\n",
    "        private int stepFreeAccess;\n",
    "        private int disabledToilets;\n",
    "        private int disabledParking;\n",
    "\n",
    "        //Constructor method which sets the attribute values for the record.\n",
    "        public Restaurant(String name) {\n",
    "            this.name = name;\n",
    "            this.stepFreeAccess = 0;\n",
    "            this.disabledToilets = 0;\n",
    "            this.disabledParking = 0;\n",
    "        }\n",
    "//END Resturant Record. \n",
    "\n",
    "        //Defines a create method to constuct a record instance. \n",
    "        public static Restaurant createRestaurant(String name, int stepFreeAccess, int disabledToilets, int disabledParking) {\n",
    "    Restaurant newRestaurant = new Restaurant(name);\n",
    "        // Uses the accessor method to set the score for each disability category.  \n",
    "    newRestaurant.setStepFreeAccessScore(stepFreeAccess); \n",
    "    newRestaurant.setDisabledToiletsScore(disabledToilets); \n",
    "    newRestaurant.setDisabledParkingScore(disabledParking); \n",
    "    return newRestaurant;\n",
    "}\n",
    "// END createRestaurant\n",
    "\n",
    "        //Defines a new get accesor method named setStepFreeAccess.\n",
    "        public void setStepFreeAccess(int score) {\n",
    "            //Sets the stepfreeaccess value to the user input score. \n",
    "            this.stepFreeAccess = score;\n",
    "        }\n",
    "\n",
    "//END setStepFreeAccess\n",
    "\n",
    "        //Defines a new get accesor method named setDisabledtoilets. \n",
    "        public void setDisabledToilets(int score) {\n",
    "            //Sets the disabledtoilets value to the user input score. \n",
    "            this.disabledToilets = score;\n",
    "        }\n",
    "//END setDisabledtoilets\n",
    "\n",
    "        //Defines a new get accesor method named setDisabledparking.\n",
    "        public void setDisabledParking(int score) {\n",
    "            //Sets the disabledparking value to teh user input score. \n",
    "            this.disabledParking = score;\n",
    "        }\n",
    "\n",
    "//END setDisabledparking\n",
    "\n",
    "        \n",
    "        // Method that calculates the total score and returns the disability rating.\n",
    "        public String DisabilityScore() {\n",
    "            //Creates a new variable called totalscore and adds all of the attribute scores together. \n",
    "            int totalScore = stepFreeAccess + disabledToilets + disabledParking;\n",
    "\n",
    "            //Uses decision statements to set the corresponding disability score. \n",
    "            if (totalScore >= 9) {\n",
    "                return \"OUTSTANDING\"; \n",
    "            } else if (totalScore > 5) {\n",
    "                return \"GOOD\";\n",
    "            } else {\n",
    "                return \"POOR\";\n",
    "            }\n",
    "        }\n",
    "\n",
    "    //END getDisabilityScore\n",
    "\n",
    "        //Specialised function called toString in java which is used to provide a string representation of an object. \n",
    "        public String toString() {\n",
    "            final String DisabilityTotal = DisabilityScore() \n",
    "            //returns the name and disability rating of the resturant. \n",
    "            return name + \" has a disability rating of \" + DisabilityTotal + \".\";\n",
    "        }\n",
    "    }\n",
    "\n",
    "//END toString()\n",
    "\n",
    "    //Main part of the program which runs initially.\n",
    "    public static void main(String[] args) {\n",
    "        Scanner scanner = new Scanner(System.in);\n",
    "        String input;\n",
    "\n",
    "        do {\n",
    "          // Asks the user for the name and scores, and then creates a new Restaurant instance with all the data.\n",
    "          System.out.print(\"What is the name of the restaurant? \");\n",
    "          String name = scanner.nextLine();\n",
    "\n",
    "          System.out.print(\"What is the score for step-free access? \");\n",
    "          int stepFreeAccessScore = scanner.nextInt();\n",
    "\n",
    "          System.out.print(\"What is the score for disabled toilets? \");\n",
    "          int disabledToiletsScore = scanner.nextInt();\n",
    "\n",
    "          System.out.print(\"What is the score for disabled parking? \");\n",
    "          int disabledParkingScore = scanner.nextInt();\n",
    "          scanner.nextLine(); // Consume the newline left-over\n",
    "\n",
    "          // Call the create method to create a new Restaurant record object through the accessor methods. \n",
    "          Restaurant restaurant = Restaurant.createRestaurant(name, stepFreeAccessScore, disabledToiletsScore, disabledParkingScore);\n",
    "\n",
    "            System.out.println(restaurant);\n",
    "\n",
    "            System.out.print(\"Another (y/n)? \");\n",
    "            input = scanner.nextLine();\n",
    "            //Loop continues from the do statement until the user selects \"n\". \n",
    "        } while (input.equalsIgnoreCase(\"y\"));\n",
    "\n",
    "        scanner.close();\n",
    "    } \n",
    "\n",
    "} \n",
    "//END MAIN. \n",
    "\n"
   ]
  },
  {
   "cell_type": "markdown",
   "id": "758fd159-bca2-4a71-bed1-96a5837675a7",
   "metadata": {},
   "source": [
    "## END OF DOCUMENT"
   ]
  }
 ],
 "metadata": {
  "kernelspec": {
   "display_name": "Java",
   "language": "java",
   "name": "java"
  },
  "language_info": {
   "codemirror_mode": "java",
   "file_extension": ".jshell",
   "mimetype": "text/x-java-source",
   "name": "Java",
   "pygments_lexer": "java",
   "version": "11.0.8+10-LTS"
  }
 },
 "nbformat": 4,
 "nbformat_minor": 5
}
