{
 "cells": [
  {
   "cell_type": "markdown",
   "id": "d38cef6e-ba9b-4e56-a69f-eb5e754433c7",
   "metadata": {},
   "source": [
    "# Lab 1\n",
    "\n",
    "Deadline: **Week 2** in your respective lab session"
   ]
  },
  {
   "cell_type": "markdown",
   "id": "3fd8d6f9-4682-450d-8faf-a4faf17daf50",
   "metadata": {},
   "source": [
    "### Name:\n",
    "### Student ID:"
   ]
  },
  {
   "cell_type": "markdown",
   "id": "e59f7f40-2982-4996-b01e-63212844413b",
   "metadata": {},
   "source": [
    "***\n",
    "\n",
    "## Question 1 [1 mark]"
   ]
  },
  {
   "cell_type": "markdown",
   "id": "473adcd5-c887-4e8f-98c2-b60d78efebf0",
   "metadata": {},
   "source": [
    "Write a full Java program (meaning a class that contains a main method) that asks the user for their average percentage across all modules and then prints out their classification: `1st`, `2:1`, `2:2`, `3rd`, `Pass` or `Fail`.\n",
    "\n",
    "[Click here to see the degree class boundaries.](https://eecs.qmul.ac.uk/~norman/exam_stuff/exam_procedures/how_we_decide_degree_class.htm)\n",
    "\n",
    "Example runs:  \n",
    "`What is your average percentage?` **`67`**  \n",
    "`Congratulations! You are on a track to graduate with a 2:1!`\n",
    "\n",
    "`What is your average percentage?` **`38`**  \n",
    "`Unfortunately, your current classification is a Fail.`\n",
    "\n"
   ]
  },
  {
   "cell_type": "markdown",
   "id": "eb316635-97f3-4c19-bccf-4c6f69b18318",
   "metadata": {},
   "source": [
    "**Write your answer below:**\n"
   ]
  },
  {
   "cell_type": "code",
   "execution_count": 9,
   "id": "c9653abd-09c0-423d-b5ad-f3a50cea0361",
   "metadata": {
    "vscode": {
     "languageId": "java"
    }
   },
   "outputs": [],
   "source": [
    "import java.util.Scanner;\n",
    "\n",
    "\n",
    "public class Main {\n",
    "    public static void main(String[] args) {\n",
    "      \n",
    "      Scanner scanner = new Scanner(System.in);\n",
    "    \n",
    "              System.out.print(\"What is your average percentage?\");\n",
    "              int choice = scanner.nextInt();\n",
    "              scanner.nextLine();\n",
    "\n",
    "                if (choice >= 70) {\n",
    "            System.out.println(\"Congratulations! You are on a track to graduate with a 1st!\");\n",
    "        } else if (choice >= 60) {\n",
    "            System.out.println(\"Congratulations! You are on a track to graduate with a 2.1!\");\n",
    "        } else if (choice >= 50) {\n",
    "            System.out.println(\"Congratulations! You are on a track to graduate with a 2.2!\");\n",
    "        } else if (choice >= 45) {\n",
    "            System.out.println(\"Congratulations! You are on a track to graduate with a 3rd!\");\n",
    "        } else if (choice >= 40) {\n",
    "            System.out.println(\"Congratulations! You are on a track to graduate with a Pass!\");\n",
    "        } else {\n",
    "            System.out.println(\"Unfortunately, your current classification is a Fail.\");\n",
    "        }\n",
    "    }\n",
    "}\n"
   ]
  },
  {
   "cell_type": "markdown",
   "id": "6fabf667-97b1-4343-96e3-86b4dd65765d",
   "metadata": {},
   "source": [
    "**Run your program:**\n"
   ]
  },
  {
   "cell_type": "code",
   "execution_count": 10,
   "id": "8aa692bb-3548-42a1-9306-11a72fcfbacd",
   "metadata": {
    "vscode": {
     "languageId": "java"
    }
   },
   "outputs": [
    {
     "name": "stdout",
     "output_type": "stream",
     "text": [
      "What is your average percentage?"
     ]
    },
    {
     "name": "stdin",
     "output_type": "stream",
     "text": [
      " 67\n"
     ]
    },
    {
     "name": "stdout",
     "output_type": "stream",
     "text": [
      "Congratulations! You are on a track to graduate with a 2.1!\n"
     ]
    }
   ],
   "source": [
    "Main.main(null);"
   ]
  },
  {
   "cell_type": "code",
   "execution_count": 11,
   "id": "65ece5ca",
   "metadata": {
    "vscode": {
     "languageId": "java"
    }
   },
   "outputs": [
    {
     "name": "stdout",
     "output_type": "stream",
     "text": [
      "What is your average percentage?"
     ]
    },
    {
     "name": "stdin",
     "output_type": "stream",
     "text": [
      " 38\n"
     ]
    },
    {
     "name": "stdout",
     "output_type": "stream",
     "text": [
      "Unfortunately, your current classification is a Fail.\n"
     ]
    }
   ],
   "source": [
    "Main.main(null);"
   ]
  },
  {
   "cell_type": "markdown",
   "id": "4a31bb78-6117-412b-92d9-f150ba2ee053",
   "metadata": {},
   "source": [
    "***\n",
    "\n",
    "## Question 2 [1 mark]"
   ]
  },
  {
   "cell_type": "markdown",
   "id": "69e5f1d4-400d-4c56-b3e7-2cfacd1e88fb",
   "metadata": {},
   "source": [
    "Write a new version of the program from Questions 2 with added input validation. Now the program should ask the user <u>**repeatedly**</u> for their average percentage until a user inputs a number between `0` and `100`.\n",
    "\n",
    "You may assume that the input is always an integer.\n",
    "\n",
    "Example run:  \n",
    "`What is your average percentage?` **`-20`**  \n",
    "`Invalid input. The number you provided is too low. Please give a number between 0 and 100.`\n",
    "\n",
    "`What is your average percentage?` **`150`**  \n",
    "`Invalid input. The number you provided is too high. Please give a number between 0 and 100.`\n",
    "\n",
    "`What is your average percentage?` **`78`**  \n",
    "`Congratulations! You are on a track to graduate with a 1st!`"
   ]
  },
  {
   "cell_type": "markdown",
   "id": "661ca302-591d-4686-ba0c-09b186a7b981",
   "metadata": {},
   "source": [
    "**Write your answer below:**"
   ]
  },
  {
   "cell_type": "code",
   "execution_count": 2,
   "id": "efdd1738-1564-4787-a811-fbc99e8ca644",
   "metadata": {
    "vscode": {
     "languageId": "java"
    }
   },
   "outputs": [],
   "source": [
    "import java.util.Scanner;\n",
    "\n",
    "public class Main {\n",
    "    public static void main(String[] args) {\n",
    "\n",
    "      Scanner scanner = new Scanner(System.in);\n",
    "      int choice = -1;\n",
    "\n",
    "      while (choice < 0 || choice > 100) {\n",
    "        System.out.print(\"What is your average percentage? \");\n",
    "        choice = scanner.nextInt();\n",
    "        scanner.nextLine();\n",
    "\n",
    "        if (choice < 0 || choice > 100) {\n",
    "          System.out.println(\"Invalid input. The number you provided is too \" + (choice < 0 ? \"low\" : \"high\") + \". Please give a number between 0 and 100.\");\n",
    "        }\n",
    "      }\n",
    "\n",
    "      if (choice >= 70) {\n",
    "        System.out.println(\"Congratulations! You are on a track to graduate with a 1st!\");\n",
    "\n",
    "      } else if (choice >= 60) {\n",
    "        System.out.println(\"Congratulations! You are on a track to graduate with a 2.1!\");\n",
    "\n",
    "      } else if (choice >= 50){\n",
    "        System.out.println(\"Congratulations! You are on a track to graduate with a 2.2!\");\n",
    "\n",
    "      } else if (choice >= 45) {\n",
    "        System.out.println(\"Congratulations! You are on a track to graduate with a 3rd!\");\n",
    "\n",
    "      } else if (choice >= 40) {\n",
    "        System.out.println(\"Congratulations! You are on a track to graduate with a Pass!\");\n",
    "\n",
    "      } else {\n",
    "        System.out.println(\"Unfortunately, your current classification is a Fail.\");\n",
    "      }\n",
    "    }\n",
    "}"
   ]
  },
  {
   "cell_type": "markdown",
   "id": "86678292-eaf1-4144-8540-af5a2897235f",
   "metadata": {},
   "source": [
    "**Run your program:**\n"
   ]
  },
  {
   "cell_type": "code",
   "execution_count": 3,
   "id": "0ad396b2-a91f-474c-bfc3-8c395500544a",
   "metadata": {
    "vscode": {
     "languageId": "java"
    }
   },
   "outputs": [
    {
     "name": "stdout",
     "output_type": "stream",
     "text": [
      "What is your average percentage? "
     ]
    },
    {
     "name": "stdin",
     "output_type": "stream",
     "text": [
      " -20\n"
     ]
    },
    {
     "name": "stdout",
     "output_type": "stream",
     "text": [
      "Invalid input. The number you provided is too low. Please give a number between 0 and 100.\n",
      "What is your average percentage? "
     ]
    },
    {
     "name": "stdin",
     "output_type": "stream",
     "text": [
      " 150\n"
     ]
    },
    {
     "name": "stdout",
     "output_type": "stream",
     "text": [
      "Invalid input. The number you provided is too high. Please give a number between 0 and 100.\n",
      "What is your average percentage? "
     ]
    },
    {
     "name": "stdin",
     "output_type": "stream",
     "text": [
      " 78\n"
     ]
    },
    {
     "name": "stdout",
     "output_type": "stream",
     "text": [
      "Congratulations! You are on a track to graduate with a 1st!\n"
     ]
    }
   ],
   "source": [
    "Main.main(null);"
   ]
  },
  {
   "cell_type": "markdown",
   "id": "f7d78bc4-91d6-4599-9b1b-92f54ad04024",
   "metadata": {},
   "source": [
    "***\n",
    "## Question 3 [1 mark]"
   ]
  },
  {
   "cell_type": "markdown",
   "id": "3c8c2842-016a-4fc3-a860-08725ed30efd",
   "metadata": {},
   "source": [
    "Define a class `Student` with two instance variables, `name` and `average`. Add two methods to this class: `printWelcomeMessage` and `determineDegreeClassification`. \n",
    "\n",
    "`printWelcomeMessage` should print a welcome message that will include the student's name.  \n",
    "`determineDegreeClassification` should print the degree classifications based on the student's average.  \n",
    "\n",
    "Then define another class called `Main3` that contains the `main` method. The program should ask the user for their name and average. It should then use the inputted information to create an instance of a `Student` and call `printWelcomeMessage` followed by `determineDegreeClassification`.\n",
    "\n",
    "Example run:  \n",
    "`What is your name?` **`Bob`**  \n",
    "`What is your average percentage?` **`67`** \n",
    "\n",
    "`Welcome Bob to OOP!`  \n",
    "`Congratulations! You are on a track to graduate with a 2:1!`\n",
    "\n",
    "\n",
    "\n",
    "\n"
   ]
  },
  {
   "cell_type": "markdown",
   "id": "c5fe0fd0-036e-485c-911a-437f103e1e2f",
   "metadata": {},
   "source": [
    "**Write your answer below:**"
   ]
  },
  {
   "cell_type": "code",
   "execution_count": 4,
   "id": "fe90afcc-eef7-4bba-bdc0-f57caee04b93",
   "metadata": {
    "vscode": {
     "languageId": "java"
    }
   },
   "outputs": [],
   "source": [
    "import java.util.Scanner;\n",
    "\n",
    "class Student {\n",
    "    public String name;\n",
    "    public int average;\n",
    "\n",
    "    public void printWelcomeMessage() {\n",
    "        System.out.println(\"Welcome \" + name + \" to OOP!\");\n",
    "    }\n",
    "\n",
    "    public void determineDegreeClassification() {\n",
    "        if (average >= 70) {\n",
    "            System.out.println(\"Congratulations! You are on a track to graduate with a 1st!\");\n",
    "        } else if (average >= 60) {\n",
    "            System.out.println(\"Congratulations! You are on a track to graduate with a 2.1!\");\n",
    "        } else if (average >= 50) {\n",
    "            System.out.println(\"Congratulations! You are on a track to graduate with a 2.2!\");\n",
    "        } else if (average >= 45) {\n",
    "            System.out.println(\"Congratulations! You are on a track to graduate with a 3rd!\");\n",
    "        } else if (average >= 40) {\n",
    "            System.out.println(\"Congratulations! You are on a track to graduate with a Pass!\");\n",
    "        } else {\n",
    "            System.out.println(\"Unfortunately, your current classification is a Fail.\");\n",
    "        }\n",
    "    }\n",
    "}\n"
   ]
  },
  {
   "cell_type": "code",
   "execution_count": 7,
   "id": "5115a195-6098-4937-981b-3dc903ce867d",
   "metadata": {
    "vscode": {
     "languageId": "java"
    }
   },
   "outputs": [],
   "source": [
    "public class Main3 {\n",
    "    public static void main(String[] args) {\n",
    "        Scanner scanner = new Scanner(System.in);\n",
    "        Student student = new Student();\n",
    "\n",
    "        System.out.print(\"What is your name? \");\n",
    "        student.name = scanner.nextLine();\n",
    "\n",
    "        student.average = -1; \n",
    "        while (student.average < 0 || student.average > 100) {\n",
    "            System.out.print(\"What is your average percentage? \");\n",
    "            student.average = scanner.nextInt();\n",
    "            scanner.nextLine();\n",
    "\n",
    "            if (student.average < 0 || student.average > 100) {\n",
    "                System.out.println(\"Invalid input. Please give a number between 0 and 100.\");\n",
    "            }\n",
    "        }\n",
    "\n",
    "        student.printWelcomeMessage();\n",
    "        student.determineDegreeClassification();\n",
    "    }\n",
    "}\n"
   ]
  },
  {
   "cell_type": "markdown",
   "id": "cbf3c460-6088-4e9f-aced-e51555d57b4e",
   "metadata": {},
   "source": [
    "**Run your program:**\n"
   ]
  },
  {
   "cell_type": "code",
   "execution_count": 8,
   "id": "ac33953a-bc70-4107-924e-511d71686f12",
   "metadata": {
    "vscode": {
     "languageId": "java"
    }
   },
   "outputs": [
    {
     "name": "stdout",
     "output_type": "stream",
     "text": [
      "What is your name? "
     ]
    },
    {
     "name": "stdin",
     "output_type": "stream",
     "text": [
      " bob\n"
     ]
    },
    {
     "name": "stdout",
     "output_type": "stream",
     "text": [
      "What is your average percentage? "
     ]
    },
    {
     "name": "stdin",
     "output_type": "stream",
     "text": [
      " 67\n"
     ]
    },
    {
     "name": "stdout",
     "output_type": "stream",
     "text": [
      "Welcome bob to OOP!\n",
      "Congratulations! You are on a track to graduate with a 2.1!\n"
     ]
    }
   ],
   "source": [
    "Main3.main(null);"
   ]
  },
  {
   "cell_type": "markdown",
   "id": "f4db984e-b240-4b08-98b2-4950400706c2",
   "metadata": {},
   "source": [
    "***"
   ]
  },
  {
   "cell_type": "markdown",
   "id": "49def47a",
   "metadata": {},
   "source": [
    "## Question 4 [1 mark]\n",
    "\n",
    "Write a method\n",
    "\n",
    "`int countDuplicates(int[] xs)`\n",
    "\n",
    "which should return the number of duplicate entries in `xs`. \n",
    "For example if `xs = {1,1,1}`, the method should return `3` because `xs[0], xs[1]` constitutes one duplicate pair, `xs[0], xs[2]` the second, and `xs[1],xs[2]` the third. In the example `xs = {0,2,1,0,2,3,0}` the method should return `4` because the duplicate pairs are:\n",
    "1. `xs[0], xs[3]`,\n",
    "2. `xs[0], xs[6]`,\n",
    "3. `xs[3], xs[6]`, and\n",
    "4. `xs[1], xs[4]`."
   ]
  },
  {
   "cell_type": "markdown",
   "id": "e361e947",
   "metadata": {},
   "source": [
    "**Write your answer below:**"
   ]
  },
  {
   "cell_type": "code",
   "execution_count": 12,
   "id": "b0e0ad9d",
   "metadata": {
    "vscode": {
     "languageId": "java"
    }
   },
   "outputs": [],
   "source": [
    "public static int countDuplicates(int[] xs) {\n",
    "    int count = 0;\n",
    "    for (int i = 0; i < xs.length; i++) {\n",
    "        for (int j = i + 1; j < xs.length; j++) {\n",
    "            if (xs[i] == xs[j]) {\n",
    "                count++;\n",
    "            }\n",
    "        }\n",
    "    }\n",
    "    return count;\n",
    "}\n"
   ]
  },
  {
   "cell_type": "markdown",
   "id": "57b12d04",
   "metadata": {},
   "source": [
    "**Run your program:**\n"
   ]
  },
  {
   "cell_type": "code",
   "execution_count": 14,
   "id": "7a139c49",
   "metadata": {
    "vscode": {
     "languageId": "java"
    }
   },
   "outputs": [
    {
     "data": {
      "text/plain": [
       "3"
      ]
     },
     "execution_count": 14,
     "metadata": {},
     "output_type": "execute_result"
    }
   ],
   "source": [
    "int[] numbers = {1, 1, 1};\n",
    "countDuplicates(numbers);"
   ]
  },
  {
   "cell_type": "markdown",
   "id": "36473178",
   "metadata": {},
   "source": [
    "***"
   ]
  },
  {
   "cell_type": "markdown",
   "id": "c86c6dbc",
   "metadata": {},
   "source": [
    "## Question 5 [1 mark]\n",
    "\n",
    "Write a method\n",
    "\n",
    "`int[] filterAndReverse(int[] xs, int k)`\n",
    "\n",
    "which does the following. If `k` is `0` it prints `wrong argument` and immediately returns. Otherwise, it takes only those entries in `xs` that are divisble by the number `k`, reverses them and puts them on a new array which is then returned. \n",
    "\n",
    "For example when called on the array `{1,2,3,4}` with `k=2`, it should return the array `{4,2}`. This is because we take only the numbers that are divisible by `2`, which in this case is `{2,4}`, and we reverse this array to get `{4,2}`. If we call this method on the array `{1,2,3}` with `k=1`, it should return the array `{3,2,1}`, this is because every number is divisible by `1`. \n",
    "\n",
    "*Hint:* First go through the array `xs` to see how many entries are divisble by `k`, this number will be the length of the array which you should return. "
   ]
  },
  {
   "cell_type": "markdown",
   "id": "adbd95c5",
   "metadata": {},
   "source": [
    "**Write your answer below:**"
   ]
  },
  {
   "cell_type": "code",
   "execution_count": 15,
   "id": "8321ac04",
   "metadata": {
    "vscode": {
     "languageId": "java"
    }
   },
   "outputs": [],
   "source": [
    "public static int[] filterAndReverse(int[] xs, int k) {\n",
    "    if (k == 0) {\n",
    "        System.out.println(\"wrong argument\");\n",
    "        return null;\n",
    "    }\n",
    "    \n",
    "    int count = 0;\n",
    "    for (int x : xs) {\n",
    "        if (x % k == 0) {\n",
    "            count++;\n",
    "        }\n",
    "    }\n",
    "    \n",
    "    int[] result = new int[count];\n",
    "    \n",
    "    for (int i = xs.length - 1, j = 0; i >= 0; i--) {\n",
    "        if (xs[i] % k == 0) {\n",
    "            result[j++] = xs[i];\n",
    "        }\n",
    "    }\n",
    "    \n",
    "    return result;\n",
    "}\n"
   ]
  },
  {
   "cell_type": "markdown",
   "id": "592174e5",
   "metadata": {},
   "source": [
    "**Run your program:**\n"
   ]
  },
  {
   "cell_type": "code",
   "execution_count": 17,
   "id": "d20fd508-d467-4bf3-a6f0-32f873d26d77",
   "metadata": {},
   "outputs": [],
   "source": [
    "\n",
    "public class Main4 {\n",
    "    public static void main(String[] args) {\n",
    "        int[] a = {1, 2, 3, 4};\n",
    "        int[] b = filterAndReverse(a, 2);\n",
    "        System.out.println(Arrays.toString(b));\n",
    "        \n",
    "        int[] c = {1, 2, 3};\n",
    "        int[] d = filterAndReverse(c, 1);\n",
    "        System.out.println(Arrays.toString(d));\n",
    "    }\n",
    "}"
   ]
  },
  {
   "cell_type": "code",
   "execution_count": 18,
   "id": "84604357-51ec-458a-8cc3-b2f846a2c594",
   "metadata": {},
   "outputs": [
    {
     "name": "stdout",
     "output_type": "stream",
     "text": [
      "[4, 2]\n",
      "[3, 2, 1]\n"
     ]
    }
   ],
   "source": [
    "Main4.main(null);"
   ]
  }
 ],
 "metadata": {
  "kernelspec": {
   "display_name": "Java",
   "language": "java",
   "name": "java"
  },
  "language_info": {
   "codemirror_mode": "java",
   "file_extension": ".jshell",
   "mimetype": "text/x-java-source",
   "name": "Java",
   "pygments_lexer": "java",
   "version": "11.0.8+10-LTS"
  }
 },
 "nbformat": 4,
 "nbformat_minor": 5
}
