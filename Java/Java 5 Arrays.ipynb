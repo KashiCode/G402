{
 "cells": [
  {
   "cell_type": "markdown",
   "id": "c262e59d-150c-4e57-8707-eec421448d57",
   "metadata": {},
   "source": [
    "# Short Assessed Programming Exercise 5: Arrays\n",
    "\n",
    "## Maks Ostrynski\n",
    "## Student ID: 230367485\n",
    "## 09/10/2023\n",
    "## Version 1"
   ]
  },
  {
   "cell_type": "markdown",
   "id": "a693cd84-47fc-48b6-af0a-38f52a67a688",
   "metadata": {},
   "source": [
    "## Summary of the Question\n",
    "\n",
    "Write a program that collects information about the grades a student got using a for loop, and tells them their\r\n",
    "final grade. They should input the number of times they earned each grade storing the numbers in an array.\r\n",
    "From these numbers the program should calculate how many of “each grade or better” they earned by adding\r\n",
    "the numbers for that grade with the numbers for higher grades, again storing the results in an array. The\r\n",
    "program then tells them their final grade by checking first if they have gained an A* and if not have they\r\n",
    "gained an A++, and if not have they gained aetc.lows:"
   ]
  },
  {
   "cell_type": "markdown",
   "id": "f779d450-61fb-4a08-b29d-ab8d8965f490",
   "metadata": {},
   "source": [
    "## Program development\n",
    "\n",
    "In order to tackle this question i created two methods called StudentGrades and GradeCalculator. Below I will explain how each method functions and how it was tested to ensure its efficacy. In addition, i will provide information on how to run the entire program in jupyterLab. \n",
    "\n",
    "## <span style=\"color: blue;\">StudentGrades()</span>\n",
    "\n",
    "## Functionality & Implementation\n",
    "\n",
    "The function is called by the StudentGrades(); statement. The method starts by creating two 1D arrays. One array which will store 7 values and is empty and another which stores Grades in String format from A+ to G. The method then uses a for loop to iterate through each grade and ask the student how many of these grades they recieved. The method then calls another method and passes the array with the entered details to a method called GradeCalculator. \n"
   ]
  },
  {
   "cell_type": "code",
   "execution_count": null,
   "id": "16f6c9e7-270f-47f6-8684-149436ce7d98",
   "metadata": {},
   "outputs": [],
   "source": [
    "//Defines new method called StudentGrades.\n",
    "   public static void StudentGrades() {\n",
    "\n",
    "       //Creates two 1 dimensional arrays. One to store 7 values and another containing preset String grade values. \n",
    "        int[] grades = new int[7]; \n",
    "        String[] gradeNames = {\"A+\", \"A\", \"B\", \"C\", \"D\", \"F\", \"G\"};\n",
    "\n",
    "       //Creates a new scanner object to read user inputs.\n",
    "        Scanner scanner = new Scanner(System.in);\n",
    "\n",
    "       //Initialises a for loop for each of the 7 grades to ask the user how many of that grade they recieved. \n",
    "        for (int i = 0; i < gradeNames.length; i++) { \n",
    "            System.out.print(\"How many \" + gradeNames[i] + \" grades did you get? \");\n",
    "            grades[i] = scanner.nextInt();\n",
    "        }\n",
    "       //Calls the GradeCalculator method and passes the complete grade array to the method. \n",
    "        GradeCalculator(grades);\n",
    "    }\n",
    "//END StudentGrades"
   ]
  },
  {
   "cell_type": "markdown",
   "id": "c2a6db18-634b-4ede-9348-3ab1e7090eb7",
   "metadata": {},
   "source": [
    "### Testing:\n",
    "\n",
    "In order to test the functionality of the method I called the method multiple times using the StudentGrades(); statement. "
   ]
  },
  {
   "cell_type": "code",
   "execution_count": null,
   "id": "6deaf940-e0ed-4a2e-90e0-56959c91983d",
   "metadata": {},
   "outputs": [
    {
     "name": "stdout",
     "output_type": "stream",
     "text": [
      "How many A+ grades did you get? "
     ]
    }
   ],
   "source": [
    "StudentGrades(); //calls the studentGrades method. "
   ]
  },
  {
   "cell_type": "markdown",
   "id": "4cc24495-f6d1-4fd2-9148-d82c40bf653f",
   "metadata": {},
   "source": [
    "## <span style=\"color: blue;\">GradeCalculator()</span>\n",
    "\n",
    "## Functionality & Implementation\n",
    "\n",
    "This method is called by the previous method and has an integer array value passed to it. This method is necessary to calculate the total grade that the student has achieved. It begins by defining the grade array again containing String grades from A* to G. It will then calculate certain conditions using for loops and while loops in order to calculate which grade the user has recieved. The grade will then be output to the user."
   ]
  },
  {
   "cell_type": "code",
   "execution_count": null,
   "id": "f0938b1c-7f31-4887-b296-0359a1c37a37",
   "metadata": {},
   "outputs": [],
   "source": [
    "    //Defines a new method called Grade Calculator which recieves an integer array as a parameter. \n",
    "    public static void GradeCalculator(int[] grades) {\n",
    "        String[] gradeNames = {\"A+\", \"A\", \"B\", \"C\", \"D\", \"F\", \"G\"};\n",
    "\n",
    "        // If the first element of the grades array is 8, then it prints \"A*.\"\n",
    "        if (grades[0] == 8) {\n",
    "            System.out.println(\"A*\");\n",
    "            return;\n",
    "        }\n",
    "        //If the first element is 7 and the second element is 1, then it prints \"A++.\"\n",
    "        if (grades[0] == 7 && grades[1] == 1) {\n",
    "            System.out.println(\"A++\");\n",
    "            return;\n",
    "        }\n",
    "        //calculates the total of all the grades in the grades array and stores it in the variable lowestgrade.\n",
    "        int lowestgrade = 0;\n",
    "        for (int grade : grades) {\n",
    "            lowestgrade += grade;\n",
    "        }\n",
    "\n",
    "        // checks if the lowestgrade is less than 8, and if so, it prints \"Q\" and returns.\n",
    "        if (lowestgrade < 8) {\n",
    "            System.out.println(\"Q\");\n",
    "            return;\n",
    "        }\n",
    "        //initializes two variables, Grade1 and Grade2, as well as x and y and sets these to 0.\n",
    "        int Grade1 = 0;\n",
    "        int Grade2 = 0;\n",
    "        int x = 0;\n",
    "        int y = 0;\n",
    "        \n",
    "        //enters a loop to find the number of grades required to reach a sum of 6. \n",
    "        while (Grade1 < 6) {\n",
    "            Grade1 += grades[x];\n",
    "            x++;\n",
    "        }\n",
    "        //Extends the loop to find the number of times Grade2 and Grade1 can be added together before they are greater than 8\n",
    "        while (Grade2 + Grade1 < 8) {\n",
    "            Grade2 += grades[x + y];\n",
    "            y++;\n",
    "        }\n",
    "\n",
    "        //If y is 1, it uses the x value to find the final grade; otherwise, it uses x + y.\n",
    "        if (y == 1) {\n",
    "            String finalgrade = gradeNames[x - 1];\n",
    "            System.out.println(\"You consistently gained a grade \" + gradeNames[x - 1] + \" or better\");\n",
    "            System.out.println(\"Therefore, you gained a grade \" + gradeNames[x - 1] + \" overall\");\n",
    "        } else {\n",
    "            String finalgrade = gradeNames[x + y - 1];\n",
    "            System.out.println(\"You consistently gained a grade \" + gradeNames[x + y - 1] + \" or better\");\n",
    "            System.out.println(\"Therefore, you gained a grade \" + gradeNames[x + y - 1] + \" overall\");\n",
    "    }\n",
    "\n",
    "    }\n",
    "//END GradeCalculator"
   ]
  },
  {
   "cell_type": "markdown",
   "id": "cd9675a7-0b73-41da-b8e4-fed2197bae8f",
   "metadata": {},
   "source": [
    "### Testing:\n",
    "\n",
    "In order to test the functionality of the method I called the method multiple times using the GradeCalculator(); statement. "
   ]
  },
  {
   "cell_type": "code",
   "execution_count": null,
   "id": "34d070ed-448f-4081-a447-3bc6eab7606c",
   "metadata": {},
   "outputs": [],
   "source": [
    "GradeCalculator(grades); //calls the gradecalculator method and passes an array to it as a parameter. "
   ]
  },
  {
   "cell_type": "markdown",
   "id": "41db6ab3-372e-4a73-b8c9-23199fb32752",
   "metadata": {},
   "source": [
    "### Final product:\n",
    "\n",
    "For the completed program I have added additional comments using the // statement. I have also added a detailed description to my program, detailing the author, date created and a description of the entire program. \n"
   ]
  },
  {
   "cell_type": "code",
   "execution_count": 1,
   "id": "d48452dc-0dd4-49bb-a8a9-2c9d15eab225",
   "metadata": {},
   "outputs": [
    {
     "name": "stdout",
     "output_type": "stream",
     "text": [
      "How many A+ grades did you get? "
     ]
    },
    {
     "name": "stdin",
     "output_type": "stream",
     "text": [
      " 1\n"
     ]
    },
    {
     "name": "stdout",
     "output_type": "stream",
     "text": [
      "How many A grades did you get? "
     ]
    },
    {
     "name": "stdin",
     "output_type": "stream",
     "text": [
      " 4\n"
     ]
    },
    {
     "name": "stdout",
     "output_type": "stream",
     "text": [
      "How many B grades did you get? "
     ]
    },
    {
     "name": "stdin",
     "output_type": "stream",
     "text": [
      " 1\n"
     ]
    },
    {
     "name": "stdout",
     "output_type": "stream",
     "text": [
      "How many C grades did you get? "
     ]
    },
    {
     "name": "stdin",
     "output_type": "stream",
     "text": [
      " 2\n"
     ]
    },
    {
     "name": "stdout",
     "output_type": "stream",
     "text": [
      "How many D grades did you get? "
     ]
    },
    {
     "name": "stdin",
     "output_type": "stream",
     "text": [
      " 0\n"
     ]
    },
    {
     "name": "stdout",
     "output_type": "stream",
     "text": [
      "How many F grades did you get? "
     ]
    },
    {
     "name": "stdin",
     "output_type": "stream",
     "text": [
      " 0\n"
     ]
    },
    {
     "name": "stdout",
     "output_type": "stream",
     "text": [
      "How many G grades did you get? "
     ]
    },
    {
     "name": "stdin",
     "output_type": "stream",
     "text": [
      " \n",
      " 0\n"
     ]
    },
    {
     "name": "stdout",
     "output_type": "stream",
     "text": [
      "You consistently gained a grade B or better\n",
      "Therefore, you gained a grade B overall\n"
     ]
    }
   ],
   "source": [
    "/* ***************************************\n",
    "  @author    Maks\n",
    "  @date      10 October 2023\n",
    "  @version   1\n",
    "\n",
    "\n",
    "****************************************/\n",
    "\n",
    "\n",
    "   //Defines new method called StudentGrades.\n",
    "   public static void StudentGrades() {\n",
    "\n",
    "       //Creates two 1 dimensional arrays. One to store 7 values and another containing preset String grade values. \n",
    "        int[] grades = new int[7]; \n",
    "        String[] gradeNames = {\"A+\", \"A\", \"B\", \"C\", \"D\", \"F\", \"G\"};\n",
    "\n",
    "       //Creates a new scanner object to read user inputs.\n",
    "        Scanner scanner = new Scanner(System.in);\n",
    "\n",
    "       //Initialises a for loop for each of the 7 grades to ask the user how many of that grade they recieved. \n",
    "        for (int i = 0; i < gradeNames.length; i++) { \n",
    "            System.out.print(\"How many \" + gradeNames[i] + \" grades did you get? \");\n",
    "            grades[i] = scanner.nextInt();\n",
    "        }\n",
    "       //Calls the GradeCalculator method and passes the complete grade array to the method. \n",
    "        GradeCalculator(grades);\n",
    "    }\n",
    "//END StudentGrades\n",
    "\n",
    "    //Defines a new method called Grade Calculator which recieves an integer array as a parameter. \n",
    "    public static void GradeCalculator(int[] grades) {\n",
    "        String[] gradeNames = {\"A+\", \"A\", \"B\", \"C\", \"D\", \"F\", \"G\"};\n",
    "\n",
    "        // If the first element of the grades array is 8, then it prints \"A*.\"\n",
    "        if (grades[0] == 8) {\n",
    "            System.out.println(\"A*\");\n",
    "            return;\n",
    "        }\n",
    "        //If the first element is 7 and the second element is 1, then it prints \"A++.\"\n",
    "        if (grades[0] == 7 && grades[1] == 1) {\n",
    "            System.out.println(\"A++\");\n",
    "            return;\n",
    "        }\n",
    "        //calculates the total of all the grades in the grades array and stores it in the variable lowestgrade.\n",
    "        int lowestgrade = 0;\n",
    "        for (int grade : grades) {\n",
    "            lowestgrade += grade;\n",
    "        }\n",
    "\n",
    "        // checks if the lowestgrade is less than 8, and if so, it prints \"Q\" and returns.\n",
    "        if (lowestgrade < 8) {\n",
    "            System.out.println(\"Q\");\n",
    "            return;\n",
    "        }\n",
    "        //initializes two variables, Grade1 and Grade2, as well as x and y and sets these to 0.\n",
    "        int Grade1 = 0;\n",
    "        int Grade2 = 0;\n",
    "        int x = 0;\n",
    "        int y = 0;\n",
    "        \n",
    "        //enters a loop to find the number of grades required to reach a sum of 6. \n",
    "        while (Grade1 < 6) {\n",
    "            Grade1 += grades[x];\n",
    "            x++;\n",
    "        }\n",
    "        //Extends the loop to find the number of times Grade2 and Grade1 can be added together before they are greater than 8\n",
    "        while (Grade2 + Grade1 < 8) {\n",
    "            Grade2 += grades[x + y];\n",
    "            y++;\n",
    "        }\n",
    "\n",
    "        //If y is 1, it uses the x value to find the final grade; otherwise, it uses x + y.\n",
    "        if (y == 1) {\n",
    "            String finalgrade = gradeNames[x - 1];\n",
    "            System.out.println(\"You consistently gained a grade \" + gradeNames[x - 1] + \" or better\");\n",
    "            System.out.println(\"Therefore, you gained a grade \" + gradeNames[x - 1] + \" overall\");\n",
    "        } else {\n",
    "            String finalgrade = gradeNames[x + y - 1];\n",
    "            System.out.println(\"You consistently gained a grade \" + gradeNames[x + y - 1] + \" or better\");\n",
    "            System.out.println(\"Therefore, you gained a grade \" + gradeNames[x + y - 1] + \" overall\");\n",
    "    }\n",
    "\n",
    "    }\n",
    "//END GradeCalculator\n",
    "\n",
    "StudentGrades(); //calls the studentGrades method at the start of the program. \n",
    "   "
   ]
  },
  {
   "cell_type": "markdown",
   "id": "05dfdaa7-7e22-4e32-94a9-a75a24808b83",
   "metadata": {},
   "source": [
    "## END OF DOCUMENT"
   ]
  }
 ],
 "metadata": {
  "kernelspec": {
   "display_name": "Java",
   "language": "java",
   "name": "java"
  },
  "language_info": {
   "codemirror_mode": "java",
   "file_extension": ".jshell",
   "mimetype": "text/x-java-source",
   "name": "Java",
   "pygments_lexer": "java",
   "version": "11.0.8+10-LTS"
  }
 },
 "nbformat": 4,
 "nbformat_minor": 5
}
