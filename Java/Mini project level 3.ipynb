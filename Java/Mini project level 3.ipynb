{
 "cells": [
  {
   "cell_type": "markdown",
   "id": "1ec82ec7-fc03-4965-8c64-1af45ef0777d",
   "metadata": {},
   "source": [
    "# Miniproject Assessed Exercise\n",
    "# Version 3\n",
    "# Level A.\n",
    "## Maks Ostrynski\n",
    "## Student ID: 230367485\n",
    "## 20/11/23"
   ]
  },
  {
   "cell_type": "markdown",
   "id": "b4fd9911-e625-4db4-bf6b-b6c84a32ab65",
   "metadata": {},
   "source": [
    "## <span style=\"color: red;\">Important information:</span>\n",
    "\n",
    "- Due to the complexity of the code, many of the specified methods are not testable in their standalone format below. Therefore to see evidence of testing please refer to the ```Testing full code``` section towards the bottom of the program and find the relevant code segment and its output there. The output will cover all of the methods specified and explained below. \n",
    "\n",
    "- If running the code is necessary please use the code in the ```Final code executable``` section at the very end of the program."
   ]
  },
  {
   "cell_type": "markdown",
   "id": "02248188-0521-44e9-ac8a-ec9dbfa92765",
   "metadata": {},
   "source": [
    "## Summary of the Question:\n",
    "\n",
    "Write a procedural program that simulates pets that the player must look after."
   ]
  },
  {
   "cell_type": "markdown",
   "id": "962d62e4-002c-45d0-b188-7919b931f125",
   "metadata": {},
   "source": [
    "## Justification that the program passes these levels:\n",
    "\n",
    "\n",
    "### Level 1 – G minus: Getting started: Input-Output\n",
    "\n",
    "- Includes user Input fields to enter the pet name and interact with the pet.\n",
    "- Includes an output menu so users can select what they want to do with their pet.\n",
    "\n",
    "### Level 2 – G: Making progress: Assignments and Expressions:\n",
    "\n",
    "- The program uses variables petName, hunger, happiness,and interacts with them.\n",
    "-  Defines the createNewPet method which returns a pet record. \n",
    "\n",
    "### Level 3 – F: Getting there: Decisions\n",
    "\n",
    "- Includes IF, ELSE statements to decide whether the user wants to feed their pet, play with their pet etc. \n",
    "- Defines a method/s that takes arguments.\n",
    "\n",
    "### Level 4 - D: Bare Pass: Loops\n",
    "\n",
    "- Uses while loops to loop through the main menu and the different interaction options for your pet.\n",
    "\n",
    "### Level 5 - C: Pass: Arrays and Loops inside loops\n",
    "\n",
    "- Uses arrays for the pet attributes and to store the game instructions. \n",
    "- Uses arrays accessed with a loop such as those which output the game instructions. \n",
    "- The program defines and uses multiple methods and passes arrays as arguments.\n",
    "\n",
    "### Level 6 - B: Satisfactory: Records\n",
    "\n",
    "- Includes the pet record which is defined as a special class with no methods just field definitions.\n",
    "- Clearly decomposed into multiple small methods doing distinct jobs that take arguments and return results.\n",
    "\n",
    "### Level 7 - A: Merit: File I/O\n",
    "\n",
    "- File input and output allowing users to save a game or load a game.\n",
    "- All variables are defined in methods and have minimum scope.\n"
   ]
  },
  {
   "cell_type": "markdown",
   "id": "7d124396-e0bc-4c74-a227-03914b007535",
   "metadata": {},
   "source": [
    "# The literate program development:"
   ]
  },
  {
   "cell_type": "markdown",
   "id": "d2fbd04b-ee37-432b-befc-c57b6a072567",
   "metadata": {},
   "source": [
    "### main()\n",
    "\n",
    "#### Functionality\n",
    "\n",
    "The main method is called at the start of the program and acts as an entry point into my program. The method gives the user multiple menu options to select from and calls the relevant functions to completed the users requests. \n",
    "\n",
    "#### Implementation \n",
    "Uses a while loop to loop through different main menu options and if else statements to choose the correct menu option that the user has selected. \n"
   ]
  },
  {
   "cell_type": "code",
   "execution_count": null,
   "id": "833acc28-d0d7-4ee6-9b40-8e91892e7ab8",
   "metadata": {},
   "outputs": [],
   "source": [
    "//Starting point of the program.\n",
    "public class Main {\n",
    "    public static void main(String[] args) {\n",
    "\n",
    "      //Creates a new scanner object and sets the boolean value of quit to false. \n",
    "      Scanner scanner = new Scanner(System.in);\n",
    "          boolean quit = false;\n",
    "\n",
    "          \n",
    "          //Defines a while loop that loops a main menu for the user to interact with aslong as quit is not selected. \n",
    "          while (!quit) {\n",
    "              System.out.println(\"------------------------------------------------------------------------------\");\n",
    "              System.out.println(\"Main Menu:\");\n",
    "              System.out.println(\"1. Play the game\");\n",
    "              System.out.println(\"2. Instructions\");\n",
    "              System.out.println(\"3. Current Pet Information\");\n",
    "              System.out.println(\"4. Quit\");\n",
    "              System.out.println(\"------------------------------------------------------------------------------\");\n",
    "\n",
    "              System.out.print(\"Enter your choice: \");\n",
    "              int choice = scanner.nextInt();\n",
    "              scanner.nextLine();\n",
    "\n",
    "\n",
    "            //Uses decision statements (IF ELSE) to find which option the user has selected. \n",
    "              if (choice == 1) {\n",
    "                //Calls the petprogram and passes the scanner as a variable.\n",
    "                  PetProgram(scanner);\n",
    "              } else if (choice == 2) {\n",
    "                //Calls a function to create an instruction array and another to display the created array. \n",
    "                String[] instructionsArray = createInstructions();\n",
    "                Instructions(instructionsArray);\n",
    "              } else if (choice == 3){\n",
    "                //Calls the PetInfo function. \n",
    "                PetInfo();\n",
    "              } else if (choice == 4) {\n",
    "                //Sets the boolean value to true ending the game. \n",
    "                  quit = true;\n",
    "                  System.out.println(\"Thanks for Playing!\");\n",
    "              } else {\n",
    "                  System.out.println(\"Invalid choice.\");\n",
    "              }\n",
    "          }\n",
    "          //closes the scanner \n",
    "          scanner.close();\n",
    "      }\n",
    "  //END MAI"
   ]
  },
  {
   "cell_type": "markdown",
   "id": "0646a226-e195-408a-b96d-6416f68db6b5",
   "metadata": {},
   "source": [
    "### Testing:\n",
    "\n",
    "In order to test the method i had to remove the ``` public class Main {\n",
    "    public static void main(String[] args) {  ``` and replace it with a  ```public static void main(){``` to make it a regular function . I then called it using main() statement. "
   ]
  },
  {
   "cell_type": "code",
   "execution_count": 54,
   "id": "0b2e18e4-f2e3-4f92-b132-a204ca1cf738",
   "metadata": {},
   "outputs": [
    {
     "name": "stdout",
     "output_type": "stream",
     "text": [
      "------------------------------------------------------------------------------\n",
      "Main Menu:\n",
      "1. Play the game\n",
      "2. Instructions\n",
      "3. Current Pet Information\n",
      "4. Quit\n",
      "------------------------------------------------------------------------------\n",
      "Enter your choice: "
     ]
    },
    {
     "name": "stdin",
     "output_type": "stream",
     "text": [
      " 4\n"
     ]
    },
    {
     "name": "stdout",
     "output_type": "stream",
     "text": [
      "Thanks for Playing!\n"
     ]
    }
   ],
   "source": [
    "//EDITED FUNCTION WITHOUT THE CLASS STATEMENT. \n",
    "public static void main(){\n",
    "//Creates a new scanner object and sets the boolean value of quit to false. \n",
    "      Scanner scanner = new Scanner(System.in);\n",
    "          boolean quit = false;\n",
    "\n",
    "          \n",
    "          //Defines a while loop that loops a main menu for the user to interact with aslong as quit is not selected. \n",
    "          while (!quit) {\n",
    "              System.out.println(\"------------------------------------------------------------------------------\");\n",
    "              System.out.println(\"Main Menu:\");\n",
    "              System.out.println(\"1. Play the game\");\n",
    "              System.out.println(\"2. Instructions\");\n",
    "              System.out.println(\"3. Current Pet Information\");\n",
    "              System.out.println(\"4. Quit\");\n",
    "              System.out.println(\"------------------------------------------------------------------------------\");\n",
    "\n",
    "              System.out.print(\"Enter your choice: \");\n",
    "              int choice = scanner.nextInt();\n",
    "              scanner.nextLine();\n",
    "\n",
    "\n",
    "            //Uses decision statements (IF ELSE) to find which option the user has selected. \n",
    "              if (choice == 1) {\n",
    "                //Calls the petprogram and passes the scanner as a variable.\n",
    "                  PetProgram(scanner);\n",
    "              } else if (choice == 2) {\n",
    "                //Calls a function to create an instruction array and another to display the created array. \n",
    "                String[] instructionsArray = createInstructions();\n",
    "                Instructions(instructionsArray);\n",
    "              } else if (choice == 3){\n",
    "                //Calls the PetInfo function. \n",
    "                PetInfo();\n",
    "              } else if (choice == 4) {\n",
    "                //Sets the boolean value to true ending the game. \n",
    "                  quit = true;\n",
    "                  System.out.println(\"Thanks for Playing!\");\n",
    "              } else {\n",
    "                  System.out.println(\"Invalid choice.\");\n",
    "              }\n",
    "          }\n",
    "          //closes the scanner \n",
    "          scanner.close();\n",
    "      }\n",
    "\n",
    "main(); // CALLS THE PROGRAM. "
   ]
  },
  {
   "cell_type": "markdown",
   "id": "d1c65f73-77ac-4a8a-a4f1-54776c676c02",
   "metadata": {},
   "source": [
    "### Pet Record\n",
    "\n",
    "#### Functionality\n",
    "\n",
    "The pet record firstly implements serializable and stores the serial version to allow for all of the record data to be saved to a file and loaded. \n",
    "\n",
    "#### Implementation \n",
    "Uses a record class to define the attributes of the pet and a constructor method which sets the attribute values and allows the attributes to be accessed throughout the program. \n"
   ]
  },
  {
   "cell_type": "code",
   "execution_count": 1,
   "id": "9f1692c6-eacf-4dfc-b11d-64ff2772d95b",
   "metadata": {},
   "outputs": [],
   "source": [
    "//Creates a Record  class named Pet. The class implements serializable in order for it to be saved to a file and loaded.\n",
    "class Pet implements Serializable {\n",
    "    private static final long serialVersionUID = 1L; //serial version. \n",
    "\n",
    "    //Defines variables to store the pet attributes.\n",
    "    String name;\n",
    "    int hunger;\n",
    "    int health;\n",
    "    int happiness;\n",
    "    String type;\n",
    "    boolean alive;\n",
    "}"
   ]
  },
  {
   "cell_type": "markdown",
   "id": "68688ace-5467-4a37-adc5-3a6fb99fe726",
   "metadata": {},
   "source": [
    "### Testing:\n",
    "\n",
    "In order to test if my record was correct functioning i called the record using a record creating method."
   ]
  },
  {
   "cell_type": "code",
   "execution_count": 2,
   "id": "ee24a8cb-a7f2-4c65-93bb-e12b385488e9",
   "metadata": {},
   "outputs": [
    {
     "name": "stdout",
     "output_type": "stream",
     "text": [
      "Please enter your pet's name: "
     ]
    },
    {
     "name": "stdin",
     "output_type": "stream",
     "text": [
      " Quack\n"
     ]
    },
    {
     "name": "stdout",
     "output_type": "stream",
     "text": [
      "Please enter your pet's species: "
     ]
    },
    {
     "name": "stdin",
     "output_type": "stream",
     "text": [
      " Quacky\n"
     ]
    },
    {
     "name": "stdout",
     "output_type": "stream",
     "text": [
      "------------------------------------------------------------------------------\n"
     ]
    },
    {
     "data": {
      "text/plain": [
       "REPL.$JShell$12$Pet@792678e"
      ]
     },
     "execution_count": 2,
     "metadata": {},
     "output_type": "execute_result"
    }
   ],
   "source": [
    "  //Defines a new method called createNewPet.\n",
    "  public static Pet createNewPet(Scanner scanner) {\n",
    "\n",
    "      // Prompts the user for the pet's name and species.\n",
    "      System.out.print(\"Please enter your pet's name: \");\n",
    "      String petName = scanner.nextLine();\n",
    "      System.out.print(\"Please enter your pet's species: \");\n",
    "      String petType = scanner.nextLine();\n",
    "      System.out.println(\"------------------------------------------------------------------------------\");\n",
    "\n",
    "      // Creates a new pet object. (acts as a constructor method for the class)\n",
    "      Pet newPet = new Pet();\n",
    "      newPet.name = petName;\n",
    "      newPet.hunger = 50;\n",
    "      newPet.happiness = 50;\n",
    "      newPet.health = 60;\n",
    "      newPet.type = petType;\n",
    "      newPet.alive = true;\n",
    "\n",
    "      return newPet; //returns the pet. \n",
    "  }\n",
    "  //END createNewPet\n",
    "\n",
    "createNewPet();"
   ]
  },
  {
   "cell_type": "markdown",
   "id": "e9a698df-5f73-4597-9fea-773145e32cef",
   "metadata": {},
   "source": [
    "### PlayPet()\n",
    "\n",
    "#### Functionality\n",
    "\n",
    "This part of the program is called within the main pet program. It will alter the pet happiness and hunger. It will also output a message to the user that they have played with their pet. If the pets health is too low then it outputs a message that the pet is too unwell to play with.\n",
    "\n",
    "#### Implementation \n",
    "\n",
    "Accepts the pet record as a variable. Uses if statement to check if the pet health is above a certain value. "
   ]
  },
  {
   "cell_type": "code",
   "execution_count": 4,
   "id": "99a37449-311b-4845-82c5-9dcfd06ace59",
   "metadata": {},
   "outputs": [],
   "source": [
    "  //Method called PlayPet. \n",
    "    public static void PlayPet(Pet pet) {\n",
    "      //Checks if the pet health is above 10, if so then it takes away hunger and increases happiness.\n",
    "        if (pet.health >= 10) {\n",
    "            pet.hunger -= 10;\n",
    "            pet.happiness += 5;\n",
    "          //Notifies the user that they have played with the pet. \n",
    "            System.out.println(\"you played with\" + \" \" + pet.name + \"!\");\n",
    "        } else {\n",
    "          //If the pet is below 10 health it is classified as too unwell to play and so must be taken to a vet first. \n",
    "            System.out.println(pet.name + \" is too unwell to go and play.\");\n",
    "        }\n",
    "    }"
   ]
  },
  {
   "cell_type": "markdown",
   "id": "8c59305e-7c6f-4061-ad97-11dc7289ca7e",
   "metadata": {},
   "source": [
    "### Testing:\n",
    "\n",
    "For evidence of testing this method please see the ```Testing full code``` section and find the relevant code segment."
   ]
  },
  {
   "cell_type": "markdown",
   "id": "65f0d1eb-d402-4a66-bcb5-aa6dea5aaa96",
   "metadata": {},
   "source": [
    "### Feedpet()\n",
    "\n",
    "#### Functionality\n",
    "\n",
    "This part of the program is also called by the main pet program. It enables a user to feed a pet and change their hunger and happiness values. Once the pet is fed the user is notified. \n",
    "\n",
    "#### Implementation \n",
    "\n",
    "Accepts the pet record as a variable."
   ]
  },
  {
   "cell_type": "code",
   "execution_count": 77,
   "id": "772bb88d-117c-4588-a352-f7974f22d835",
   "metadata": {},
   "outputs": [],
   "source": [
    "  //Method called feedPet\n",
    "    public static void feedPet(Pet pet) {\n",
    "      //Adds 10 hunger and 10 happiness to the pet attributes. \n",
    "        pet.hunger += 10;\n",
    "        pet.happiness += 5;\n",
    "      //Outputs to the user that the pet has been fed. \n",
    "        System.out.println(pet.name + \" \" + \"was fed and is now full and happy!\");\n",
    "    }\n",
    "//END FEEDPET"
   ]
  },
  {
   "cell_type": "markdown",
   "id": "0d1e1329-4fe5-4510-869e-307ffec4bca6",
   "metadata": {},
   "source": [
    "### Testing:\n",
    "\n",
    "For evidence of testing this method please see the ```Testing full code``` section and find the relevant code segment."
   ]
  },
  {
   "cell_type": "markdown",
   "id": "3ae8c718-32ba-4df0-8f91-8fd9eaa88b60",
   "metadata": {},
   "source": [
    "### VetPet()\n",
    "\n",
    "#### Functionality\n",
    "\n",
    "This part of the program is also called by the main pet program. It enables the user to increase the health of their pet. Once completed it notifies the user that the pet has been healed. \n",
    "\n",
    "#### Implementation \n",
    "\n",
    "Accepts the pet record as a variable."
   ]
  },
  {
   "cell_type": "code",
   "execution_count": 76,
   "id": "b4665f6a-527c-4a91-879b-1ffdca3216c3",
   "metadata": {},
   "outputs": [],
   "source": [
    "  //Method called VetPet.\n",
    "    public static void VetPet(Pet pet) {\n",
    "      //Adds 10 health to the pets health stored in record. \n",
    "        pet.health += 10;\n",
    "      //Outputs to the user that the pet has been cured and is now healthier. \n",
    "      System.out.println(pet.name + \" \" + \"was cured and is now healthy!\");\n",
    "            }\n",
    "\n",
    "  //END VETPET"
   ]
  },
  {
   "cell_type": "markdown",
   "id": "c5c0bf29-a8d0-4699-bdea-c15deecbee29",
   "metadata": {},
   "source": [
    "### Testing:\n",
    "\n",
    "For evidence of testing this method please see the ```Testing full code``` section and find the relevant code segment."
   ]
  },
  {
   "cell_type": "markdown",
   "id": "837fab02-124a-44be-b4e0-183c171e301b",
   "metadata": {},
   "source": [
    "### gethealth()\n",
    "\n",
    "#### Functionality\n",
    "\n",
    "This part of the program is also called by the main pet program. The get health method runs at the end of each loop and outputs the current health value of the pet as a string identifier rather than an integer one. It returns the relevant health status of the pet.\n",
    "\n",
    "#### Implementation \n",
    "\n",
    "Accepts the pet record as a variable. Creates a new array called string descriptions and uses if else statements to find the relevant value. "
   ]
  },
  {
   "cell_type": "code",
   "execution_count": 30,
   "id": "64259c2a-d7b8-40b3-8164-9255f7c74f4e",
   "metadata": {},
   "outputs": [],
   "source": [
    "//Method called gethealth that takes health as an argument. \n",
    "    public static String getHealth(int health) {\n",
    "      //Defines a new array with descriptive statuses for the health status of the animal. \n",
    "        String[] descriptions = {\"excellent\", \"good\", \"fair\", \"poor\", \"very poor\"};\n",
    "\n",
    "      //Depending on the integer level of the health it assigns one of these health statuses to the animal. \n",
    "        if (health >= 50) {\n",
    "            return descriptions[0];\n",
    "        } else if (health >= 40) {\n",
    "            return descriptions[1];\n",
    "        } else if (health >= 30) {\n",
    "            return descriptions[2];\n",
    "        } else if (health >= 20) {\n",
    "            return descriptions[3];\n",
    "        } else if (health >= 10) {\n",
    "            return descriptions[4];\n",
    "        } else if (health < 9) {\n",
    "          return descriptions[4];\n",
    "        } else {\n",
    "            return \"Invalid health value\";\n",
    "        }\n",
    "    }\n",
    "  //END GET HEALTH\n"
   ]
  },
  {
   "cell_type": "markdown",
   "id": "70facdb0-5d82-4273-b042-a31efd4016d3",
   "metadata": {},
   "source": [
    "### Testing:\n",
    "\n",
    "In order to test the gethealth method i called it with the get health statement and passed random integers into it. "
   ]
  },
  {
   "cell_type": "code",
   "execution_count": 55,
   "id": "281e042e-6929-4466-b87c-1c665ac31203",
   "metadata": {},
   "outputs": [
    {
     "data": {
      "text/plain": [
       "very poor"
      ]
     },
     "execution_count": 55,
     "metadata": {},
     "output_type": "execute_result"
    }
   ],
   "source": [
    "getHealth(10);"
   ]
  },
  {
   "cell_type": "code",
   "execution_count": 56,
   "id": "fc210df5-b5e4-4d45-8305-26c0e2163222",
   "metadata": {},
   "outputs": [
    {
     "data": {
      "text/plain": [
       "excellent"
      ]
     },
     "execution_count": 56,
     "metadata": {},
     "output_type": "execute_result"
    }
   ],
   "source": [
    "getHealth(100);"
   ]
  },
  {
   "cell_type": "markdown",
   "id": "908db459-f007-4785-9aa2-a65867a21475",
   "metadata": {},
   "source": [
    "### gethunger()\n",
    "\n",
    "#### Functionality\n",
    "\n",
    "This part of the program is also called by the main pet program. The get hunger method gets the hunger values of the pet in string format. \n",
    "\n",
    "#### Implementation \n",
    "\n",
    "Accepts the pet record as a variable. Creates a new array called string descriptions and uses if else statements to find the relevant value. "
   ]
  },
  {
   "cell_type": "code",
   "execution_count": 29,
   "id": "1a3f7fa3-1664-40a2-a256-b2aeb3d4ffbe",
   "metadata": {},
   "outputs": [],
   "source": [
    "  //Method called gethunger that takes hunger as an argument.\n",
    "    public static String getHunger(int hunger) {\n",
    "      //Defines an array with descriptive values for hunger status for the animal. \n",
    "        String[] descriptions = {\"ravenous\", \"famished\", \"hungry\", \"content\", \"full\"};\n",
    "\n",
    "      //Depending on the integer hunger value it assigns one of these hunger statuses to the animal. \n",
    "        if (hunger <= 0) {\n",
    "            return descriptions[0];\n",
    "        } else if (hunger <= 10) {\n",
    "            return descriptions[1];\n",
    "        } else if (hunger <= 20) {\n",
    "            return descriptions[2];\n",
    "        } else if (hunger <= 30) {\n",
    "            return descriptions[3];\n",
    "        } else if (hunger <= 50) {\n",
    "            return descriptions[4];\n",
    "        } else if (hunger > 51 ) {\n",
    "            return descriptions[4];\n",
    "        } else {\n",
    "            return \"Invalid hunger value\";\n",
    "        }\n",
    "    }\n",
    "  //END GET HUNGER"
   ]
  },
  {
   "cell_type": "markdown",
   "id": "dc49de88-5633-4db1-b67b-61849b6c2a0a",
   "metadata": {},
   "source": [
    "### Testing:\n",
    "\n",
    "In order to test the gethunger method i called it with the get health statement and passed random integers into it. "
   ]
  },
  {
   "cell_type": "code",
   "execution_count": 57,
   "id": "34d9ff39-1b25-49ab-81b5-c5a1608a99f9",
   "metadata": {},
   "outputs": [
    {
     "data": {
      "text/plain": [
       "full"
      ]
     },
     "execution_count": 57,
     "metadata": {},
     "output_type": "execute_result"
    }
   ],
   "source": [
    "getHunger(50);"
   ]
  },
  {
   "cell_type": "code",
   "execution_count": 58,
   "id": "109d6ff2-b20e-4234-926d-e3053e93323f",
   "metadata": {},
   "outputs": [
    {
     "data": {
      "text/plain": [
       "famished"
      ]
     },
     "execution_count": 58,
     "metadata": {},
     "output_type": "execute_result"
    }
   ],
   "source": [
    "getHunger(10);"
   ]
  },
  {
   "cell_type": "markdown",
   "id": "5fc6dfcb-8950-4d5c-8559-bfea31a69bfb",
   "metadata": {},
   "source": [
    "### gethappiness()\n",
    "\n",
    "#### Functionality\n",
    "\n",
    "This part of the program is also called by the main pet program. The get happiness method gets the happiness values of the pet in string format. \n",
    "\n",
    "#### Implementation \n",
    "\n",
    "Accepts the pet record as a variable. Creates a new array called string descriptions and uses if else statements to find the relevant value. "
   ]
  },
  {
   "cell_type": "code",
   "execution_count": 28,
   "id": "fe6bdf6e-8c01-4b8f-99f9-1cd5cd45f775",
   "metadata": {},
   "outputs": [],
   "source": [
    "  //Method called gethappiness that takes happiness as an argument.\n",
    "    public static String getHappiness(int happiness) {\n",
    "      //Defines a new array with descriptive statuses to assign to the happiness level of the animal. \n",
    "        String[] descriptions = {\"Very Distressed\", \"Depressed\", \"Upset\", \"Content\", \"Happy\"};\n",
    "\n",
    "      //Depending on the integer happiness level a descriptive status is assigned to the animal. \n",
    "        if (happiness <= 0) {\n",
    "            return descriptions[0];\n",
    "        } else if (happiness <= 10) {\n",
    "            return descriptions[1];\n",
    "        } else if (happiness <= 20) {\n",
    "            return descriptions[2];\n",
    "        } else if (happiness <= 30) {\n",
    "            return descriptions[3];\n",
    "        } else if (happiness <= 50) {\n",
    "            return descriptions[4];\n",
    "        } else if (happiness > 51) {\n",
    "          return descriptions[4];\n",
    "        } else {\n",
    "            return \"Invalid happiness value\"; \n",
    "        }\n",
    "    }\n",
    "  //END GET HAPPINESS"
   ]
  },
  {
   "cell_type": "markdown",
   "id": "ed737ea1-6d74-42c7-b0fd-855d80cd6613",
   "metadata": {},
   "source": [
    "### Testing:\n",
    "\n",
    "In order to test the gethappiness method i called it with the get health statement and passed random integers into it. "
   ]
  },
  {
   "cell_type": "code",
   "execution_count": 59,
   "id": "d852faaf-c503-42fc-a814-93e5ba9e853a",
   "metadata": {},
   "outputs": [
    {
     "data": {
      "text/plain": [
       "Very Distressed"
      ]
     },
     "execution_count": 59,
     "metadata": {},
     "output_type": "execute_result"
    }
   ],
   "source": [
    "getHappiness(0);"
   ]
  },
  {
   "cell_type": "code",
   "execution_count": 61,
   "id": "a8237e6d-e591-4044-a600-bf4a9388b21a",
   "metadata": {},
   "outputs": [
    {
     "data": {
      "text/plain": [
       "Happy"
      ]
     },
     "execution_count": 61,
     "metadata": {},
     "output_type": "execute_result"
    }
   ],
   "source": [
    "getHappiness(52);"
   ]
  },
  {
   "cell_type": "markdown",
   "id": "4cb1a0f9-165a-47c8-b892-13a3e0e1791e",
   "metadata": {},
   "source": [
    "### PetInfo()\n",
    "\n",
    "#### Functionality\n",
    "\n",
    "This part of the program is called within the main menu. The pet info option first gets the game_data.txt file, checks if the pets alive then outputs the pets statistics to the user. It also has error checking for empty file or no pet information.\n",
    "\n",
    "#### Implementation \n",
    "\n",
    "Uses try-catch statements to catch and handle the required errors specified by the JVM to run the code. Opens a new input stream to the text file and gets the saved pet info. Checks if a save file exists using if else statements. "
   ]
  },
  {
   "cell_type": "code",
   "execution_count": 74,
   "id": "743cb2a4-5f4a-4098-846c-2cd21b2e0a1c",
   "metadata": {},
   "outputs": [],
   "source": [
    "  //Method called PetInfo that is called within the main menu. \n",
    "    public static void PetInfo() {\n",
    "      //Creates a new object input stream to read the contents of the file named game data. \n",
    "      try (ObjectInputStream in = new ObjectInputStream(new FileInputStream(\"game_data.txt\"))) {\n",
    "        //Returns the contents of the file. \n",
    "          Pet pet = (Pet) in.readObject();\n",
    "\n",
    "        //Checks if the pet is alive (hasnt died the last time the game ended/quit). Outputs the attributes if pet is alive. \n",
    "          if (pet.alive) {\n",
    "              System.out.println(\"------------------------------------------------------------------------------\");\n",
    "              System.out.println(pet.name + \" | Hunger: \" + getHunger(pet.hunger) + \" | Happiness: \" + getHappiness(pet.happiness) + \" | Health: \" + getHealth(pet.health) + \" | Type: \" + pet.type);\n",
    "              System.out.println(\"------------------------------------------------------------------------------\");\n",
    "          } else {\n",
    "              System.out.println(\"------------------------------------------------------------------------------\");\n",
    "            //If the pet is not alive (the previous game ended in a game over) then the message below is output. \n",
    "              System.out.println(\"No current pet information exists\");\n",
    "          }\n",
    "\n",
    "        //If no file is found when loading the file then the message below is output. \n",
    "      } catch (FileNotFoundException e) {\n",
    "          System.out.println(\"------------------------------------------------------------------------------\");\n",
    "          System.out.println(\"No save file exists.\");\n",
    "          System.out.println(\"------------------------------------------------------------------------------\");\n",
    "        //If there is any other IO errors while loading the file then the stack trace is output for debugging. \n",
    "      } catch (IOException | ClassNotFoundException e) {\n",
    "          e.printStackTrace();\n",
    "      }\n",
    "  }\n",
    "  //END PetInfo"
   ]
  },
  {
   "cell_type": "markdown",
   "id": "d0e40ed0-7559-40ab-871b-2174245e672a",
   "metadata": {},
   "source": [
    "### Testing:\n",
    "\n",
    "In order to test this function i created a new file called ```game_data.text``` and ran the function. Because no save file exists on this system currently the program outputs no save file exists. "
   ]
  },
  {
   "cell_type": "code",
   "execution_count": 31,
   "id": "253ea9b0-53e6-481c-b5dc-cdde141ed97b",
   "metadata": {},
   "outputs": [
    {
     "name": "stdout",
     "output_type": "stream",
     "text": [
      "------------------------------------------------------------------------------\n",
      "No save file exists.\n",
      "------------------------------------------------------------------------------\n"
     ]
    }
   ],
   "source": [
    "PetInfo();"
   ]
  },
  {
   "cell_type": "markdown",
   "id": "be87a1cf-2722-4141-bc0a-f258013eea0e",
   "metadata": {},
   "source": [
    "### loadGame()\n",
    "\n",
    "#### Functionality\n",
    "\n",
    "This part of the program is called by the main menu. The function begins by opening and input stream to the game text file. If a pet exists then it will return the pet from within the file otherwise it will return null. \n",
    "\n",
    "#### Implementation \n",
    "\n",
    "Uses try-catch statements to catch and handle the required errors specified by the JVM to run the code. Opens a new input stream to the text file and gets the saved pet info. Checks if a save file exists."
   ]
  },
  {
   "cell_type": "code",
   "execution_count": 73,
   "id": "66126587-849c-47f8-bde9-0a18ca9b5c38",
   "metadata": {},
   "outputs": [],
   "source": [
    "  //Method that loads the previous pets attributes from a file. \n",
    "    public static Pet loadGame(String fileName) {\n",
    "      //Creates an object input stream which allows for the reading of file contents. \n",
    "        try (ObjectInputStream in = new ObjectInputStream(new FileInputStream(fileName))) {\n",
    "          //If a pet exists the data will be returned here. \n",
    "            return (Pet) in.readObject();\n",
    "        } catch (FileNotFoundException e) {\n",
    "          //If a pet doesnt exist then null is returned. \n",
    "            return null;\n",
    "          //This block handles other IO errors that may occur during the loading of the file. \n",
    "        } catch (IOException | ClassNotFoundException e) {\n",
    "          //Outputs the stack trace to the terminal for debugging purposes.\n",
    "            e.printStackTrace();\n",
    "            return null;\n",
    "        }\n",
    "    }\n",
    "  //END LOAD GAME. "
   ]
  },
  {
   "cell_type": "markdown",
   "id": "b704405b-e450-4076-a3f7-46916679279d",
   "metadata": {},
   "source": [
    "### Testing:\n",
    "\n",
    "For evidence of testing this function please see the ```Testing full code``` segment and find the relevant execution statement."
   ]
  },
  {
   "cell_type": "markdown",
   "id": "12878c3c-57f2-40d9-b75c-51f762ac2a97",
   "metadata": {},
   "source": [
    "### saveGame()\n",
    "\n",
    "#### Functionality\n",
    "\n",
    "This part of the program is called by the main part of the pet program. The method opens and output stream in contrast to an input stream to the text file. The file will then be overwritten with the pets information.\n",
    "\n",
    "#### Implementation \n",
    "\n",
    "Uses try-catch statements to catch and handle the required errors specified by the JVM to run the code. Opens a new output stream to the text file and overwrites the file with the pet data. "
   ]
  },
  {
   "cell_type": "code",
   "execution_count": 72,
   "id": "9d5d7a88-0fd2-48df-bb9c-ee43c090abbc",
   "metadata": {},
   "outputs": [],
   "source": [
    "  //Method that saves the pet attributes currently to a file. It accepts the pet record and the file name as variables. \n",
    "    public static void saveGame(Pet pet, String fileName) {\n",
    "\n",
    "      //Creates an object output stream which allows for the writing of data to the file. \n",
    "        try (ObjectOutputStream out = new ObjectOutputStream(new FileOutputStream(fileName))) {\n",
    "          //Writes the pet attributes to the file. \n",
    "            out.writeObject(pet);\n",
    "          //Catches any potential issues while saving the game. (eg no file present etc).\n",
    "        } catch (IOException e) {\n",
    "          //Outputs the stack trace to the terminal for debugging purposes. \n",
    "            e.printStackTrace();\n",
    "        }\n",
    "    }\n",
    "  //END SAVE GAME."
   ]
  },
  {
   "cell_type": "markdown",
   "id": "6e0eccd4-cdf1-4de7-92b1-03290d2a0dc2",
   "metadata": {},
   "source": [
    "### Testing:\n",
    "\n",
    "For evidence of testing this method please see the ``` Testing full code ``` section and find the relevant code snippet. "
   ]
  },
  {
   "cell_type": "markdown",
   "id": "5a3c5ec7-bf12-46e2-8036-0780f011d2fc",
   "metadata": {},
   "source": [
    "### createNewPet()\n",
    "\n",
    "#### Functionality\n",
    "\n",
    "This part of the program is called within the main menu. This method prompts the user for the name and species of their chosen pet before passing these variables to the record class to create a new instance of a pet record. \n",
    "\n",
    "#### Implementation \n",
    "\n",
    "Creates a new record instance of a pet. "
   ]
  },
  {
   "cell_type": "code",
   "execution_count": null,
   "id": "a34546f9-b054-4314-be60-89fe078e82be",
   "metadata": {},
   "outputs": [],
   "source": [
    "      //Defines a new method called createNewPet.\n",
    "  public static Pet createNewPet(Scanner scanner) {\n",
    "\n",
    "      // Prompts the user for the pet's name and species.\n",
    "      System.out.print(\"Please enter your pet's name: \");\n",
    "      String petName = scanner.nextLine();\n",
    "      System.out.print(\"Please enter your pet's species: \");\n",
    "      String petType = scanner.nextLine();\n",
    "      System.out.println(\"------------------------------------------------------------------------------\");\n",
    "\n",
    "      // Creates a new pet object. (acts as a constructor method for the class)\n",
    "      Pet newPet = new Pet();\n",
    "      newPet.name = petName;\n",
    "      newPet.hunger = 50;\n",
    "      newPet.happiness = 50;\n",
    "      newPet.health = 60;\n",
    "      newPet.type = petType;\n",
    "      newPet.alive = true;\n",
    "\n",
    "      return newPet; //returns the pet. \n",
    "  }\n",
    "  //END createNewPet"
   ]
  },
  {
   "cell_type": "markdown",
   "id": "1b413de6-d396-4ddf-96a2-50bac49a3524",
   "metadata": {},
   "source": [
    "### Testing:\n",
    "\n",
    "In order to test this method i called it using the createNewPet statement."
   ]
  },
  {
   "cell_type": "code",
   "execution_count": 37,
   "id": "9dbffa62-3925-4448-916d-4ea70766c144",
   "metadata": {},
   "outputs": [
    {
     "name": "stdout",
     "output_type": "stream",
     "text": [
      "Please enter your pet's name: "
     ]
    },
    {
     "name": "stdin",
     "output_type": "stream",
     "text": [
      " clark\n"
     ]
    },
    {
     "name": "stdout",
     "output_type": "stream",
     "text": [
      "Please enter your pet's species: "
     ]
    },
    {
     "name": "stdin",
     "output_type": "stream",
     "text": [
      " sarmiento\n"
     ]
    },
    {
     "name": "stdout",
     "output_type": "stream",
     "text": [
      "------------------------------------------------------------------------------\n"
     ]
    },
    {
     "data": {
      "text/plain": [
       "REPL.$JShell$12$Pet@2e96b208"
      ]
     },
     "execution_count": 37,
     "metadata": {},
     "output_type": "execute_result"
    }
   ],
   "source": [
    "createNewPet();"
   ]
  },
  {
   "cell_type": "markdown",
   "id": "43fc76ab-cb8b-454e-91d4-6e91792ed96d",
   "metadata": {},
   "source": [
    "### decreaseAttributes()\n",
    "\n",
    "#### Functionality\n",
    "\n",
    "This part of the program is called within the pet program loop. The decrease attributes method decreases the attributes of the pet naturally at the end of each loop. If the pet is very unhealthy or happy it accelerates the decrease of these variables. \n",
    "\n",
    "#### Implementation \n",
    "\n",
    "Access the pet record and uses if else statements to check if the hunger of the pet is less than 20, if so it decreases attributes at a higher rate otherwise it continues at a normal rate simulating a health animal. "
   ]
  },
  {
   "cell_type": "code",
   "execution_count": 71,
   "id": "d4b5b201-5532-4bdd-8305-f94bfcf0b703",
   "metadata": {},
   "outputs": [],
   "source": [
    " //Creates a method called decreaseAttributes.\n",
    "    public static void decreaseAttributes(Pet pet) {\n",
    "      //Checks if hunger is above or equal to 20, if so it will decrease the health by a greater value to mimic starvation.\n",
    "    if (pet.hunger <= 20) {\n",
    "        pet.hunger -= 5;\n",
    "        pet.health -= 10;\n",
    "        pet.happiness -= 5;\n",
    "    } else {\n",
    "      //If the hunger is not above 20 the health will decrease slower. \n",
    "        pet.hunger -= 5;\n",
    "        pet.health -= 5;\n",
    "        pet.happiness -= 5;\n",
    "    }\n",
    "}\n",
    "//END DECREASE ATTRIBUTES\n"
   ]
  },
  {
   "cell_type": "markdown",
   "id": "6a6dc4c1-245d-4f2a-b4c0-763859e38e22",
   "metadata": {},
   "source": [
    "### Testing:\n",
    "\n",
    "For evidence of testing this method please see the ``` Testing full code ``` section and find the relevant code snippet. "
   ]
  },
  {
   "cell_type": "markdown",
   "id": "1bd09c7d-ebfa-44c4-a861-118a90529638",
   "metadata": {},
   "source": [
    "### PrintPetStatus()\n",
    "\n",
    "#### Functionality\n",
    "\n",
    "This part of the program is called at the end of the pet program loop. It outputs the attributes of the pet to the user so they can monitor their pets condition. \n",
    "\n",
    "#### Implementation \n",
    "\n",
    "Access the pet record and outputs its attributes to the user. "
   ]
  },
  {
   "cell_type": "code",
   "execution_count": 70,
   "id": "0cadbcb1-89c5-4933-8a87-01931dfa8e8e",
   "metadata": {},
   "outputs": [],
   "source": [
    "    //Creates a new method called PrintPetStatus that takes the pet record as a argument. \n",
    "    public static void printPetStatus(Pet pet) {\n",
    "      //Outputs all the statistics of the pets to the user by getting them from the record. \n",
    "      System.out.println(\"------------------------------------------------------------------------------\");\n",
    "        System.out.println(pet.name + \" | Hunger: \" + getHunger(pet.hunger) + \" | Happiness: \" + getHappiness(pet.happiness) + \" | Health: \" + getHealth(pet.health) + \" |\");\n",
    "      System.out.println(\"------------------------------------------------------------------------------\");\n",
    "\n",
    "    }"
   ]
  },
  {
   "cell_type": "markdown",
   "id": "49acfadb-48ef-4f05-ab8c-d176e7e3fd1d",
   "metadata": {},
   "source": [
    "### Testing:\n",
    "\n",
    "For evidence of testing this method please see the ``` Testing full code ``` section and find the relevant code snippet. "
   ]
  },
  {
   "cell_type": "markdown",
   "id": "3ce2f91b-9ac1-4ff6-a65a-56b935b6f0c0",
   "metadata": {},
   "source": [
    "### PetProgram()\n",
    "\n",
    "#### Functionality\n",
    "\n",
    "The pet program is called by the main menu. It starts by asking the user if they want to load a save file or start a new game. Then once either a save file or a new pet has been created the program outputs a menu of pet interactions options for the user to select from. The program also validates the users input to ensure the invalid inputs do not crash the loop and program. Depending on the option selected for the pet a function is called to alter its attribute values. At the end of each loop the pets status is checked to see if the pet is still alive. if its not the user is notified that the game has ended. Finally the game is saved. \n",
    "\n",
    "#### Implementation \n",
    "\n",
    "Uses if else statements to check user choices and input options. Uses two while loops, one to loop through interaction options with your pet, the other to loop through validation options for user inputs. Finally If else statements check if the pet is still alive or not. "
   ]
  },
  {
   "cell_type": "code",
   "execution_count": 67,
   "id": "2cb75838-45b7-407f-a431-33cdcfab6ab6",
   "metadata": {},
   "outputs": [],
   "source": [
    "  //Creates a method called PetProgram that accepts the scanner as a argument. \n",
    "  public static void PetProgram(Scanner scanner){\n",
    "\n",
    "      System.out.println(\"------------------------------------------------------------------------------\");\n",
    "      System.out.println(\"Welcome to the Pet Game!\");\n",
    "\n",
    "    //Asks the user if they want to load an already existing save file or create a new game instance. \n",
    "      System.out.print(\"Do you want to load a save file? (Y/N): \");\n",
    "      String loadChoice = scanner.nextLine().toUpperCase();\n",
    "      System.out.println(\"------------------------------------------------------------------------------\");\n",
    "\n",
    "      Pet pet;\n",
    "\n",
    "    //Loads the game save if the user response is Y. \n",
    "      if (loadChoice.equals(\"Y\")) {\n",
    "          pet = loadGame(\"game_data.txt\");\n",
    "         //Checks if the pet is alive or doesnt exist.\n",
    "          if (pet == null || !pet.alive) {\n",
    "            //If the pet doesnt exist a new game is started. \n",
    "              System.out.println(\"No save data found or the pet is not alive. Starting a new game.\");\n",
    "              pet = createNewPet(scanner);\n",
    "          } else {\n",
    "            //Otherwise the user is welcomed back to the game. \n",
    "              System.out.println(\"Welcome back to the Pet Game!\");\n",
    "          }\n",
    "      } else {\n",
    "        //If the user response is N then a new game is started. \n",
    "          pet = createNewPet(scanner);\n",
    "      }\n",
    "\n",
    "    //Defines a while loop that runs while the pet health is above 0. \n",
    "      while (pet.health > 0) {\n",
    "        //Calls the printPet status function. \n",
    "          printPetStatus(pet);\n",
    "\n",
    "        //Calls teh decrease attributes function.\n",
    "          decreaseAttributes(pet);\n",
    "        //Prints a menu out to the user so they can interact with the pet. \n",
    "        System.out.println(\"1. Feed \" + pet.name);\n",
    "        System.out.println(\"2. Play with \" + pet.name);\n",
    "        System.out.println(\"3. Take \" + \" \" + pet.name + \" to the Vet\");\n",
    "        System.out.println(\"4. Do nothing\");\n",
    "        System.out.println(\"5. Quit\");\n",
    "        System.out.println(\"------------------------------------------------------------------------------\");\n",
    "\n",
    "\n",
    "          //Choices stores the user selection and valid input checks if the input is valid. \n",
    "          int choice = 0;\n",
    "          boolean validInput = false;\n",
    "\n",
    "        // While Loop to validate player's input which continues while the input is not valid. \n",
    "          while (!validInput) {\n",
    "              System.out.print(\"Enter your choice: \");\n",
    "              if (scanner.hasNextInt()) {\n",
    "                //Reads the player input. If its true it sets valid input to true and the loop ends.\n",
    "                  choice = scanner.nextInt();\n",
    "                  if (choice >= 1 && choice <= 5) {\n",
    "                      validInput = true;\n",
    "                  } else {\n",
    "                    //If there is an invalid input it will prompt the user to re-enter the number.\n",
    "                      System.out.println(\"Invalid choice. Please enter a number between 1 and 5.\");\n",
    "                  }\n",
    "              } else {\n",
    "                  System.out.println(\"Invalid input. Please enter a number.\");\n",
    "                  scanner.next();\n",
    "              }\n",
    "          }\n",
    "          scanner.nextLine();\n",
    "          System.out.println(\"------------------------------------------------------------------------------\");\n",
    "\n",
    "\n",
    "        //Uses decision statements to call the functions that manipulate the pet statistics. \n",
    "          if (choice == 1) {\n",
    "              feedPet(pet);\n",
    "          } else if (choice == 2) {\n",
    "              PlayPet(pet);\n",
    "          } else if (choice == 3) {\n",
    "              VetPet(pet);\n",
    "          } else if (choice == 4) {\n",
    "              pet.hunger -= 5;\n",
    "              pet.health -= 5;\n",
    "              pet.happiness -= 5;\n",
    "          } else if (choice == 5) {\n",
    "            // Exits the game loop and saves the game if the quit option is selected. \n",
    "              System.out.println(\"Thanks for Playing\");\n",
    "              saveGame(pet, \"game_data.txt\");\n",
    "              System.out.println(\"Game saved\");\n",
    "              break;\n",
    "          } else {\n",
    "              System.out.println(\"Invalid choice\");\n",
    "          }\n",
    "\n",
    "          // Automatically saves the game at the end of each round.\n",
    "          saveGame(pet, \"game_data.txt\");\n",
    "\n",
    "        ////Checks if the pets hunger is below or equal to 0 and outputs the relevant game over message. \n",
    "          if (pet.health <= 0) {\n",
    "              System.out.println(\"GAME OVER - \" + pet.name + \" the \" + pet.type + \" has passed away.\");\n",
    "              pet.alive = false;\n",
    "              saveGame(pet, \"game_data.txt\");\n",
    "            //Checks if the pets happiness is below or equal to 0 and outputs the relevant game over message. \n",
    "          } else if (pet.happiness <= 0) {\n",
    "              System.out.println(pet.name + \" is too sad and has run away.\");\n",
    "              pet.alive = false;\n",
    "              saveGame(pet, \"game_data.txt\");\n",
    "          }\n",
    "      }\n",
    "\n",
    "      // Automatically save the game at the end of the game.\n",
    "      saveGame(pet, \"game_data.txt\");\n",
    "\n",
    "  }\n",
    "//END PET PROGRAM"
   ]
  },
  {
   "cell_type": "markdown",
   "id": "aceeb15b-7c6b-4c9e-81de-e26b005f11c4",
   "metadata": {},
   "source": [
    "### Testing:\n",
    "\n",
    "For evidence of testing this method please see the ``` Testing full code section ``` and find the relevant code segment."
   ]
  },
  {
   "cell_type": "markdown",
   "id": "76d10147-4c2c-40ba-abab-00043ac0e9de",
   "metadata": {},
   "source": [
    "### CreateInstructions()\n",
    "\n",
    "#### Functionality\n",
    "\n",
    "This part of the program is called in the main menu whenever a user requests the game instructions. The method creates a new array called string to hold all of the instructions for the user.  \n",
    "\n",
    "#### Implementation \n",
    "\n",
    "Uses array methods to create an array called String which holds all the instructions of the game inside of it."
   ]
  },
  {
   "cell_type": "code",
   "execution_count": 17,
   "id": "4aa1b171-828e-4715-a405-fe9de5ae0e97",
   "metadata": {},
   "outputs": [],
   "source": [
    "   // Defines a method that returns a String array that contains instructions for the program.  \n",
    "      public static String[] createInstructions() {\n",
    "        //Creates a new array and defines its contents.  \n",
    "          return new String[] {\n",
    "              \"1. Your pet starts with predetermined attributes: Hunger, Health, and Happiness\",\n",
    "              \"2. These attributes will naturally decrease each round\",\n",
    "              \"3. Feeding your pet will Boost Hunger and Happiness.\",\n",
    "              \"4. Playing with your pet will increase Hunger and increase Happiness\",\n",
    "              \"5. Taking your pet to the Vet will increases your pet's Health.\",\n",
    "              \"6. If the Health or Happiness of your pet reach 0, the game ends.\",\n",
    "              \"7. Quitting the game will Save and exit the game so you can load it at another time.\"\n",
    "          };\n",
    "      }\n",
    "  //END createInstructions"
   ]
  },
  {
   "cell_type": "markdown",
   "id": "0f575457-ecb0-47cb-80f8-a4cef322b3dd",
   "metadata": {},
   "source": [
    "### Testing:\n",
    "\n",
    "In order to test the create instructions method i called the create instructions statement and attached an String array assignment statement on it to collect the array created. "
   ]
  },
  {
   "cell_type": "code",
   "execution_count": 21,
   "id": "8e23a57a-97e8-4d05-983c-ca8d8c339434",
   "metadata": {},
   "outputs": [],
   "source": [
    "String[] instructionsArray = createInstructions();"
   ]
  },
  {
   "cell_type": "markdown",
   "id": "55d53c28-54e8-4cb3-993f-4cae8fa29f24",
   "metadata": {},
   "source": [
    "### Instructions()\n",
    "\n",
    "#### Functionality\n",
    "\n",
    "This part of the program is called within the main menu. This method is called after the instructions array has been created. It accepts the instruction array and loops over it outputting its contents to the user.\n",
    "\n",
    "#### Implementation \n",
    "\n",
    "Uses a for loop and accepts the string array as a variable to output the instructions to the user. "
   ]
  },
  {
   "cell_type": "code",
   "execution_count": 23,
   "id": "fdfb1de7-00b9-465c-a662-b8ea29b39754",
   "metadata": {},
   "outputs": [],
   "source": [
    "      //Method called instructions which accepts an array as an argument. \n",
    "      public static void Instructions(String[] instructions) {\n",
    "          System.out.println(\"------------------------------------------------------------------------------\");\n",
    "\n",
    "          //Uses a for loop to cycle through the array contents and output them to the user. \n",
    "          for (String instruction : instructions) {\n",
    "              System.out.println(instruction);\n",
    "          }\n",
    "\n",
    "      }\n",
    "  //END Instructions"
   ]
  },
  {
   "cell_type": "markdown",
   "id": "65bbaee5-120f-4983-bd70-f98392c19413",
   "metadata": {},
   "source": [
    "### Testing:\n",
    "\n",
    "In order to test the instructions method i called it using the instructions statement passing the array to the function to it. "
   ]
  },
  {
   "cell_type": "code",
   "execution_count": 24,
   "id": "13e6d044-c058-4784-825c-f76a51ea3acc",
   "metadata": {},
   "outputs": [
    {
     "name": "stdout",
     "output_type": "stream",
     "text": [
      "------------------------------------------------------------------------------\n",
      "1. Your pet starts with predetermined attributes: Hunger, Health, and Happiness\n",
      "2. These attributes will naturally decrease each round\n",
      "3. Feeding your pet will Boost Hunger and Happiness.\n",
      "4. Playing with your pet will increase Hunger and increase Happiness\n",
      "5. Taking your pet to the Vet will increases your pet's Health.\n",
      "6. If the Health or Happiness of your pet reach 0, the game ends.\n",
      "7. Quitting the game will Save and exit the game so you can load it at another time.\n"
     ]
    }
   ],
   "source": [
    "Instructions(instructionsArray);"
   ]
  },
  {
   "cell_type": "markdown",
   "id": "77064343-fb0d-4623-bc34-8bfb89f00798",
   "metadata": {},
   "source": [
    "# Testing full code:"
   ]
  },
  {
   "cell_type": "code",
   "execution_count": 1,
   "id": "8d0303a1-fe14-4c29-8bf8-1f46396f5a75",
   "metadata": {},
   "outputs": [
    {
     "name": "stdout",
     "output_type": "stream",
     "text": [
      "------------------------------------------------------------------------------\n",
      "Main Menu:\n",
      "1. Play the game\n",
      "2. Instructions\n",
      "3. Current Pet Information\n",
      "4. Quit\n",
      "------------------------------------------------------------------------------\n",
      "Enter your choice: "
     ]
    },
    {
     "name": "stdin",
     "output_type": "stream",
     "text": [
      " 1\n"
     ]
    },
    {
     "name": "stdout",
     "output_type": "stream",
     "text": [
      "------------------------------------------------------------------------------\n",
      "Welcome to the Pet Game!\n",
      "Do you want to load a save file? (Y/N): "
     ]
    },
    {
     "name": "stdin",
     "output_type": "stream",
     "text": [
      " n\n"
     ]
    },
    {
     "name": "stdout",
     "output_type": "stream",
     "text": [
      "------------------------------------------------------------------------------\n",
      "Please enter your pet's name: "
     ]
    },
    {
     "name": "stdin",
     "output_type": "stream",
     "text": [
      " quack\n"
     ]
    },
    {
     "name": "stdout",
     "output_type": "stream",
     "text": [
      "Please enter your pet's species: "
     ]
    },
    {
     "name": "stdin",
     "output_type": "stream",
     "text": [
      " duck\n"
     ]
    },
    {
     "name": "stdout",
     "output_type": "stream",
     "text": [
      "------------------------------------------------------------------------------\n",
      "------------------------------------------------------------------------------\n",
      "quack | Hunger: full | Happiness: Happy | Health: excellent |\n",
      "------------------------------------------------------------------------------\n",
      "1. Feed quack\n",
      "2. Play with quack\n",
      "3. Take  quack to the Vet\n",
      "4. Do nothing\n",
      "5. Quit\n",
      "------------------------------------------------------------------------------\n",
      "Enter your choice: "
     ]
    },
    {
     "name": "stdin",
     "output_type": "stream",
     "text": [
      " 1\n"
     ]
    },
    {
     "name": "stdout",
     "output_type": "stream",
     "text": [
      "------------------------------------------------------------------------------\n",
      "quack was fed and is now full and happy!\n",
      "------------------------------------------------------------------------------\n",
      "quack | Hunger: full | Happiness: Happy | Health: excellent |\n",
      "------------------------------------------------------------------------------\n",
      "1. Feed quack\n",
      "2. Play with quack\n",
      "3. Take  quack to the Vet\n",
      "4. Do nothing\n",
      "5. Quit\n",
      "------------------------------------------------------------------------------\n",
      "Enter your choice: "
     ]
    },
    {
     "name": "stdin",
     "output_type": "stream",
     "text": [
      " 2\n"
     ]
    },
    {
     "name": "stdout",
     "output_type": "stream",
     "text": [
      "------------------------------------------------------------------------------\n",
      "you played with quack!\n",
      "------------------------------------------------------------------------------\n",
      "quack | Hunger: full | Happiness: Happy | Health: excellent |\n",
      "------------------------------------------------------------------------------\n",
      "1. Feed quack\n",
      "2. Play with quack\n",
      "3. Take  quack to the Vet\n",
      "4. Do nothing\n",
      "5. Quit\n",
      "------------------------------------------------------------------------------\n",
      "Enter your choice: "
     ]
    },
    {
     "name": "stdin",
     "output_type": "stream",
     "text": [
      " 3\n"
     ]
    },
    {
     "name": "stdout",
     "output_type": "stream",
     "text": [
      "------------------------------------------------------------------------------\n",
      "quack was cured and is now healthy!\n",
      "------------------------------------------------------------------------------\n",
      "quack | Hunger: full | Happiness: Happy | Health: excellent |\n",
      "------------------------------------------------------------------------------\n",
      "1. Feed quack\n",
      "2. Play with quack\n",
      "3. Take  quack to the Vet\n",
      "4. Do nothing\n",
      "5. Quit\n",
      "------------------------------------------------------------------------------\n",
      "Enter your choice: "
     ]
    },
    {
     "name": "stdin",
     "output_type": "stream",
     "text": [
      " 4\n"
     ]
    },
    {
     "name": "stdout",
     "output_type": "stream",
     "text": [
      "------------------------------------------------------------------------------\n",
      "------------------------------------------------------------------------------\n",
      "quack | Hunger: content | Happiness: Happy | Health: good |\n",
      "------------------------------------------------------------------------------\n",
      "1. Feed quack\n",
      "2. Play with quack\n",
      "3. Take  quack to the Vet\n",
      "4. Do nothing\n",
      "5. Quit\n",
      "------------------------------------------------------------------------------\n",
      "Enter your choice: "
     ]
    },
    {
     "name": "stdin",
     "output_type": "stream",
     "text": [
      " 5\n"
     ]
    },
    {
     "name": "stdout",
     "output_type": "stream",
     "text": [
      "------------------------------------------------------------------------------\n",
      "Thanks for Playing\n",
      "Game saved\n",
      "------------------------------------------------------------------------------\n",
      "Main Menu:\n",
      "1. Play the game\n",
      "2. Instructions\n",
      "3. Current Pet Information\n",
      "4. Quit\n",
      "------------------------------------------------------------------------------\n",
      "Enter your choice: "
     ]
    },
    {
     "name": "stdin",
     "output_type": "stream",
     "text": [
      " 2\n"
     ]
    },
    {
     "name": "stdout",
     "output_type": "stream",
     "text": [
      "------------------------------------------------------------------------------\n",
      "1. Your pet starts with predetermined attributes: Hunger, Health, and Happiness\n",
      "2. These attributes will naturally decrease each round\n",
      "3. Feeding your pet will Boost Hunger and Happiness.\n",
      "4. Playing with your pet will increase Hunger and increase Happiness\n",
      "5. Taking your pet to the Vet will increases your pet's Health.\n",
      "6. If the Health or Happiness of your pet reach 0, the game ends.\n",
      "7. Quitting the game will Save and exit the game so you can load it at another time.\n",
      "------------------------------------------------------------------------------\n",
      "Main Menu:\n",
      "1. Play the game\n",
      "2. Instructions\n",
      "3. Current Pet Information\n",
      "4. Quit\n",
      "------------------------------------------------------------------------------\n",
      "Enter your choice: "
     ]
    },
    {
     "name": "stdin",
     "output_type": "stream",
     "text": [
      " 3\n"
     ]
    },
    {
     "name": "stdout",
     "output_type": "stream",
     "text": [
      "------------------------------------------------------------------------------\n",
      "quack | Hunger: hungry | Happiness: Content | Health: good | Type: duck\n",
      "------------------------------------------------------------------------------\n",
      "------------------------------------------------------------------------------\n",
      "Main Menu:\n",
      "1. Play the game\n",
      "2. Instructions\n",
      "3. Current Pet Information\n",
      "4. Quit\n",
      "------------------------------------------------------------------------------\n",
      "Enter your choice: "
     ]
    },
    {
     "name": "stdin",
     "output_type": "stream",
     "text": [
      " 1\n"
     ]
    },
    {
     "name": "stdout",
     "output_type": "stream",
     "text": [
      "------------------------------------------------------------------------------\n",
      "Welcome to the Pet Game!\n",
      "Do you want to load a save file? (Y/N): "
     ]
    },
    {
     "name": "stdin",
     "output_type": "stream",
     "text": [
      " Y\n"
     ]
    },
    {
     "name": "stdout",
     "output_type": "stream",
     "text": [
      "------------------------------------------------------------------------------\n",
      "Welcome back to the Pet Game!\n",
      "------------------------------------------------------------------------------\n",
      "quack | Hunger: hungry | Happiness: Content | Health: good |\n",
      "------------------------------------------------------------------------------\n",
      "1. Feed quack\n",
      "2. Play with quack\n",
      "3. Take  quack to the Vet\n",
      "4. Do nothing\n",
      "5. Quit\n",
      "------------------------------------------------------------------------------\n",
      "Enter your choice: "
     ]
    },
    {
     "name": "stdin",
     "output_type": "stream",
     "text": [
      " 5\n"
     ]
    },
    {
     "name": "stdout",
     "output_type": "stream",
     "text": [
      "------------------------------------------------------------------------------\n",
      "Thanks for Playing\n",
      "Game saved\n",
      "------------------------------------------------------------------------------\n",
      "Main Menu:\n",
      "1. Play the game\n",
      "2. Instructions\n",
      "3. Current Pet Information\n",
      "4. Quit\n",
      "------------------------------------------------------------------------------\n",
      "Enter your choice: "
     ]
    },
    {
     "name": "stdin",
     "output_type": "stream",
     "text": [
      " 5\n"
     ]
    },
    {
     "name": "stdout",
     "output_type": "stream",
     "text": [
      "Invalid choice.\n",
      "------------------------------------------------------------------------------\n",
      "Main Menu:\n",
      "1. Play the game\n",
      "2. Instructions\n",
      "3. Current Pet Information\n",
      "4. Quit\n",
      "------------------------------------------------------------------------------\n",
      "Enter your choice: "
     ]
    },
    {
     "name": "stdin",
     "output_type": "stream",
     "text": [
      " 4\n"
     ]
    },
    {
     "name": "stdout",
     "output_type": "stream",
     "text": [
      "Thanks for Playing!\n"
     ]
    }
   ],
   "source": [
    "/* ***************************************\n",
    "  @author    Maks\n",
    "  @date       5 December 2023\n",
    "  @version   1\n",
    "  @StudentID: 230367485\n",
    "\n",
    "  MiniProject: A pet program that creates and allows you to look after a pet. The goal of the game is to keep the pet healthy and happy. \n",
    "\n",
    "****************************************/\n",
    "\n",
    "\n",
    "import java.io.*; //imports all features from java.io (including serializable).\n",
    "import java.util.Scanner; //Imports the scanner functionality.\n",
    "\n",
    "\n",
    "//Creates a Record  class named Pet. The class implements serializable in order for it to be saved to a file and loaded.\n",
    "class Pet implements Serializable {\n",
    "  // The Pet class implements the Serializable interface, which allows its attributes to be serialized.\n",
    "    private static final long serialVersionUID = 1L;\n",
    "\n",
    "    //Defines variables to store the pet attributes.\n",
    "    String name;\n",
    "    int hunger;\n",
    "    int health;\n",
    "    int happiness;\n",
    "    String type;\n",
    "    boolean alive;\n",
    "\n",
    "  //Constructor method to create a new Pet object. \n",
    "    public Pet(String name, int hunger, int happiness, String type, boolean alive) {\n",
    "        this.name = name;\n",
    "        this.hunger = hunger;\n",
    "        this.happiness = happiness;\n",
    "        this.type = type;\n",
    "        this.health = 60;\n",
    "        this.alive = alive;\n",
    "    }\n",
    "}\n",
    "//END Pet Record.\n",
    "\n",
    "//Converted the main method from a class into a standard method so it can run within Jhub for te\n",
    "    public static void main() {\n",
    "\n",
    "      //Creates a new scanner object and sets the boolean value of quit to false. \n",
    "      Scanner scanner = new Scanner(System.in);\n",
    "          boolean quit = false;\n",
    "\n",
    "          \n",
    "          //Defines a while loop that loops a main menu for the user to interact with aslong as quit is not selected. \n",
    "          while (!quit) {\n",
    "              System.out.println(\"------------------------------------------------------------------------------\");\n",
    "              System.out.println(\"Main Menu:\");\n",
    "              System.out.println(\"1. Play the game\");\n",
    "              System.out.println(\"2. Instructions\");\n",
    "              System.out.println(\"3. Current Pet Information\");\n",
    "              System.out.println(\"4. Quit\");\n",
    "              System.out.println(\"------------------------------------------------------------------------------\");\n",
    "\n",
    "              System.out.print(\"Enter your choice: \");\n",
    "              int choice = scanner.nextInt();\n",
    "              scanner.nextLine();\n",
    "\n",
    "\n",
    "            //Uses decision statements (IF ELSE) to find which option the user has selected. \n",
    "              if (choice == 1) {\n",
    "                //Calls the petprogram and passes the scanner as a variable.\n",
    "                  PetProgram(scanner);\n",
    "              } else if (choice == 2) {\n",
    "                //Calls a function to create an instruction array and another to display the created array. \n",
    "                String[] instructionsArray = createInstructions();\n",
    "                Instructions(instructionsArray);\n",
    "              } else if (choice == 3){\n",
    "                //Calls the PetInfo function. \n",
    "                PetInfo();\n",
    "              } else if (choice == 4) {\n",
    "                //Sets the boolean value to true ending the game. \n",
    "                  quit = true;\n",
    "                  System.out.println(\"Thanks for Playing!\");\n",
    "              } else {\n",
    "                  System.out.println(\"Invalid choice.\");\n",
    "              }\n",
    "          }\n",
    "          //closes the scanner \n",
    "          scanner.close();\n",
    "      }\n",
    "  //END MAIN\n",
    "\n",
    "\n",
    "      // Defines a method that returns a String array that contains instructions for the program.  \n",
    "      public static String[] createInstructions() {\n",
    "        //Creates a new array and defines its contents.  \n",
    "          return new String[] {\n",
    "              \"1. Your pet starts with predetermined attributes: Hunger, Health, and Happiness\",\n",
    "              \"2. These attributes will naturally decrease each round\",\n",
    "              \"3. Feeding your pet will Boost Hunger and Happiness.\",\n",
    "              \"4. Playing with your pet will increase Hunger and increase Happiness\",\n",
    "              \"5. Taking your pet to the Vet will increases your pet's Health.\",\n",
    "              \"6. If the Health or Happiness of your pet reach 0, the game ends.\",\n",
    "              \"7. Quitting the game will Save and exit the game so you can load it at another time.\"\n",
    "          };\n",
    "      }\n",
    "  //END createInstructions\n",
    "\n",
    "\n",
    "      //Method called instructions which accepts an array as an argument. \n",
    "      public static void Instructions(String[] instructions) {\n",
    "          System.out.println(\"------------------------------------------------------------------------------\");\n",
    "\n",
    "          //Uses a for loop to cycle through the array contents and output them to the user. \n",
    "          for (String instruction : instructions) {\n",
    "              System.out.println(instruction);\n",
    "          }\n",
    "\n",
    "      }\n",
    "  //END Instructions\n",
    "\n",
    "      \n",
    "\n",
    "  //Creates a method called PetProgram that accepts the scanner as a argument. \n",
    "  public static void PetProgram(Scanner scanner){\n",
    "\n",
    "      System.out.println(\"------------------------------------------------------------------------------\");\n",
    "      System.out.println(\"Welcome to the Pet Game!\");\n",
    "\n",
    "    //Asks the user if they want to load an already existing save file or create a new game instance. \n",
    "      System.out.print(\"Do you want to load a save file? (Y/N): \");\n",
    "      String loadChoice = scanner.nextLine().toUpperCase();\n",
    "      System.out.println(\"------------------------------------------------------------------------------\");\n",
    "\n",
    "      Pet pet;\n",
    "\n",
    "    //Loads the game save if the user response is Y. \n",
    "      if (loadChoice.equals(\"Y\")) {\n",
    "          pet = loadGame(\"game_data.txt\");\n",
    "         //Checks if the pet is alive or doesnt exist.\n",
    "          if (pet == null || !pet.alive) {\n",
    "            //If the pet doesnt exist a new game is started. \n",
    "              System.out.println(\"No save data found or the pet is not alive. Starting a new game.\");\n",
    "              pet = createNewPet(scanner);\n",
    "          } else {\n",
    "            //Otherwise the user is welcomed back to the game. \n",
    "              System.out.println(\"Welcome back to the Pet Game!\");\n",
    "          }\n",
    "      } else {\n",
    "        //If the user response is N then a new game is started. \n",
    "          pet = createNewPet(scanner);\n",
    "      }\n",
    "\n",
    "    //Defines a while loop that runs while the pet health is above 0. \n",
    "      while (pet.health > 0) {\n",
    "        //Calls the printPet status function. \n",
    "          printPetStatus(pet);\n",
    "\n",
    "        //Calls teh decrease attributes function.\n",
    "          decreaseAttributes(pet);\n",
    "        //Prints a menu out to the user so they can interact with the pet. \n",
    "        System.out.println(\"1. Feed \" + pet.name);\n",
    "        System.out.println(\"2. Play with \" + pet.name);\n",
    "        System.out.println(\"3. Take \" + \" \" + pet.name + \" to the Vet\");\n",
    "        System.out.println(\"4. Do nothing\");\n",
    "        System.out.println(\"5. Quit\");\n",
    "        System.out.println(\"------------------------------------------------------------------------------\");\n",
    "\n",
    "\n",
    "          //Choices stores the user selection and valid input checks if the input is valid. \n",
    "          int choice = 0;\n",
    "          boolean validInput = false;\n",
    "\n",
    "        // While Loop to validate player's input which continues while the input is not valid. \n",
    "          while (!validInput) {\n",
    "              System.out.print(\"Enter your choice: \");\n",
    "              if (scanner.hasNextInt()) {\n",
    "                //Reads the player input. If its true it sets valid input to true and the loop ends.\n",
    "                  choice = scanner.nextInt();\n",
    "                  if (choice >= 1 && choice <= 5) {\n",
    "                      validInput = true;\n",
    "                  } else {\n",
    "                    //If there is an invalid input it will prompt the user to re-enter the number.\n",
    "                      System.out.println(\"Invalid choice. Please enter a number between 1 and 5.\");\n",
    "                  }\n",
    "              } else {\n",
    "                  System.out.println(\"Invalid input. Please enter a number.\");\n",
    "                  scanner.next();\n",
    "              }\n",
    "          }\n",
    "          scanner.nextLine();\n",
    "          System.out.println(\"------------------------------------------------------------------------------\");\n",
    "\n",
    "\n",
    "        //Uses decision statements to call the functions that manipulate the pet statistics. \n",
    "          if (choice == 1) {\n",
    "              feedPet(pet);\n",
    "          } else if (choice == 2) {\n",
    "              PlayPet(pet);\n",
    "          } else if (choice == 3) {\n",
    "              VetPet(pet);\n",
    "          } else if (choice == 4) {\n",
    "              pet.hunger -= 5;\n",
    "              pet.health -= 5;\n",
    "              pet.happiness -= 5;\n",
    "          } else if (choice == 5) {\n",
    "            // Exits the game loop and saves the game if the quit option is selected. \n",
    "              System.out.println(\"Thanks for Playing\");\n",
    "              saveGame(pet, \"game_data.txt\");\n",
    "              System.out.println(\"Game saved\");\n",
    "              break;\n",
    "          } else {\n",
    "              System.out.println(\"Invalid choice\");\n",
    "          }\n",
    "\n",
    "          // Automatically saves the game at the end of each round.\n",
    "          saveGame(pet, \"game_data.txt\");\n",
    "\n",
    "        ////Checks if the pets hunger is below or equal to 0 and outputs the relevant game over message. \n",
    "          if (pet.health <= 0) {\n",
    "              System.out.println(\"GAME OVER - \" + pet.name + \" the \" + pet.type + \" has passed away.\");\n",
    "              pet.alive = false;\n",
    "              saveGame(pet, \"game_data.txt\");\n",
    "            //Checks if the pets happiness is below or equal to 0 and outputs the relevant game over message. \n",
    "          } else if (pet.happiness <= 0) {\n",
    "              System.out.println(pet.name + \" is too sad and has run away.\");\n",
    "              pet.alive = false;\n",
    "              saveGame(pet, \"game_data.txt\");\n",
    "          }\n",
    "      }\n",
    "\n",
    "      // Automatically save the game at the end of the game.\n",
    "      saveGame(pet, \"game_data.txt\");\n",
    "\n",
    "  }\n",
    "//END PET PROGRAM\n",
    "  \n",
    "    //Creates a new method called PrintPetStatus that takes the pet record as a argument. \n",
    "    public static void printPetStatus(Pet pet) {\n",
    "      //Outputs all the statistics of the pets to the user by getting them from the record. \n",
    "      System.out.println(\"------------------------------------------------------------------------------\");\n",
    "        System.out.println(pet.name + \" | Hunger: \" + getHunger(pet.hunger) + \" | Happiness: \" + getHappiness(pet.happiness) + \" | Health: \" + getHealth(pet.health) + \" |\");\n",
    "      System.out.println(\"------------------------------------------------------------------------------\");\n",
    "\n",
    "    }\n",
    "\n",
    "//END PRINTPETSTATUS\n",
    "\n",
    "  //Creates a method called decreaseAttributes.\n",
    "    public static void decreaseAttributes(Pet pet) {\n",
    "      //Checks if hunger is above or equal to 20, if so it will decrease the health by a greater value to mimic starvation.\n",
    "    if (pet.hunger <= 20) {\n",
    "        pet.hunger -= 5;\n",
    "        pet.health -= 10;\n",
    "        pet.happiness -= 5;\n",
    "    } else {\n",
    "      //If the hunger is not above 20 the health will decrease slower. \n",
    "        pet.hunger -= 5;\n",
    "        pet.health -= 5;\n",
    "        pet.happiness -= 5;\n",
    "    }\n",
    "}\n",
    "//END DECREASE ATTRIBUTES\n",
    "\n",
    "\n",
    "  //Defines a new method called createNewPet.\n",
    "      //Defines a new method called createNewPet.\n",
    "  public static Pet createNewPet(Scanner scanner) {\n",
    "\n",
    "      // Prompts the user for the pet's name and species.\n",
    "      System.out.print(\"Please enter your pet's name: \");\n",
    "      String petName = scanner.nextLine();\n",
    "      System.out.print(\"Please enter your pet's species: \");\n",
    "      String petType = scanner.nextLine();\n",
    "      System.out.println(\"------------------------------------------------------------------------------\");\n",
    "\n",
    "      // Creates a new pet object. (acts as a constructor method for the class)\n",
    "      Pet newPet = new Pet();\n",
    "      newPet.name = petName;\n",
    "      newPet.hunger = 50;\n",
    "      newPet.happiness = 50;\n",
    "      newPet.health = 60;\n",
    "      newPet.type = petType;\n",
    "      newPet.alive = true;\n",
    "\n",
    "      return newPet; //returns the pet. \n",
    "  }\n",
    "  //END createNewPet\n",
    "\n",
    "  //Method that saves the pet attributes currently to a file. It accepts the pet record and the file name as variables. \n",
    "    public static void saveGame(Pet pet, String fileName) {\n",
    "\n",
    "      //Creates an object output stream which allows for the writing of data to the file. \n",
    "        try (ObjectOutputStream out = new ObjectOutputStream(new FileOutputStream(fileName))) {\n",
    "          //Writes the pet attributes to the file. \n",
    "            out.writeObject(pet);\n",
    "          //Catches any potential issues while saving the game. (eg no file present etc).\n",
    "        } catch (IOException e) {\n",
    "          //Outputs the stack trace to the terminal for debugging purposes. \n",
    "            e.printStackTrace();\n",
    "        }\n",
    "    }\n",
    "  //END SAVE GAME.\n",
    "\n",
    "\n",
    "  //Method that loads the previous pets attributes from a file. \n",
    "    public static Pet loadGame(String fileName) {\n",
    "      //Creates an object input stream which allows for the reading of file contents. \n",
    "        try (ObjectInputStream in = new ObjectInputStream(new FileInputStream(fileName))) {\n",
    "          //If a pet exists the data will be returned here. \n",
    "            return (Pet) in.readObject();\n",
    "        } catch (FileNotFoundException e) {\n",
    "          //If a pet doesnt exist then null is returned. \n",
    "            return null;\n",
    "          //This block handles other IO errors that may occur during the loading of the file. \n",
    "        } catch (IOException | ClassNotFoundException e) {\n",
    "          //Outputs the stack trace to the terminal for debugging purposes.\n",
    "            e.printStackTrace();\n",
    "            return null;\n",
    "        }\n",
    "    }\n",
    "  //END LOAD GAME. \n",
    "\n",
    "  //Method called PetInfo that is called within the main menu. \n",
    "    public static void PetInfo() {\n",
    "      //Creates a new object input stream to read the contents of the file named game data. \n",
    "      try (ObjectInputStream in = new ObjectInputStream(new FileInputStream(\"game_data.txt\"))) {\n",
    "        //Returns the contents of the file. \n",
    "          Pet pet = (Pet) in.readObject();\n",
    "\n",
    "        //Checks if the pet is alive (hasnt died the last time the game ended/quit). Outputs the attributes if pet is alive. \n",
    "          if (pet.alive) {\n",
    "              System.out.println(\"------------------------------------------------------------------------------\");\n",
    "              System.out.println(pet.name + \" | Hunger: \" + getHunger(pet.hunger) + \" | Happiness: \" + getHappiness(pet.happiness) + \" | Health: \" + getHealth(pet.health) + \" | Type: \" + pet.type);\n",
    "              System.out.println(\"------------------------------------------------------------------------------\");\n",
    "          } else {\n",
    "              System.out.println(\"------------------------------------------------------------------------------\");\n",
    "            //If the pet is not alive (the previous game ended in a game over) then the message below is output. \n",
    "              System.out.println(\"No current pet information exists\");\n",
    "          }\n",
    "\n",
    "        //If no file is found when loading the file then the message below is output. \n",
    "      } catch (FileNotFoundException e) {\n",
    "          System.out.println(\"------------------------------------------------------------------------------\");\n",
    "          System.out.println(\"No save file exists.\");\n",
    "          System.out.println(\"------------------------------------------------------------------------------\");\n",
    "        //If there is any other IO errors while loading the file then the stack trace is output for debugging. \n",
    "      } catch (IOException | ClassNotFoundException e) {\n",
    "          e.printStackTrace();\n",
    "      }\n",
    "  }\n",
    "  //END PetInfo\n",
    "\n",
    "\n",
    "//Method called gethealth that takes health as an argument. \n",
    "    public static String getHealth(int health) {\n",
    "      //Defines a new array with descriptive statuses for the health status of the animal. \n",
    "        String[] descriptions = {\"excellent\", \"good\", \"fair\", \"poor\", \"very poor\"};\n",
    "\n",
    "      //Depending on the integer level of the health it assigns one of these health statuses to the animal. \n",
    "        if (health >= 50) {\n",
    "            return descriptions[0];\n",
    "        } else if (health >= 40) {\n",
    "            return descriptions[1];\n",
    "        } else if (health >= 30) {\n",
    "            return descriptions[2];\n",
    "        } else if (health >= 20) {\n",
    "            return descriptions[3];\n",
    "        } else if (health >= 10) {\n",
    "            return descriptions[4];\n",
    "        } else if (health < 9) {\n",
    "          return descriptions[4];\n",
    "        } else {\n",
    "            return \"Invalid health value\";\n",
    "        }\n",
    "    }\n",
    "  //END GET HEALTH\n",
    "\n",
    "  //Method called gethunger that takes hunger as an argument.\n",
    "    public static String getHunger(int hunger) {\n",
    "      //Defines an array with descriptive values for hunger status for the animal. \n",
    "        String[] descriptions = {\"ravenous\", \"famished\", \"hungry\", \"content\", \"full\"};\n",
    "\n",
    "      //Depending on the integer hunger value it assigns one of these hunger statuses to the animal. \n",
    "        if (hunger <= 0) {\n",
    "            return descriptions[0];\n",
    "        } else if (hunger <= 10) {\n",
    "            return descriptions[1];\n",
    "        } else if (hunger <= 20) {\n",
    "            return descriptions[2];\n",
    "        } else if (hunger <= 30) {\n",
    "            return descriptions[3];\n",
    "        } else if (hunger <= 50) {\n",
    "            return descriptions[4];\n",
    "        } else if (hunger > 51 ) {\n",
    "            return descriptions[4];\n",
    "        } else {\n",
    "            return \"Invalid hunger value\";\n",
    "        }\n",
    "    }\n",
    "  //END GET HUNGER\n",
    "\n",
    "  //Method called gethappiness that takes happiness as an argument.\n",
    "    public static String getHappiness(int happiness) {\n",
    "      //Defines a new array with descriptive statuses to assign to the happiness level of the animal. \n",
    "        String[] descriptions = {\"Very Distressed\", \"Depressed\", \"Upset\", \"Content\", \"Happy\"};\n",
    "\n",
    "      //Depending on the integer happiness level a descriptive status is assigned to the animal. \n",
    "        if (happiness <= 0) {\n",
    "            return descriptions[0];\n",
    "        } else if (happiness <= 10) {\n",
    "            return descriptions[1];\n",
    "        } else if (happiness <= 20) {\n",
    "            return descriptions[2];\n",
    "        } else if (happiness <= 30) {\n",
    "            return descriptions[3];\n",
    "        } else if (happiness <= 50) {\n",
    "            return descriptions[4];\n",
    "        } else if (happiness > 51) {\n",
    "          return descriptions[4];\n",
    "        } else {\n",
    "            return \"Invalid happiness value\"; \n",
    "        }\n",
    "    }\n",
    "  //END GET HAPPINESS\n",
    "\n",
    "  //Method called VetPet.\n",
    "    public static void VetPet(Pet pet) {\n",
    "      //Adds 10 health to the pets health stored in record. \n",
    "        pet.health += 10;\n",
    "      //Outputs to the user that the pet has been cured and is now healthier. \n",
    "      System.out.println(pet.name + \" \" + \"was cured and is now healthy!\");\n",
    "            }\n",
    "\n",
    "  //END VETPET\n",
    "\n",
    "  //Method called feedPet\n",
    "    public static void feedPet(Pet pet) {\n",
    "      //Adds 10 hunger and 10 happiness to the pet attributes. \n",
    "        pet.hunger += 10;\n",
    "        pet.happiness += 5;\n",
    "      //Outputs to the user that the pet has been fed. \n",
    "        System.out.println(pet.name + \" \" + \"was fed and is now full and happy!\");\n",
    "    }\n",
    "//END FEEDPET\n",
    "\n",
    "  //Method called PlayPet. \n",
    "    public static void PlayPet(Pet pet) {\n",
    "      //Checks if the pet health is above 10, if so then it takes away hunger and increases happiness.\n",
    "        if (pet.health >= 10) {\n",
    "            pet.hunger -= 10;\n",
    "            pet.happiness += 5;\n",
    "          //Notifies the user that they have played with the pet. \n",
    "            System.out.println(\"you played with\" + \" \" + pet.name + \"!\");\n",
    "        } else {\n",
    "          //If the pet is below 10 health it is classified as too unwell to play and so must be taken to a vet first. \n",
    "            System.out.println(pet.name + \" is too unwell to go and play.\");\n",
    "        }\n",
    "    }\n",
    "//END PLAYPET. \n",
    "\n",
    "main(); //Calls the main method. "
   ]
  },
  {
   "cell_type": "markdown",
   "id": "211dfad8-046b-4c38-a838-07a1af9552ac",
   "metadata": {},
   "source": [
    "# Final code executable:"
   ]
  },
  {
   "cell_type": "code",
   "execution_count": null,
   "id": "150b9ba7-de11-4624-886f-2a4ce0fbeba7",
   "metadata": {},
   "outputs": [],
   "source": [
    "import java.io.*; //imports all features from java.io (including serializable).\n",
    "import java.util.Scanner; //Imports the scanner functionality.\n",
    "\n",
    "\n",
    "//Creates a Record  class named Pet. The class implements serializable in order for it to be saved to a file and loaded.\n",
    "class Pet implements Serializable {\n",
    "  // The Pet class implements the Serializable interface, which allows its attributes to be serialized.\n",
    "    private static final long serialVersionUID = 1L;\n",
    "\n",
    "    //Defines variables to store the pet attributes.\n",
    "    String name;\n",
    "    int hunger;\n",
    "    int health;\n",
    "    int happiness;\n",
    "    String type;\n",
    "    boolean alive;\n",
    "}\n",
    "//END Pet Record.\n",
    "\n",
    "//Starting point of the program.\n",
    "public class Main {\n",
    "    public static void main(String[] args) {\n",
    "\n",
    "      //Creates a new scanner object and sets the boolean value of quit to false. \n",
    "      Scanner scanner = new Scanner(System.in);\n",
    "          boolean quit = false;\n",
    "\n",
    "\n",
    "          //Defines a while loop that loops a main menu for the user to interact with aslong as quit is not selected. \n",
    "          while (!quit) {\n",
    "              System.out.println(\"------------------------------------------------------------------------------\");\n",
    "              System.out.println(\"Main Menu:\");\n",
    "              System.out.println(\"1. Play the game\");\n",
    "              System.out.println(\"2. Instructions\");\n",
    "              System.out.println(\"3. Current Pet Information\");\n",
    "              System.out.println(\"4. Quit\");\n",
    "              System.out.println(\"------------------------------------------------------------------------------\");\n",
    "\n",
    "              System.out.print(\"Enter your choice: \");\n",
    "              int choice = scanner.nextInt();\n",
    "              scanner.nextLine();\n",
    "\n",
    "\n",
    "            //Uses decision statements (IF ELSE) to find which option the user has selected. \n",
    "              if (choice == 1) {\n",
    "                //Calls the petprogram and passes the scanner as a variable.\n",
    "                  PetProgram(scanner);\n",
    "              } else if (choice == 2) {\n",
    "                //Calls a function to create an instruction array and another to display the created array. \n",
    "                String[] instructionsArray = createInstructions();\n",
    "                Instructions(instructionsArray);\n",
    "              } else if (choice == 3){\n",
    "                //Calls the PetInfo function. \n",
    "                PetInfo();\n",
    "              } else if (choice == 4) {\n",
    "                //Sets the boolean value to true ending the game. \n",
    "                  quit = true;\n",
    "                  System.out.println(\"Thanks for Playing!\");\n",
    "              } else {\n",
    "                  System.out.println(\"Invalid choice.\");\n",
    "              }\n",
    "          }\n",
    "          //closes the scanner \n",
    "          scanner.close();\n",
    "      }\n",
    "  //END MAIN\n",
    "\n",
    "\n",
    "      // Defines a method that returns a String array that contains instructions for the program.  \n",
    "      public static String[] createInstructions() {\n",
    "        //Creates a new array and defines its contents.  \n",
    "          return new String[] {\n",
    "              \"1. Your pet starts with predetermined attributes: Hunger, Health, and Happiness\",\n",
    "              \"2. These attributes will naturally decrease each round\",\n",
    "              \"3. Feeding your pet will Boost Hunger and Happiness.\",\n",
    "              \"4. Playing with your pet will increase Hunger and increase Happiness\",\n",
    "              \"5. Taking your pet to the Vet will increases your pet's Health.\",\n",
    "              \"6. If the Health or Happiness of your pet reach 0, the game ends.\",\n",
    "              \"7. Quitting the game will Save and exit the game so you can load it at another time.\"\n",
    "          };\n",
    "      }\n",
    "  //END createInstructions\n",
    "\n",
    "\n",
    "      //Method called instructions which accepts an array as an argument. \n",
    "      public static void Instructions(String[] instructions) {\n",
    "          System.out.println(\"------------------------------------------------------------------------------\");\n",
    "\n",
    "          //Uses a for loop to cycle through the array contents and output them to the user. \n",
    "          for (String instruction : instructions) {\n",
    "              System.out.println(instruction);\n",
    "          }\n",
    "\n",
    "      }\n",
    "  //END Instructions\n",
    "\n",
    "\n",
    "\n",
    "  //Creates a method called PetProgram that accepts the scanner as a argument. \n",
    "  public static void PetProgram(Scanner scanner){\n",
    "\n",
    "      System.out.println(\"------------------------------------------------------------------------------\");\n",
    "      System.out.println(\"Welcome to the Pet Game!\");\n",
    "\n",
    "    //Asks the user if they want to load an already existing save file or create a new game instance. \n",
    "      System.out.print(\"Do you want to load a save file? (Y/N): \");\n",
    "      String loadChoice = scanner.nextLine().toUpperCase();\n",
    "      System.out.println(\"------------------------------------------------------------------------------\");\n",
    "\n",
    "      Pet pet;\n",
    "\n",
    "    //Loads the game save if the user response is Y. \n",
    "      if (loadChoice.equals(\"Y\")) {\n",
    "          pet = loadGame(\"game_data.txt\");\n",
    "         //Checks if the pet is alive or doesnt exist.\n",
    "          if (pet == null || !pet.alive) {\n",
    "            //If the pet doesnt exist a new game is started. \n",
    "              System.out.println(\"No save data found or the pet is not alive. Starting a new game.\");\n",
    "              pet = createNewPet(scanner);\n",
    "          } else {\n",
    "            //Otherwise the user is welcomed back to the game. \n",
    "              System.out.println(\"Welcome back to the Pet Game!\");\n",
    "          }\n",
    "      } else {\n",
    "        //If the user response is N then a new game is started. \n",
    "          pet = createNewPet(scanner);\n",
    "      }\n",
    "\n",
    "    //Defines a while loop that runs while the pet health is above 0. \n",
    "      while (pet.health > 0) {\n",
    "        //Calls the printPet status function. \n",
    "          printPetStatus(pet);\n",
    "\n",
    "        //Calls teh decrease attributes function.\n",
    "          decreaseAttributes(pet);\n",
    "        //Prints a menu out to the user so they can interact with the pet. \n",
    "        System.out.println(\"1. Feed \" + pet.name);\n",
    "        System.out.println(\"2. Play with \" + pet.name);\n",
    "        System.out.println(\"3. Take \" + \" \" + pet.name + \" to the Vet\");\n",
    "        System.out.println(\"4. Do nothing\");\n",
    "        System.out.println(\"5. Quit\");\n",
    "        System.out.println(\"------------------------------------------------------------------------------\");\n",
    "\n",
    "\n",
    "          //Choices stores the user selection and valid input checks if the input is valid. \n",
    "          int choice = 0;\n",
    "          boolean validInput = false;\n",
    "\n",
    "        // While Loop to validate player's input which continues while the input is not valid. \n",
    "          while (!validInput) {\n",
    "              System.out.print(\"Enter your choice: \");\n",
    "              if (scanner.hasNextInt()) {\n",
    "                //Reads the player input. If its true it sets valid input to true and the loop ends.\n",
    "                  choice = scanner.nextInt();\n",
    "                  if (choice >= 1 && choice <= 5) {\n",
    "                      validInput = true;\n",
    "                  } else {\n",
    "                    //If there is an invalid input it will prompt the user to re-enter the number.\n",
    "                      System.out.println(\"Invalid choice. Please enter a number between 1 and 5.\");\n",
    "                  }\n",
    "              } else {\n",
    "                  System.out.println(\"Invalid input. Please enter a number.\");\n",
    "                  scanner.next();\n",
    "              }\n",
    "          }\n",
    "          scanner.nextLine();\n",
    "          System.out.println(\"------------------------------------------------------------------------------\");\n",
    "\n",
    "\n",
    "        //Uses decision statements to call the functions that manipulate the pet statistics. \n",
    "          if (choice == 1) {\n",
    "              feedPet(pet);\n",
    "          } else if (choice == 2) {\n",
    "              PlayPet(pet);\n",
    "          } else if (choice == 3) {\n",
    "              VetPet(pet);\n",
    "          } else if (choice == 4) {\n",
    "              pet.hunger -= 5;\n",
    "              pet.health -= 5;\n",
    "              pet.happiness -= 5;\n",
    "          } else if (choice == 5) {\n",
    "            // Exits the game loop and saves the game if the quit option is selected. \n",
    "              System.out.println(\"Thanks for Playing\");\n",
    "              saveGame(pet, \"game_data.txt\");\n",
    "              System.out.println(\"Game saved\");\n",
    "              break;\n",
    "          } else {\n",
    "              System.out.println(\"Invalid choice\");\n",
    "          }\n",
    "\n",
    "          // Automatically saves the game at the end of each round.\n",
    "          saveGame(pet, \"game_data.txt\");\n",
    "\n",
    "        ////Checks if the pets hunger is below or equal to 0 and outputs the relevant game over message. \n",
    "          if (pet.health <= 0) {\n",
    "              System.out.println(\"GAME OVER - \" + pet.name + \" the \" + pet.type + \" has passed away.\");\n",
    "              pet.alive = false;\n",
    "              saveGame(pet, \"game_data.txt\");\n",
    "            //Checks if the pets happiness is below or equal to 0 and outputs the relevant game over message. \n",
    "          } else if (pet.happiness <= 0) {\n",
    "              System.out.println(pet.name + \" is too sad and has run away.\");\n",
    "              pet.alive = false;\n",
    "              saveGame(pet, \"game_data.txt\");\n",
    "          }\n",
    "      }\n",
    "\n",
    "      // Automatically save the game at the end of the game.\n",
    "      saveGame(pet, \"game_data.txt\");\n",
    "\n",
    "  }\n",
    "//END PET PROGRAM\n",
    "\n",
    "    //Creates a new method called PrintPetStatus that takes the pet record as a argument. \n",
    "    public static void printPetStatus(Pet pet) {\n",
    "      //Outputs all the statistics of the pets to the user by getting them from the record. \n",
    "      System.out.println(\"------------------------------------------------------------------------------\");\n",
    "        System.out.println(pet.name + \" | Hunger: \" + getHunger(pet.hunger) + \" | Happiness: \" + getHappiness(pet.happiness) + \" | Health: \" + getHealth(pet.health) + \" |\");\n",
    "      System.out.println(\"------------------------------------------------------------------------------\");\n",
    "\n",
    "    }\n",
    "\n",
    "//END PRINTPETSTATUS\n",
    "\n",
    "  //Creates a method called decreaseAttributes.\n",
    "    public static void decreaseAttributes(Pet pet) {\n",
    "      //Checks if hunger is above or equal to 20, if so it will decrease the health by a greater value to mimic starvation.\n",
    "    if (pet.hunger <= 20) {\n",
    "        pet.hunger -= 5;\n",
    "        pet.health -= 10;\n",
    "        pet.happiness -= 5;\n",
    "    } else {\n",
    "      //If the hunger is not above 20 the health will decrease slower. \n",
    "        pet.hunger -= 5;\n",
    "        pet.health -= 5;\n",
    "        pet.happiness -= 5;\n",
    "    }\n",
    "}\n",
    "//END DECREASE ATTRIBUTES\n",
    "\n",
    "\n",
    "  //Defines a new method called createNewPet.\n",
    "  public static Pet createNewPet(Scanner scanner) {\n",
    "\n",
    "      // Prompts the user for the pet's name and species.\n",
    "      System.out.print(\"Please enter your pet's name: \");\n",
    "      String petName = scanner.nextLine();\n",
    "      System.out.print(\"Please enter your pet's species: \");\n",
    "      String petType = scanner.nextLine();\n",
    "      System.out.println(\"------------------------------------------------------------------------------\");\n",
    "\n",
    "      // Creates a new pet object. (acts as a constructor method for the class)\n",
    "      Pet newPet = new Pet();\n",
    "      newPet.name = petName;\n",
    "      newPet.hunger = 50;\n",
    "      newPet.happiness = 50;\n",
    "      newPet.health = 60;\n",
    "      newPet.type = petType;\n",
    "      newPet.alive = true;\n",
    "\n",
    "      return newPet; //returns the pet. \n",
    "  }\n",
    "//END CreateNewPet.\n",
    "\n",
    "  //Method that saves the pet attributes currently to a file. It accepts the pet record and the file name as variables. \n",
    "    public static void saveGame(Pet pet, String fileName) {\n",
    "\n",
    "      //Creates an object output stream which allows for the writing of data to the file. \n",
    "        try (ObjectOutputStream out = new ObjectOutputStream(new FileOutputStream(fileName))) {\n",
    "          //Writes the pet attributes to the file. \n",
    "            out.writeObject(pet);\n",
    "          //Catches any potential issues while saving the game. (eg no file present etc).\n",
    "        } catch (IOException e) {\n",
    "          //Outputs the stack trace to the terminal for debugging purposes. \n",
    "            e.printStackTrace();\n",
    "        }\n",
    "    }\n",
    "  //END SAVE GAME.\n",
    "\n",
    "\n",
    "  //Method that loads the previous pets attributes from a file. \n",
    "    public static Pet loadGame(String fileName) {\n",
    "      //Creates an object input stream which allows for the reading of file contents. \n",
    "        try (ObjectInputStream in = new ObjectInputStream(new FileInputStream(fileName))) {\n",
    "          //If a pet exists the data will be returned here. \n",
    "            return (Pet) in.readObject();\n",
    "        } catch (FileNotFoundException e) {\n",
    "          //If a pet doesnt exist then null is returned. \n",
    "            return null;\n",
    "          //This block handles other IO errors that may occur during the loading of the file. \n",
    "        } catch (IOException | ClassNotFoundException e) {\n",
    "          //Outputs the stack trace to the terminal for debugging purposes.\n",
    "            e.printStackTrace();\n",
    "            return null;\n",
    "        }\n",
    "    }\n",
    "  //END LOAD GAME. \n",
    "\n",
    "  //Method called PetInfo that is called within the main menu. \n",
    "    public static void PetInfo() {\n",
    "      //Creates a new object input stream to read the contents of the file named game data. \n",
    "      try (ObjectInputStream in = new ObjectInputStream(new FileInputStream(\"game_data.txt\"))) {\n",
    "        //Returns the contents of the file. \n",
    "          Pet pet = (Pet) in.readObject();\n",
    "\n",
    "        //Checks if the pet is alive (hasnt died the last time the game ended/quit). Outputs the attributes if pet is alive. \n",
    "          if (pet.alive) {\n",
    "              System.out.println(\"------------------------------------------------------------------------------\");\n",
    "              System.out.println(pet.name + \" | Hunger: \" + getHunger(pet.hunger) + \" | Happiness: \" + getHappiness(pet.happiness) + \" | Health: \" + getHealth(pet.health) + \" | Type: \" + pet.type);\n",
    "              System.out.println(\"------------------------------------------------------------------------------\");\n",
    "          } else {\n",
    "              System.out.println(\"------------------------------------------------------------------------------\");\n",
    "            //If the pet is not alive (the previous game ended in a game over) then the message below is output. \n",
    "              System.out.println(\"No current pet information exists\");\n",
    "          }\n",
    "\n",
    "        //If no file is found when loading the file then the message below is output. \n",
    "      } catch (FileNotFoundException e) {\n",
    "          System.out.println(\"------------------------------------------------------------------------------\");\n",
    "          System.out.println(\"No save file exists.\");\n",
    "          System.out.println(\"------------------------------------------------------------------------------\");\n",
    "        //If there is any other IO errors while loading the file then the stack trace is output for debugging. \n",
    "      } catch (IOException | ClassNotFoundException e) {\n",
    "          e.printStackTrace();\n",
    "      }\n",
    "  }\n",
    "  //END PetInfo\n",
    "\n",
    "\n",
    "//Method called gethealth that takes health as an argument. \n",
    "    public static String getHealth(int health) {\n",
    "      //Defines a new array with descriptive statuses for the health status of the animal. \n",
    "        String[] descriptions = {\"excellent\", \"good\", \"fair\", \"poor\", \"very poor\"};\n",
    "\n",
    "      //Depending on the integer level of the health it assigns one of these health statuses to the animal. \n",
    "        if (health >= 50) {\n",
    "            return descriptions[0];\n",
    "        } else if (health >= 40) {\n",
    "            return descriptions[1];\n",
    "        } else if (health >= 30) {\n",
    "            return descriptions[2];\n",
    "        } else if (health >= 20) {\n",
    "            return descriptions[3];\n",
    "        } else if (health >= 10) {\n",
    "            return descriptions[4];\n",
    "        } else if (health < 9) {\n",
    "          return descriptions[4];\n",
    "        } else {\n",
    "            return \"Invalid health value\";\n",
    "        }\n",
    "    }\n",
    "  //END GET HEALTH\n",
    "\n",
    "  //Method called gethunger that takes hunger as an argument.\n",
    "    public static String getHunger(int hunger) {\n",
    "      //Defines an array with descriptive values for hunger status for the animal. \n",
    "        String[] descriptions = {\"ravenous\", \"famished\", \"hungry\", \"content\", \"full\"};\n",
    "\n",
    "      //Depending on the integer hunger value it assigns one of these hunger statuses to the animal. \n",
    "        if (hunger <= 0) {\n",
    "            return descriptions[0];\n",
    "        } else if (hunger <= 10) {\n",
    "            return descriptions[1];\n",
    "        } else if (hunger <= 20) {\n",
    "            return descriptions[2];\n",
    "        } else if (hunger <= 30) {\n",
    "            return descriptions[3];\n",
    "        } else if (hunger <= 50) {\n",
    "            return descriptions[4];\n",
    "        } else if (hunger > 51 ) {\n",
    "            return descriptions[4];\n",
    "        } else {\n",
    "            return \"Invalid hunger value\";\n",
    "        }\n",
    "    }\n",
    "  //END GET HUNGER\n",
    "\n",
    "  //Method called gethappiness that takes happiness as an argument.\n",
    "    public static String getHappiness(int happiness) {\n",
    "      //Defines a new array with descriptive statuses to assign to the happiness level of the animal. \n",
    "        String[] descriptions = {\"Very Distressed\", \"Depressed\", \"Upset\", \"Content\", \"Happy\"};\n",
    "\n",
    "      //Depending on the integer happiness level a descriptive status is assigned to the animal. \n",
    "        if (happiness <= 0) {\n",
    "            return descriptions[0];\n",
    "        } else if (happiness <= 10) {\n",
    "            return descriptions[1];\n",
    "        } else if (happiness <= 20) {\n",
    "            return descriptions[2];\n",
    "        } else if (happiness <= 30) {\n",
    "            return descriptions[3];\n",
    "        } else if (happiness <= 50) {\n",
    "            return descriptions[4];\n",
    "        } else if (happiness > 51) {\n",
    "          return descriptions[4];\n",
    "        } else {\n",
    "            return \"Invalid happiness value\"; \n",
    "        }\n",
    "    }\n",
    "  //END GET HAPPINESS\n",
    "\n",
    "  //Method called VetPet.\n",
    "    public static void VetPet(Pet pet) {\n",
    "      //Adds 10 health to the pets health stored in record. \n",
    "        pet.health += 10;\n",
    "      //Outputs to the user that the pet has been cured and is now healthier. \n",
    "      System.out.println(pet.name + \" \" + \"was cured and is now healthy!\");\n",
    "            }\n",
    "\n",
    "  //END VETPET\n",
    "\n",
    "  //Method called feedPet\n",
    "    public static void feedPet(Pet pet) {\n",
    "      //Adds 10 hunger and 10 happiness to the pet attributes. \n",
    "        pet.hunger += 10;\n",
    "        pet.happiness += 5;\n",
    "      //Outputs to the user that the pet has been fed. \n",
    "        System.out.println(pet.name + \" \" + \"was fed and is now full and happy!\");\n",
    "    }\n",
    "//END FEEDPET\n",
    "\n",
    "  //Method called PlayPet. \n",
    "    public static void PlayPet(Pet pet) {\n",
    "      //Checks if the pet health is above 10, if so then it takes away hunger and increases happiness.\n",
    "        if (pet.health >= 10) {\n",
    "            pet.hunger -= 10;\n",
    "            pet.happiness += 5;\n",
    "          //Notifies the user that they have played with the pet. \n",
    "            System.out.println(\"you played with\" + \" \" + pet.name + \"!\");\n",
    "        } else {\n",
    "          //If the pet is below 10 health it is classified as too unwell to play and so must be taken to a vet first. \n",
    "            System.out.println(pet.name + \" is too unwell to go and play.\");\n",
    "        }\n",
    "    }\n",
    "}\n",
    "//END PLAYPET. "
   ]
  },
  {
   "cell_type": "markdown",
   "id": "529313f7-abfb-43d5-973c-dc297a629e85",
   "metadata": {},
   "source": [
    "## END OF DOCUMENT"
   ]
  }
 ],
 "metadata": {
  "kernelspec": {
   "display_name": "Java",
   "language": "java",
   "name": "java"
  },
  "language_info": {
   "codemirror_mode": "java",
   "file_extension": ".jshell",
   "mimetype": "text/x-java-source",
   "name": "Java",
   "pygments_lexer": "java",
   "version": "11.0.8+10-LTS"
  }
 },
 "nbformat": 4,
 "nbformat_minor": 5
}
