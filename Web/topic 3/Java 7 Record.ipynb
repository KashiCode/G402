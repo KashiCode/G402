{
 "cells": [
  {
   "cell_type": "markdown",
   "id": "aa898b5f-57e9-4b6f-ba8b-186ea4517190",
   "metadata": {},
   "source": [
    "# Short Assessed Programming Exercise 7: Records\n",
    "## Maks Ostrynski\n",
    "## Student ID: 230367485\n",
    "## 10/10/2023\n",
    "## Version 1"
   ]
  },
  {
   "cell_type": "markdown",
   "id": "2e75c876-9984-4b27-9abc-4d41994411df",
   "metadata": {},
   "source": [
    "## Summary of the Question\n",
    "\n",
    "Write a program that inputs and then prints information about the result of\r\n",
    "an election where two candidates stand. The program should ask for and be given information about each\r\n",
    "candidate as below, each stored in a separate record. It should then print out who won and their majority"
   ]
  },
  {
   "cell_type": "markdown",
   "id": "615cabf2-fecd-4964-a182-e057935f7ed4",
   "metadata": {},
   "source": [
    "## Program development\n",
    "\n",
    "In order to tackle this question i created one record called ElectionCandidate and four methods called main(), NewCandidate(), Winner and WinnerOutput. Below I will explain how each method functions and how it was tested to ensure its efficacy. In addition, i will provide information on how to run the entire program in jupyterLab. \n",
    "\n",
    "## <span style=\"color: blue;\"> ElectionCandidate</span>\n",
    "\n",
    "## Functionality & Implementation\n",
    "\n",
    "This record is called within the main() method where the results of NewCandidate are passed as parameters to this class in order to create a new election member. The information passed is then used to construct a new candidate with values assigned for name, party, votes and win value. \n"
   ]
  },
  {
   "cell_type": "code",
   "execution_count": null,
   "id": "71ff00a8-8375-415a-aac6-d299e4ddc3a2",
   "metadata": {},
   "outputs": [],
   "source": [
    "//Defines a class which serves as a record to store information about an election candidate.\n",
    "   class ElectionCandidate {\n",
    "    String name;\n",
    "    String party;\n",
    "    int votes;\n",
    "    boolean won;\n",
    "\n",
    "\n",
    "//Constructor method of the class. When a candidate is created the constructor assigns the correct attributes. \n",
    "    ElectionCandidate(String name, String party, int votes) {\n",
    "        this.name = name;\n",
    "        this.party = party;\n",
    "        this.votes = votes;\n",
    "        this.won = false; \n",
    "    }\n",
    "}\n",
    "//END RECORD. "
   ]
  },
  {
   "cell_type": "markdown",
   "id": "2eb05f42-e7cb-4e57-a484-019723be30c5",
   "metadata": {},
   "source": [
    "### Testing:\n",
    "\n",
    "In order to test the functionality of the method I called the method multiple times using the ElectionCandidate candidate1 = new ElectionCandidate(\"John Doe\", \"Independent\", 5000);\n",
    " statement and passed various variables through the method. "
   ]
  },
  {
   "cell_type": "code",
   "execution_count": null,
   "id": "fb774366-b917-4561-834f-65ab518689ae",
   "metadata": {},
   "outputs": [],
   "source": [
    "ElectionCandidate candidate1 = new ElectionCandidate(\"John\", \"Independent\", 500); //Calls the record and passes variables creating a new candidate."
   ]
  },
  {
   "cell_type": "code",
   "execution_count": null,
   "id": "dc510771-9d74-4cad-850b-3d6520e1e25a",
   "metadata": {},
   "outputs": [],
   "source": [
    "ElectionCandidate candidate2 = new ElectionCandidate(\"Milo\", \"conservative\", 400); //Calls the record and passes variables creating a new candidate."
   ]
  },
  {
   "cell_type": "markdown",
   "id": "35e97273-ceb1-4d69-9bbb-427673539314",
   "metadata": {},
   "source": [
    "## <span style=\"color: blue;\">Main()</span>\n",
    "\n",
    "## Functionality & Implementation\n",
    "\n",
    "The main method is called at the start of the program by the main() statement. The method first creates two election candidates by calling the Newcandidate method twice. Then the method calls the winner method and passes the election information as parameters. Finally the main method calls the WinnerOutput method and passess the candidate information. "
   ]
  },
  {
   "cell_type": "code",
   "execution_count": null,
   "id": "65ff3596-8046-4e2d-a74e-dbb9fb0d677b",
   "metadata": {},
   "outputs": [],
   "source": [
    "//Defines a new method called main. \n",
    "    public static void main() {\n",
    "\n",
    "        //Creates two new candidates by calling the createCandidate method.\n",
    "        ElectionCandidate candidate1 = NewCandidate();\n",
    "        ElectionCandidate candidate2 = NewCandidate();\n",
    "\n",
    "        //Calls the method that determines which party has the most votes. \n",
    "        Winner(candidate1, candidate2);\n",
    "\n",
    "        //Calls the method that outputs all of the information about the winner to the user. \n",
    "        WinnerOutput(candidate1, candidate2);\n",
    "    }\n",
    "//END MAIN"
   ]
  },
  {
   "cell_type": "markdown",
   "id": "b0d7ff56-8c4b-478d-955e-fa676f835880",
   "metadata": {},
   "source": [
    "### Testing:\n",
    "\n",
    "In order to test the functionality of the method I called the method multiple times using the Main(); statement and passed various variables through the method. "
   ]
  },
  {
   "cell_type": "code",
   "execution_count": null,
   "id": "eeb5c334-7377-47d2-b555-f7d2360287e7",
   "metadata": {},
   "outputs": [],
   "source": [
    "main(); //calls the main method. "
   ]
  },
  {
   "cell_type": "markdown",
   "id": "82ce46fc-92d0-49f8-92db-e83638ed86c2",
   "metadata": {},
   "source": [
    "## <span style=\"color: blue;\">NewCandidate()</span>\n",
    "\n",
    "## Functionality & Implementation\n",
    "\n",
    "The NewCandidate method is called by the main method. The method begins asking the user for the name of the candidate, the name of their party and the amount of votes they have recieved. There is a condition to check if the value is less than zero. If the value is less than zero it will prevent the program from running. The method then calls the election candidate record method while passing the variables assigned to each candidate variable to create a candidate record. "
   ]
  },
  {
   "cell_type": "code",
   "execution_count": null,
   "id": "512042f8-c108-42fc-958c-7482f42e1a8e",
   "metadata": {},
   "outputs": [],
   "source": [
    "    //Defines a new method called NewCandidate.\n",
    "    public static ElectionCandidate NewCandidate() {\n",
    "\n",
    "        //Defines a new scanner object to collect user inputs. \n",
    "        Scanner scanner = new Scanner(System.in);\n",
    "\n",
    "        //Asks the user for the name of the candidate and stores the information to a String variable. \n",
    "        System.out.print(\"What is the name of the candidate? \");\n",
    "        String name = scanner.nextLine();\n",
    "\n",
    "        //Asks the user for the name of the candidate and stores the information to a String variable. \n",
    "        System.out.print(\"What party did they stand for? \");\n",
    "        String party = scanner.nextLine();\n",
    "\n",
    "        //Creates a new integer called votes and enters a do loop \n",
    "        int votes;\n",
    "        do {\n",
    "            //Asks the user to input how many votes the party got and stores these to an integer variable. \n",
    "            System.out.print(\"How many votes did they gain? \");\n",
    "            votes = scanner.nextInt();\n",
    "            //If the user enters an invalid input the program will output an error.   \n",
    "            if (votes < 0) {\n",
    "                System.out.println(\"Invalid input. Please enter a positive number of votes.\");\n",
    "            }\n",
    "\n",
    "        //Enters a while loop that runs until votes is less than 0. \n",
    "        } while (votes < 0);\n",
    "\n",
    "        //Creates a new electioncandidate using the record class defined above and passes the information about the candidate to the class. \n",
    "        return new ElectionCandidate(name, party, votes);\n",
    "    }\n",
    "//END NewCandidate."
   ]
  },
  {
   "cell_type": "markdown",
   "id": "8415f111-831e-4869-b85b-e3b06bd3aafe",
   "metadata": {},
   "source": [
    "### Testing:\n",
    "\n",
    "In order to test the functionality of the method I called the method multiple times using the NewCandidate(); statement and passed various variables through the method. "
   ]
  },
  {
   "cell_type": "code",
   "execution_count": null,
   "id": "01ac2f60-45bb-4008-86f6-5e9e84d5f19f",
   "metadata": {},
   "outputs": [],
   "source": [
    "NewCandidate() //Calls the new candidate method. "
   ]
  },
  {
   "cell_type": "markdown",
   "id": "be48887c-0119-487f-b5c6-80f1e81077d1",
   "metadata": {},
   "source": [
    "## <span style=\"color: blue;\">Winner()</span>\n",
    "\n",
    "## Functionality & Implementation\n",
    "\n",
    "The Winner method is called by the main method. The winner method works by taking the vote values stored for each candidate and comparing them to eachother. If one of the values is higher for a party then the boolean value of won is TRUE otherwise it is set to False."
   ]
  },
  {
   "cell_type": "code",
   "execution_count": null,
   "id": "7848461b-6ee8-44d1-88c8-ef945f5c81b2",
   "metadata": {},
   "outputs": [],
   "source": [
    "//Defines a method called winner which recieves several variables as parameters to process. \n",
    "    public static void Winner(ElectionCandidate candidate1, ElectionCandidate candidate2) {\n",
    "\n",
    "        //If the total votes of candidate 1 is greater than candidate 2 then the boolean value is set to True.\n",
    "        if (candidate1.votes > candidate2.votes) {\n",
    "            candidate1.won = true;\n",
    "        //If the total votes of candidate 2 is greater than candidate 1 then the boolean value is set to false. \n",
    "        } else if (candidate2.votes > candidate1.votes) {\n",
    "            candidate2.won = true;\n",
    "        }\n",
    "    }\n",
    "//END Winner\n"
   ]
  },
  {
   "cell_type": "markdown",
   "id": "f903f7d3-5a66-44ba-811b-d8df7cb57d97",
   "metadata": {},
   "source": [
    "### Testing:\n",
    "\n",
    "In order to test the functionality of the method I called the method multiple times using the Winner(); statement and passed various variables through the method. "
   ]
  },
  {
   "cell_type": "code",
   "execution_count": null,
   "id": "c22916e2-0810-4a26-817b-c58e952dbf43",
   "metadata": {},
   "outputs": [],
   "source": [
    "Winner(); //calls the winner method. "
   ]
  },
  {
   "cell_type": "markdown",
   "id": "fbb292a9-4e05-4b3b-97a8-ba5c1cc70be6",
   "metadata": {},
   "source": [
    "## <span style=\"color: blue;\">WinnerOutput()</span>\n",
    "\n",
    "## Functionality & Implementation\n",
    "\n",
    "The WinnerOutput method is called by the main method. The method begins by comparing the boolean values of won stored in each candidate record. Then the method defines a final variable called total which calculates the how many votes in total the winning party won by. Then the method checks if the input is equal to zero, if so then it outputs that a draw has happened. Otherwise a message is output to the user stating the winning party, winning leader and how many votes total they won by."
   ]
  },
  {
   "cell_type": "code",
   "execution_count": null,
   "id": "d661942f-e37d-4d04-bff1-f72d198688f4",
   "metadata": {},
   "outputs": [],
   "source": [
    "//Defines a method called WinnerOutput which recieves two record variables as parameters. \n",
    "    public static void WinnerOutput(ElectionCandidate candidate1, ElectionCandidate candidate2) {\n",
    "        \n",
    "        //Compares the boolean value of won stored in each record. In order to find out which group won. \n",
    "        ElectionCandidate winner = candidate1.won ? candidate1 : candidate2;\n",
    "        ElectionCandidate loser = candidate1.won ? candidate2 : candidate1;\n",
    "\n",
    "        //Defines a new integer called total and calculates the winners votes from the loser votes by subtracting them. \n",
    "        final int total = Math.abs(winner.votes - loser.votes);\n",
    "\n",
    "        //IF the total is zero then the program outputs that there is a draw. \n",
    "        if (total == 0) {\n",
    "            System.out.println(\"It's a draw. There will be a new election.\");\n",
    "        //Otherwise the program outputs the winning name, winning party and the total votes to the user. \n",
    "        } else {\n",
    "            System.out.println(winner.name + \" of \" + winner.party + \" is the winner with a majority of \" + total + \" votes.\");\n",
    "        }\n",
    "    }\n",
    "//END WinnerOutput"
   ]
  },
  {
   "cell_type": "markdown",
   "id": "dc16ea64-e084-433d-9a5c-f88b385f8e2a",
   "metadata": {},
   "source": [
    "### Testing:\n",
    "\n",
    "In order to test the functionality of the method I called the method multiple times using the WinnerOutput(); statement and passed various variables through the method. "
   ]
  },
  {
   "cell_type": "code",
   "execution_count": null,
   "id": "a14e9d2f-1a08-4360-98df-779f20add6f3",
   "metadata": {},
   "outputs": [],
   "source": [
    "WinnerOutput(); //Calls the winnerOutput method"
   ]
  },
  {
   "cell_type": "markdown",
   "id": "4f7bd422-539a-4e88-859a-714b3c786409",
   "metadata": {},
   "source": [
    "### Final product:\n",
    "\n",
    "For the completed program I have added additional comments using the // statement. I have also added a detailed description to my program, detailing the author, date created and a description of the entire program. "
   ]
  },
  {
   "cell_type": "code",
   "execution_count": 2,
   "id": "c1cbf291-e2fc-40af-bfcc-90c3278edfbe",
   "metadata": {},
   "outputs": [
    {
     "name": "stdout",
     "output_type": "stream",
     "text": [
      "What is the name of the candidate? "
     ]
    },
    {
     "name": "stdin",
     "output_type": "stream",
     "text": [
      " penis\n"
     ]
    },
    {
     "name": "stdout",
     "output_type": "stream",
     "text": [
      "What party did they stand for? "
     ]
    },
    {
     "name": "stdin",
     "output_type": "stream",
     "text": [
      " deez nuts\n"
     ]
    },
    {
     "name": "stdout",
     "output_type": "stream",
     "text": [
      "How many votes did they gain? "
     ]
    },
    {
     "name": "stdin",
     "output_type": "stream",
     "text": [
      " 2000\n"
     ]
    },
    {
     "name": "stdout",
     "output_type": "stream",
     "text": [
      "What is the name of the candidate? "
     ]
    },
    {
     "name": "stdin",
     "output_type": "stream",
     "text": [
      " artem\n"
     ]
    },
    {
     "name": "stdout",
     "output_type": "stream",
     "text": [
      "What party did they stand for? "
     ]
    },
    {
     "name": "stdin",
     "output_type": "stream",
     "text": [
      " did you pray today\n"
     ]
    },
    {
     "name": "stdout",
     "output_type": "stream",
     "text": [
      "How many votes did they gain? "
     ]
    },
    {
     "name": "stdin",
     "output_type": "stream",
     "text": [
      " 0\n"
     ]
    },
    {
     "name": "stdout",
     "output_type": "stream",
     "text": [
      "penis of deez nuts is the winner with a majority of 2000 votes.\n"
     ]
    }
   ],
   "source": [
    "/* ***************************************\n",
    "  @author    Maks\n",
    "  @date      10 October 2023\n",
    "  @version   1\n",
    "\n",
    "Election Results Information: a program that inputs and then prints information about the result of\n",
    "an election where two candidates stand. \n",
    "    \n",
    "****************************************/\n",
    "\n",
    "//Defines a class which serves as a record to store information about an election candidate.\n",
    "   class ElectionCandidate {\n",
    "    String name;\n",
    "    String party;\n",
    "    int votes;\n",
    "    boolean won;\n",
    "\n",
    "\n",
    "//Constructor method of the class. When a candidate is created the constructor assigns the correct attributes. \n",
    "    ElectionCandidate(String name, String party, int votes) {\n",
    "        this.name = name;\n",
    "        this.party = party;\n",
    "        this.votes = votes;\n",
    "        this.won = false; \n",
    "    }\n",
    "}\n",
    "//END RECORD. \n",
    "\n",
    "//Defines a new method called main. \n",
    "    public static void main() {\n",
    "\n",
    "        //Creates two new candidates by calling the createCandidate method.\n",
    "        ElectionCandidate candidate1 = NewCandidate();\n",
    "        ElectionCandidate candidate2 = NewCandidate();\n",
    "\n",
    "        //Calls the method that determines which party has the most votes. \n",
    "        Winner(candidate1, candidate2);\n",
    "\n",
    "        //Calls the method that outputs all of the information about the winner to the user. \n",
    "        WinnerOutput(candidate1, candidate2);\n",
    "    }\n",
    "//END MAIN\n",
    "\n",
    "    //Defines a new method called NewCandidate.\n",
    "    public static ElectionCandidate NewCandidate() {\n",
    "\n",
    "        //Defines a new scanner object to collect user inputs. \n",
    "        Scanner scanner = new Scanner(System.in);\n",
    "\n",
    "        //Asks the user for the name of the candidate and stores the information to a String variable. \n",
    "        System.out.print(\"What is the name of the candidate? \");\n",
    "        String name = scanner.nextLine();\n",
    "\n",
    "        //Asks the user for the name of the candidate and stores the information to a String variable. \n",
    "        System.out.print(\"What party did they stand for? \");\n",
    "        String party = scanner.nextLine();\n",
    "\n",
    "        //Creates a new integer called votes and enters a do loop \n",
    "        int votes;\n",
    "        do {\n",
    "            //Asks the user to input how many votes the party got and stores these to an integer variable. \n",
    "            System.out.print(\"How many votes did they gain? \");\n",
    "            votes = scanner.nextInt();\n",
    "            //If the user enters an invalid input the program will output an error.   \n",
    "            if (votes < 0) {\n",
    "                System.out.println(\"Invalid input. Please enter a positive number of votes.\");\n",
    "            }\n",
    "\n",
    "        //Enters a while loop that runs until votes is less than 0. \n",
    "        } while (votes < 0);\n",
    "\n",
    "        //Creates a new electioncandidate using the record class defined above and passes the information about the candidate to the class. \n",
    "        return new ElectionCandidate(name, party, votes);\n",
    "    }\n",
    "//END NewCandidate.\n",
    "\n",
    "\n",
    "\n",
    "//Defines a method called winner which recieves several variables as parameters to process. \n",
    "    public static void Winner(ElectionCandidate candidate1, ElectionCandidate candidate2) {\n",
    "\n",
    "        //If the total votes of candidate 1 is greater than candidate 2 then the boolean value is set to True.\n",
    "        if (candidate1.votes > candidate2.votes) {\n",
    "            candidate1.won = true;\n",
    "        //If the total votes of candidate 2 is greater than candidate 1 then the boolean value is set to false. \n",
    "        } else if (candidate2.votes > candidate1.votes) {\n",
    "            candidate2.won = true;\n",
    "        }\n",
    "    }\n",
    "//END Winner\n",
    "\n",
    "\n",
    "//Defines a method called WinnerOutput which recieves two record variables as parameters. \n",
    "    public static void WinnerOutput(ElectionCandidate candidate1, ElectionCandidate candidate2) {\n",
    "        \n",
    "        //Compares the boolean value of won stored in each record. In order to find out which group won. \n",
    "        ElectionCandidate winner = candidate1.won ? candidate1 : candidate2;\n",
    "        ElectionCandidate loser = candidate1.won ? candidate2 : candidate1;\n",
    "\n",
    "        //Defines a new integer called total and calculates the winners votes from the loser votes by subtracting them. \n",
    "        final int total = Math.abs(winner.votes - loser.votes);\n",
    "\n",
    "        //IF the total is zero then the program outputs that there is a draw. \n",
    "        if (total == 0) {\n",
    "            System.out.println(\"It's a draw. There will be a new election.\");\n",
    "        //Otherwise the program outputs the winning name, winning party and the total votes to the user. \n",
    "        } else {\n",
    "            System.out.println(winner.name + \" of \" + winner.party + \" is the winner with a majority of \" + total + \" votes.\");\n",
    "        }\n",
    "    }\n",
    "//END WinnerOutput\n",
    "\n",
    "main(); //Calls the main method at the start of the program."
   ]
  },
  {
   "cell_type": "markdown",
   "id": "39a35a59-9de5-4606-86e9-8096ff694a07",
   "metadata": {},
   "source": [
    "## END OF DOCUMENT"
   ]
  }
 ],
 "metadata": {
  "kernelspec": {
   "display_name": "Java",
   "language": "java",
   "name": "java"
  },
  "language_info": {
   "codemirror_mode": "java",
   "file_extension": ".jshell",
   "mimetype": "text/x-java-source",
   "name": "Java",
   "pygments_lexer": "java",
   "version": "11.0.8+10-LTS"
  }
 },
 "nbformat": 4,
 "nbformat_minor": 5
}
